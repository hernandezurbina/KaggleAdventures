{
 "cells": [
  {
   "cell_type": "code",
   "execution_count": 1,
   "metadata": {},
   "outputs": [],
   "source": [
    "import tensorflow as tf\n",
    "from tensorflow.keras.preprocessing.image import ImageDataGenerator\n",
    "import os"
   ]
  },
  {
   "cell_type": "code",
   "execution_count": 96,
   "metadata": {},
   "outputs": [],
   "source": [
    "import numpy as np"
   ]
  },
  {
   "cell_type": "markdown",
   "metadata": {},
   "source": [
    "# Train"
   ]
  },
  {
   "cell_type": "code",
   "execution_count": 2,
   "metadata": {},
   "outputs": [],
   "source": [
    "base_dir = 'datasets/dogs_vs_cats/'\n",
    "train_dir = os.path.join(base_dir, 'train')"
   ]
  },
  {
   "cell_type": "code",
   "execution_count": 3,
   "metadata": {},
   "outputs": [],
   "source": [
    "train_dogs_dir = os.path.join(train_dir, 'dogs')\n",
    "train_cats_dir = os.path.join(train_dir, 'cats')"
   ]
  },
  {
   "cell_type": "code",
   "execution_count": 4,
   "metadata": {},
   "outputs": [],
   "source": [
    "generator = ImageDataGenerator(rescale=1.0/255., validation_split=0.3)"
   ]
  },
  {
   "cell_type": "code",
   "execution_count": 5,
   "metadata": {},
   "outputs": [
    {
     "name": "stdout",
     "output_type": "stream",
     "text": [
      "Found 17500 images belonging to 2 classes.\n",
      "Found 7500 images belonging to 2 classes.\n"
     ]
    }
   ],
   "source": [
    "train_generator = generator.flow_from_directory(train_dir,\n",
    "                                                batch_size=20,\n",
    "                                                class_mode='binary',\n",
    "                                                target_size=(150, 150),\n",
    "                                                subset='training'\n",
    "                                               )\n",
    "\n",
    "val_generator = generator.flow_from_directory(train_dir,\n",
    "                                                batch_size=20,\n",
    "                                                class_mode='binary',\n",
    "                                                target_size=(150, 150),\n",
    "                                                subset='validation'\n",
    "                                               )"
   ]
  },
  {
   "cell_type": "code",
   "execution_count": 6,
   "metadata": {},
   "outputs": [],
   "source": [
    "train_cats_dir = os.path.join(train_dir, 'cats')\n",
    "train_dogs_dir = os.path.join(train_dir, 'dogs')"
   ]
  },
  {
   "cell_type": "code",
   "execution_count": 7,
   "metadata": {},
   "outputs": [],
   "source": [
    "train_cats_fnames = os.listdir(train_cats_dir)\n",
    "train_dogs_fnames = os.listdir(train_dogs_dir)"
   ]
  },
  {
   "cell_type": "code",
   "execution_count": 8,
   "metadata": {},
   "outputs": [
    {
     "name": "stdout",
     "output_type": "stream",
     "text": [
      "['cat.2587.jpg', 'cat.5777.jpg', 'cat.5479.jpg', 'cat.2561.jpg', 'cat.6315.jpg', 'cat.12084.jpg', 'cat.3573.jpg', 'cat.6867.jpg', 'cat.4188.jpg', 'cat.1035.jpg']\n",
      "['dog.8939.jpg', 'dog.4870.jpg', 'dog.6630.jpg', 'dog.6063.jpg', 'dog.12330.jpg', 'dog.5347.jpg', 'dog.3869.jpg', 'dog.11833.jpg', 'dog.3787.jpg', 'dog.9037.jpg']\n"
     ]
    }
   ],
   "source": [
    "print(train_cats_fnames[:10])\n",
    "print(train_dogs_fnames[:10])"
   ]
  },
  {
   "cell_type": "code",
   "execution_count": 9,
   "metadata": {},
   "outputs": [],
   "source": [
    "import matplotlib.image as mpimg\n",
    "import matplotlib.pyplot as plt\n",
    "%matplotlib inline"
   ]
  },
  {
   "cell_type": "code",
   "execution_count": 10,
   "metadata": {},
   "outputs": [],
   "source": [
    "from tensorflow.keras.models import Sequential\n",
    "from tensorflow.keras.layers import Conv2D, MaxPooling2D, Flatten, Dense"
   ]
  },
  {
   "cell_type": "code",
   "execution_count": 57,
   "metadata": {},
   "outputs": [],
   "source": [
    "from tensorflow.keras.layers import Dropout, BatchNormalization\n",
    "from tensorflow.keras.regularizers import l1, l2"
   ]
  },
  {
   "cell_type": "code",
   "execution_count": 13,
   "metadata": {},
   "outputs": [],
   "source": [
    "from tensorflow.keras.optimizers import RMSprop"
   ]
  },
  {
   "cell_type": "code",
   "execution_count": 28,
   "metadata": {},
   "outputs": [],
   "source": [
    "train_histories = []"
   ]
  },
  {
   "cell_type": "code",
   "execution_count": 52,
   "metadata": {},
   "outputs": [],
   "source": [
    "### model 0 and 1:\n",
    "# model = Sequential([\n",
    "#     Conv2D(16, (3, 3), activation='relu', input_shape=(150, 150, 3)),\n",
    "#     MaxPooling2D(2, 2),\n",
    "#     Conv2D(32, (3, 3), activation='relu'),\n",
    "#     MaxPooling2D(2, 2),\n",
    "#     Conv2D(64, (3, 3), activation='relu'),\n",
    "#     MaxPooling2D(2, 2),\n",
    "#     Flatten(),\n",
    "#     Dropout(0.5),\n",
    "#     Dense(512, activation='relu'),\n",
    "#     Dropout(0.5),\n",
    "#     Dense(1, activation='sigmoid')\n",
    "# ])"
   ]
  },
  {
   "cell_type": "code",
   "execution_count": 46,
   "metadata": {},
   "outputs": [],
   "source": [
    "### model 2 and 3:\n",
    "# model = Sequential([\n",
    "#     Conv2D(16, (3, 3), activation='relu', input_shape=(150, 150, 3)),\n",
    "#     MaxPooling2D(2, 2),\n",
    "#     Conv2D(32, (3, 3), activation='relu'),\n",
    "#     MaxPooling2D(2, 2),\n",
    "#     #Conv2D(64, (3, 3), activation='relu'),\n",
    "#     Conv2D(64, (3, 3), activation='relu', kernel_regularizer=l2(l=0.01)),\n",
    "#     MaxPooling2D(2, 2),\n",
    "#     Flatten(),\n",
    "#     Dense(512, activation='relu'),\n",
    "#     Dropout(0.5),\n",
    "#     Dense(1, activation='sigmoid')\n",
    "# ])"
   ]
  },
  {
   "cell_type": "code",
   "execution_count": 71,
   "metadata": {},
   "outputs": [],
   "source": [
    "### model 4 and 5:\n",
    "# model = Sequential([\n",
    "#     BatchNormalization(input_shape=(150, 150, 3)),\n",
    "#     Conv2D(16, (3, 3), activation='relu'),\n",
    "#     MaxPooling2D(2, 2),\n",
    "#     Conv2D(32, (3, 3), activation='relu'),\n",
    "#     MaxPooling2D(2, 2),\n",
    "#     Conv2D(64, (3, 3), activation='relu'),\n",
    "#     MaxPooling2D(2, 2),\n",
    "#     Flatten(),\n",
    "#     Dropout(0.5),\n",
    "#     Dense(512, activation='relu'),\n",
    "#     Dropout(0.5),\n",
    "#     Dense(1, activation='sigmoid')\n",
    "# ])"
   ]
  },
  {
   "cell_type": "code",
   "execution_count": 129,
   "metadata": {},
   "outputs": [],
   "source": [
    "### model 6 and 7:\n",
    "# model = Sequential([\n",
    "#     BatchNormalization(input_shape=(150, 150, 3)),\n",
    "#     Conv2D(16, (3, 3), activation='relu'),\n",
    "#     BatchNormalization(),\n",
    "#     MaxPooling2D(2, 2),\n",
    "#     Conv2D(32, (3, 3), activation='relu'),\n",
    "#     MaxPooling2D(2, 2),\n",
    "#     Conv2D(64, (3, 3), activation='relu', kernel_regularizer=l2(l=0.01)),\n",
    "#     MaxPooling2D(2, 2),\n",
    "#     Flatten(),\n",
    "#     Dropout(0.5),\n",
    "#     Dense(512, activation='relu'),\n",
    "#     Dropout(0.5),\n",
    "#     Dense(1, activation='sigmoid')\n",
    "# ])"
   ]
  },
  {
   "cell_type": "code",
   "execution_count": 197,
   "metadata": {},
   "outputs": [],
   "source": [
    "### model 8, 9, 11, 12, 13, 14, 15:\n",
    "# model = Sequential([\n",
    "#     BatchNormalization(input_shape=(150, 150, 3)),\n",
    "#     Conv2D(32, (3, 3), activation='relu'), ### prev 16\n",
    "#     MaxPooling2D(2, 2),\n",
    "#     Conv2D(32, (3, 3), activation='relu'),\n",
    "#     MaxPooling2D(2, 2),\n",
    "#     Conv2D(64, (3, 3), activation='relu'), ## prev 32\n",
    "#     MaxPooling2D(2, 2),\n",
    "#     Conv2D(64, (3, 3), activation='relu', kernel_regularizer=l2(l=0.01)), ## prev 64\n",
    "#     MaxPooling2D(2, 2),\n",
    "#     Conv2D(128, (3, 3), activation='relu', kernel_regularizer=l2(l=0.01)), ## prev 64\n",
    "#     MaxPooling2D(2, 2),   \n",
    "#     Flatten(),\n",
    "#     Dropout(0.5),\n",
    "#     Dense(512, activation='relu'),\n",
    "#     Dropout(0.5),\n",
    "#     Dense(1, activation='sigmoid')\n",
    "# ])"
   ]
  },
  {
   "cell_type": "code",
   "execution_count": 220,
   "metadata": {},
   "outputs": [],
   "source": [
    "### model 16, 17, 18:\n",
    "model = Sequential([\n",
    "    BatchNormalization(input_shape=(150, 150, 3)),\n",
    "    Conv2D(16, (3, 3), activation='relu', padding='same'), \n",
    "    MaxPooling2D(2, 2),    \n",
    "    Conv2D(32, (3, 3), activation='relu', padding='same'),\n",
    "    MaxPooling2D(2, 2),\n",
    "    Conv2D(32, (3, 3), activation='relu', padding='same'),\n",
    "    MaxPooling2D(2, 2),\n",
    "    Conv2D(64, (3, 3), activation='relu', padding='same'),\n",
    "    MaxPooling2D(2, 2),\n",
    "    Conv2D(64, (3, 3), activation='relu', kernel_regularizer=l2(l=0.01), padding='same'), ## prev 64\n",
    "    MaxPooling2D(2, 2),\n",
    "    Conv2D(128, (3, 3), activation='relu', kernel_regularizer=l2(l=0.01), padding='same'), ## prev 64\n",
    "    MaxPooling2D(2, 2),   \n",
    "    Flatten(),\n",
    "    Dropout(0.5),\n",
    "    Dense(512, activation='relu'),\n",
    "    Dropout(0.5),\n",
    "    Dense(1, activation='sigmoid')\n",
    "])"
   ]
  },
  {
   "cell_type": "code",
   "execution_count": 150,
   "metadata": {},
   "outputs": [],
   "source": [
    "### model 10:\n",
    "# model = Sequential([\n",
    "#     BatchNormalization(input_shape=(150, 150, 3)),\n",
    "#     Conv2D(32, (3, 3), activation='relu'),\n",
    "#     MaxPooling2D(2, 2),\n",
    "#     Conv2D(64, (3, 3), activation='relu',kernel_regularizer=l2(l=0.01)),\n",
    "#     MaxPooling2D(2, 2),\n",
    "#     Conv2D(128, (3, 3), activation='relu', kernel_regularizer=l2(l=0.01)),\n",
    "#     MaxPooling2D(2, 2),\n",
    "#     Flatten(),\n",
    "#     Dropout(0.5),\n",
    "#     Dense(512, activation='relu'),\n",
    "#     Dropout(0.5),\n",
    "#     Dense(1, activation='sigmoid')\n",
    "# ])"
   ]
  },
  {
   "cell_type": "code",
   "execution_count": 221,
   "metadata": {},
   "outputs": [
    {
     "name": "stdout",
     "output_type": "stream",
     "text": [
      "Model: \"sequential_46\"\n",
      "_________________________________________________________________\n",
      "Layer (type)                 Output Shape              Param #   \n",
      "=================================================================\n",
      "batch_normalization_40 (Batc (None, 150, 150, 3)       12        \n",
      "_________________________________________________________________\n",
      "conv2d_213 (Conv2D)          (None, 150, 150, 16)      448       \n",
      "_________________________________________________________________\n",
      "max_pooling2d_213 (MaxPoolin (None, 75, 75, 16)        0         \n",
      "_________________________________________________________________\n",
      "conv2d_214 (Conv2D)          (None, 75, 75, 32)        4640      \n",
      "_________________________________________________________________\n",
      "max_pooling2d_214 (MaxPoolin (None, 37, 37, 32)        0         \n",
      "_________________________________________________________________\n",
      "conv2d_215 (Conv2D)          (None, 37, 37, 32)        9248      \n",
      "_________________________________________________________________\n",
      "max_pooling2d_215 (MaxPoolin (None, 18, 18, 32)        0         \n",
      "_________________________________________________________________\n",
      "conv2d_216 (Conv2D)          (None, 18, 18, 64)        18496     \n",
      "_________________________________________________________________\n",
      "max_pooling2d_216 (MaxPoolin (None, 9, 9, 64)          0         \n",
      "_________________________________________________________________\n",
      "conv2d_217 (Conv2D)          (None, 9, 9, 64)          36928     \n",
      "_________________________________________________________________\n",
      "max_pooling2d_217 (MaxPoolin (None, 4, 4, 64)          0         \n",
      "_________________________________________________________________\n",
      "conv2d_218 (Conv2D)          (None, 4, 4, 128)         73856     \n",
      "_________________________________________________________________\n",
      "max_pooling2d_218 (MaxPoolin (None, 2, 2, 128)         0         \n",
      "_________________________________________________________________\n",
      "flatten_46 (Flatten)         (None, 512)               0         \n",
      "_________________________________________________________________\n",
      "dropout_85 (Dropout)         (None, 512)               0         \n",
      "_________________________________________________________________\n",
      "dense_94 (Dense)             (None, 512)               262656    \n",
      "_________________________________________________________________\n",
      "dropout_86 (Dropout)         (None, 512)               0         \n",
      "_________________________________________________________________\n",
      "dense_95 (Dense)             (None, 1)                 513       \n",
      "=================================================================\n",
      "Total params: 406,797\n",
      "Trainable params: 406,791\n",
      "Non-trainable params: 6\n",
      "_________________________________________________________________\n"
     ]
    }
   ],
   "source": [
    "model.summary()"
   ]
  },
  {
   "cell_type": "code",
   "execution_count": 222,
   "metadata": {},
   "outputs": [],
   "source": [
    "model.compile(\n",
    "    optimizer=RMSprop(lr=0.001),\n",
    "    loss='binary_crossentropy',\n",
    "    metrics=['accuracy']\n",
    ")"
   ]
  },
  {
   "cell_type": "code",
   "execution_count": 223,
   "metadata": {
    "scrolled": true
   },
   "outputs": [
    {
     "name": "stdout",
     "output_type": "stream",
     "text": [
      "Epoch 1/40\n",
      "875/875 - 124s - loss: 0.6858 - accuracy: 0.6240 - val_loss: 0.5697 - val_accuracy: 0.7057\n",
      "Epoch 2/40\n",
      "875/875 - 124s - loss: 0.5456 - accuracy: 0.7399 - val_loss: 0.4882 - val_accuracy: 0.7780\n",
      "Epoch 3/40\n",
      "875/875 - 124s - loss: 0.4704 - accuracy: 0.7903 - val_loss: 0.4166 - val_accuracy: 0.8232\n",
      "Epoch 4/40\n",
      "875/875 - 124s - loss: 0.4025 - accuracy: 0.8341 - val_loss: 0.3974 - val_accuracy: 0.8471\n",
      "Epoch 5/40\n",
      "875/875 - 123s - loss: 0.3586 - accuracy: 0.8607 - val_loss: 0.3335 - val_accuracy: 0.8699\n",
      "Epoch 6/40\n",
      "875/875 - 123s - loss: 0.3284 - accuracy: 0.8769 - val_loss: 0.3593 - val_accuracy: 0.8615\n",
      "Epoch 7/40\n",
      "875/875 - 124s - loss: 0.3011 - accuracy: 0.8870 - val_loss: 0.2906 - val_accuracy: 0.8900\n",
      "Epoch 8/40\n",
      "875/875 - 123s - loss: 0.2848 - accuracy: 0.8945 - val_loss: 0.2906 - val_accuracy: 0.8979\n",
      "Epoch 9/40\n",
      "875/875 - 123s - loss: 0.2683 - accuracy: 0.9028 - val_loss: 0.2958 - val_accuracy: 0.9017\n",
      "Epoch 10/40\n",
      "875/875 - 123s - loss: 0.2576 - accuracy: 0.9082 - val_loss: 0.3108 - val_accuracy: 0.9053\n",
      "Epoch 11/40\n",
      "875/875 - 124s - loss: 0.2521 - accuracy: 0.9115 - val_loss: 0.3013 - val_accuracy: 0.8963\n",
      "Epoch 12/40\n",
      "875/875 - 123s - loss: 0.2438 - accuracy: 0.9155 - val_loss: 0.2675 - val_accuracy: 0.9004\n",
      "Epoch 13/40\n",
      "875/875 - 124s - loss: 0.2390 - accuracy: 0.9174 - val_loss: 0.2951 - val_accuracy: 0.8881\n",
      "Epoch 14/40\n",
      "875/875 - 124s - loss: 0.2326 - accuracy: 0.9211 - val_loss: 0.2878 - val_accuracy: 0.9001\n",
      "Epoch 15/40\n",
      "875/875 - 123s - loss: 0.2255 - accuracy: 0.9230 - val_loss: 0.3297 - val_accuracy: 0.8853\n",
      "Epoch 16/40\n",
      "875/875 - 123s - loss: 0.2280 - accuracy: 0.9257 - val_loss: 0.2706 - val_accuracy: 0.8999\n",
      "Epoch 17/40\n",
      "875/875 - 124s - loss: 0.2190 - accuracy: 0.9278 - val_loss: 0.2888 - val_accuracy: 0.9084\n",
      "Epoch 18/40\n",
      "875/875 - 124s - loss: 0.2191 - accuracy: 0.9292 - val_loss: 0.3040 - val_accuracy: 0.9099\n",
      "Epoch 19/40\n",
      "875/875 - 124s - loss: 0.2209 - accuracy: 0.9285 - val_loss: 0.2944 - val_accuracy: 0.8975\n",
      "Epoch 20/40\n",
      "875/875 - 124s - loss: 0.2076 - accuracy: 0.9334 - val_loss: 0.2344 - val_accuracy: 0.9128\n",
      "Epoch 21/40\n",
      "875/875 - 124s - loss: 0.2124 - accuracy: 0.9330 - val_loss: 0.2813 - val_accuracy: 0.8976\n",
      "Epoch 22/40\n",
      "875/875 - 123s - loss: 0.2079 - accuracy: 0.9339 - val_loss: 0.2702 - val_accuracy: 0.8988\n",
      "Epoch 23/40\n",
      "875/875 - 124s - loss: 0.1970 - accuracy: 0.9375 - val_loss: 0.4069 - val_accuracy: 0.8783\n",
      "Epoch 24/40\n",
      "875/875 - 123s - loss: 0.2003 - accuracy: 0.9357 - val_loss: 0.4028 - val_accuracy: 0.9111\n",
      "Epoch 25/40\n",
      "875/875 - 124s - loss: 0.1987 - accuracy: 0.9366 - val_loss: 0.2658 - val_accuracy: 0.9113\n",
      "Epoch 26/40\n",
      "875/875 - 123s - loss: 0.2025 - accuracy: 0.9355 - val_loss: 0.2720 - val_accuracy: 0.9132\n",
      "Epoch 27/40\n",
      "875/875 - 124s - loss: 0.1966 - accuracy: 0.9378 - val_loss: 0.2982 - val_accuracy: 0.9105\n",
      "Epoch 28/40\n",
      "875/875 - 124s - loss: 0.1970 - accuracy: 0.9379 - val_loss: 0.2873 - val_accuracy: 0.9196\n",
      "Epoch 29/40\n",
      "875/875 - 123s - loss: 0.1988 - accuracy: 0.9399 - val_loss: 0.2791 - val_accuracy: 0.9144\n",
      "Epoch 30/40\n",
      "875/875 - 123s - loss: 0.1970 - accuracy: 0.9391 - val_loss: 0.3209 - val_accuracy: 0.9120\n",
      "Epoch 31/40\n",
      "875/875 - 123s - loss: 0.1985 - accuracy: 0.9391 - val_loss: 0.2563 - val_accuracy: 0.9112\n",
      "Epoch 32/40\n",
      "875/875 - 123s - loss: 0.1977 - accuracy: 0.9402 - val_loss: 0.3303 - val_accuracy: 0.9012\n",
      "Epoch 33/40\n",
      "875/875 - 124s - loss: 0.1997 - accuracy: 0.9408 - val_loss: 0.2662 - val_accuracy: 0.9101\n",
      "Epoch 34/40\n",
      "875/875 - 124s - loss: 0.1858 - accuracy: 0.9426 - val_loss: 0.3322 - val_accuracy: 0.8979\n",
      "Epoch 35/40\n",
      "875/875 - 123s - loss: 0.1914 - accuracy: 0.9411 - val_loss: 0.4102 - val_accuracy: 0.8865\n",
      "Epoch 36/40\n",
      "875/875 - 124s - loss: 0.1880 - accuracy: 0.9411 - val_loss: 0.3322 - val_accuracy: 0.9129\n",
      "Epoch 37/40\n",
      "875/875 - 123s - loss: 0.1889 - accuracy: 0.9410 - val_loss: 0.2605 - val_accuracy: 0.9115\n",
      "Epoch 38/40\n",
      "875/875 - 124s - loss: 0.1900 - accuracy: 0.9426 - val_loss: 0.2797 - val_accuracy: 0.9052\n",
      "Epoch 39/40\n",
      "875/875 - 123s - loss: 0.1861 - accuracy: 0.9408 - val_loss: 0.2940 - val_accuracy: 0.8964\n",
      "Epoch 40/40\n",
      "875/875 - 124s - loss: 0.1907 - accuracy: 0.9430 - val_loss: 0.2884 - val_accuracy: 0.9096\n"
     ]
    }
   ],
   "source": [
    "history = model.fit(train_generator,\n",
    "                    validation_data=val_generator,\n",
    "                    steps_per_epoch=875,\n",
    "                    epochs=40,\n",
    "                    validation_steps=375,\n",
    "                    verbose=2\n",
    "                    )"
   ]
  },
  {
   "cell_type": "code",
   "execution_count": 167,
   "metadata": {},
   "outputs": [],
   "source": [
    "train_histories.append(history)"
   ]
  },
  {
   "cell_type": "markdown",
   "metadata": {},
   "source": [
    "- w/o dropout: (model 0)\n",
    "Epoch 15/15\n",
    "875/875 - 96s - loss: 0.2170 - accuracy: 0.9277 - val_loss: 1.2393 - val_accuracy: 0.7411\n",
    "\n",
    "- w dropout: (model 1)\n",
    "Epoch 15/15\n",
    "875/875 - 98s - loss: 0.3616 - accuracy: 0.8531 - val_loss: 0.4020 - val_accuracy: 0.8329\n",
    "\n",
    "- w L1-reg: (model 2)\n",
    "Epoch 15/15\n",
    "875/875 - 97s - loss: 0.5139 - accuracy: 0.8272 - val_loss: 0.6214 - val_accuracy: 0.7700\n",
    "\n",
    "- w L2-reg (model 3)\n",
    "Epoch 15/15\n",
    "875/875 - 96s - loss: 0.3380 - accuracy: 0.8737 - val_loss: 0.4593 - val_accuracy: 0.8092\n",
    "\n",
    "- w BatchNorm on model 0: (model 4) Epoch 15/15\n",
    "875/875 - 136s - loss: 0.2345 - accuracy: 0.9166 - val_loss: 0.5121 - val_accuracy: 0.8327\n",
    "\n",
    "- like above + dropout: (model 5) Epoch 15/15\n",
    "875/875 - 139s - loss: 0.3535 - accuracy: 0.8546 - val_loss: 0.3686 - val_accuracy: 0.8427\n",
    "\n",
    "- same as above but an extra 5 epochs: Epoch 20/20\n",
    "875/875 - 140s - loss: 0.3374 - accuracy: 0.8642 - val_loss: 0.3457 - val_accuracy: 0.8587\n",
    "\n",
    "- same as above but w reg at conv layer: (model 6)Epoch 20/20\n",
    "875/875 - 138s - loss: 0.3737 - accuracy: 0.8593 - val_loss: 0.3590 - val_accuracy: 0.8613\n",
    "\n",
    "- same as above but larger epochs: Epoch 30/30\n",
    "875/875 - 137s - loss: 0.3486 - accuracy: 0.8722 - val_loss: 0.3645 - val_accuracy: 0.8644\n",
    "\n",
    "- same as above but 50 epochs: Epoch 50/50\n",
    "875/875 - 136s - loss: 0.3984 - accuracy: 0.8536 - val_loss: 0.5817 - val_accuracy: 0.8069\n",
    "\n",
    "- same as model 6 but w BN after CV layer: (model 7) Epoch 30/30\n",
    "875/875 - 153s - loss: 0.3921 - accuracy: 0.8487 - val_loss: 0.4103 - val_accuracy: 0.8512\n",
    "\n",
    "- same as model 6 but w an extra CV layer: (model 8) Epoch 30/30\n",
    "875/875 - 124s - loss: 0.3255 - accuracy: 0.8783 - val_loss: 0.3152 - val_accuracy: 0.8824\n",
    "\n",
    "- same as model 8 but w an extra CV layer: (model 9) Epoch 30/30\n",
    "875/875 - 118s - loss: 0.3167 - accuracy: 0.8923 - val_loss: 0.3607 - val_accuracy: 0.8699\n",
    "\n",
    "- same as model 5 but w more filters per CV layer: (model 10) Epoch 30/30\n",
    "875/875 - 215s - loss: 0.4123 - accuracy: 0.8401 - val_loss: 0.4458 - val_accuracy: 0.8384\n",
    "\n",
    "- same as model 9 but w more filters per CV layer: (model 11) Epoch 30/30\n",
    "875/875 - 117s - loss: 0.2832 - accuracy: 0.9039 - val_loss: 0.3198 - val_accuracy: 0.8812\n",
    "\n",
    "- same as above but w and extra dense layer: (model 12) Epoch 30/30\n",
    "875/875 - 118s - loss: 0.4353 - accuracy: 0.8455 - val_loss: 0.3976 - val_accuracy: 0.8559\n",
    "\n",
    "- same as model 11 but w yet even more filters in CV layer: (model 13) Epoch 30/30\n",
    "875/875 - 118s - loss: 0.2945 - accuracy: 0.9026 - val_loss: 0.3283 - val_accuracy: 0.8783\n",
    "\n",
    "- same as model 11 but for more training epochs: Epoch 50/50\n",
    "875/875 - 120s - loss: 0.3322 - accuracy: 0.8894 - val_loss: 0.3850 - val_accuracy: 0.8780\n",
    "\n",
    "- same as model 11 but w more filters per CV layer: (model 14) Epoch 30/30\n",
    "875/875 - 127s - loss: 0.3237 - accuracy: 0.8932 - val_loss: 0.3957 - val_accuracy: 0.8707\n",
    "\n",
    "- same as model 11 but w more filters per CV layer: (model 15) Epoch 30/30\n",
    "875/875 - 155s - loss: 0.3039 - accuracy: 0.8956 - val_loss: 0.3153 - val_accuracy: 0.8916\n",
    "\n",
    "- same as model 11 but with padding in every CV layer: (model 16) Epoch 30/30\n",
    "875/875 - 165s - loss: 0.2183 - accuracy: 0.9304 - val_loss: 0.2994 - val_accuracy: 0.8925\n",
    "\n",
    "- same as above but w an extra CV layer (model 16) Epoch 30/30\n",
    "875/875 - 125s - loss: 0.1771 - accuracy: 0.9466 - val_loss: 0.2994 - val_accuracy: 0.9152\n",
    "\n",
    "- same as above but w extra regularization in one CV (model 17) Epoch 30/30\n",
    "875/875 - 123s - loss: 0.2488 - accuracy: 0.9258 - val_loss: 0.5036 - val_accuracy: 0.8247"
   ]
  },
  {
   "cell_type": "code",
   "execution_count": 218,
   "metadata": {},
   "outputs": [
    {
     "data": {
      "image/png": "[encoded data removed]",
      "text/plain": [
       "<Figure size 432x288 with 1 Axes>"
      ]
     },
     "metadata": {
      "needs_background": "light"
     },
     "output_type": "display_data"
    },
    {
     "data": {
      "image/png": "[encoded data removed]",
      "text/plain": [
       "<Figure size 432x288 with 1 Axes>"
      ]
     },
     "metadata": {
      "needs_background": "light"
     },
     "output_type": "display_data"
    }
   ],
   "source": [
    "acc = history.history['accuracy']\n",
    "val_acc = history.history['val_accuracy']\n",
    "loss = history.history['loss']\n",
    "val_loss = history.history['val_loss']\n",
    "\n",
    "epochs = range(len(acc))\n",
    "\n",
    "plt.plot(epochs, acc)\n",
    "plt.plot(epochs, val_acc)\n",
    "plt.legend(['train','val'])\n",
    "plt.title('Training and validation accuracy')\n",
    "plt.xlabel('epoch')\n",
    "plt.ylabel('acc')\n",
    "\n",
    "plt.figure()\n",
    "plt.plot(epochs, loss)\n",
    "plt.plot(epochs, val_loss)\n",
    "plt.legend(['train','val'])\n",
    "plt.title('Training and validation loss')\n",
    "plt.xlabel('epoch')\n",
    "plt.ylabel('loss')\n",
    "plt.show()"
   ]
  },
  {
   "cell_type": "markdown",
   "metadata": {},
   "source": [
    "# Test"
   ]
  },
  {
   "cell_type": "code",
   "execution_count": 94,
   "metadata": {},
   "outputs": [],
   "source": [
    "from tensorflow.keras.preprocessing import image"
   ]
  },
  {
   "cell_type": "code",
   "execution_count": 128,
   "metadata": {},
   "outputs": [
    {
     "name": "stdout",
     "output_type": "stream",
     "text": [
      "[1.]\n",
      "it's a dog!\n"
     ]
    }
   ],
   "source": [
    "img_name = '938.jpg'\n",
    "path = 'datasets/dogs_vs_cats/test/'\n",
    "img = image.load_img(path+img_name, target_size=(150, 150))\n",
    "\n",
    "x = image.img_to_array(img)\n",
    "x = np.expand_dims(x, axis=0)\n",
    "images = np.vstack([x])\n",
    "\n",
    "classes = model.predict(images, batch_size=10)\n",
    "print(classes[0])\n",
    "if classes[0] > 0.5:\n",
    "    print(\"it's a dog!\")\n",
    "else:\n",
    "    print(\"it's a cat!\")"
   ]
  },
  {
   "cell_type": "code",
   "execution_count": null,
   "metadata": {},
   "outputs": [],
   "source": []
  }
 ],
 "metadata": {
  "kernelspec": {
   "display_name": "Python 3",
   "language": "python",
   "name": "python3"
  },
  "language_info": {
   "codemirror_mode": {
    "name": "ipython",
    "version": 3
   },
   "file_extension": ".py",
   "mimetype": "text/x-python",
   "name": "python",
   "nbconvert_exporter": "python",
   "pygments_lexer": "ipython3",
   "version": "3.6.10"
  }
 },
 "nbformat": 4,
 "nbformat_minor": 4
}
