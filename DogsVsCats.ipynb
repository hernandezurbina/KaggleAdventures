{
 "cells": [
  {
   "cell_type": "code",
   "execution_count": 1,
   "metadata": {},
   "outputs": [],
   "source": [
    "import tensorflow as tf\n",
    "from tensorflow.keras.preprocessing.image import ImageDataGenerator\n",
    "import os"
   ]
  },
  {
   "cell_type": "code",
   "execution_count": 96,
   "metadata": {},
   "outputs": [],
   "source": [
    "import numpy as np"
   ]
  },
  {
   "cell_type": "markdown",
   "metadata": {},
   "source": [
    "# Train"
   ]
  },
  {
   "cell_type": "code",
   "execution_count": 2,
   "metadata": {},
   "outputs": [],
   "source": [
    "base_dir = 'datasets/dogs_vs_cats/'\n",
    "train_dir = os.path.join(base_dir, 'train')"
   ]
  },
  {
   "cell_type": "code",
   "execution_count": 3,
   "metadata": {},
   "outputs": [],
   "source": [
    "train_dogs_dir = os.path.join(train_dir, 'dogs')\n",
    "train_cats_dir = os.path.join(train_dir, 'cats')"
   ]
  },
  {
   "cell_type": "code",
   "execution_count": 4,
   "metadata": {},
   "outputs": [],
   "source": [
    "generator = ImageDataGenerator(rescale=1.0/255., validation_split=0.3)"
   ]
  },
  {
   "cell_type": "code",
   "execution_count": 5,
   "metadata": {},
   "outputs": [
    {
     "name": "stdout",
     "output_type": "stream",
     "text": [
      "Found 17500 images belonging to 2 classes.\n",
      "Found 7500 images belonging to 2 classes.\n"
     ]
    }
   ],
   "source": [
    "train_generator = generator.flow_from_directory(train_dir,\n",
    "                                                batch_size=20,\n",
    "                                                class_mode='binary',\n",
    "                                                target_size=(150, 150),\n",
    "                                                subset='training'\n",
    "                                               )\n",
    "\n",
    "val_generator = generator.flow_from_directory(train_dir,\n",
    "                                                batch_size=20,\n",
    "                                                class_mode='binary',\n",
    "                                                target_size=(150, 150),\n",
    "                                                subset='validation'\n",
    "                                               )"
   ]
  },
  {
   "cell_type": "code",
   "execution_count": 6,
   "metadata": {},
   "outputs": [],
   "source": [
    "train_cats_dir = os.path.join(train_dir, 'cats')\n",
    "train_dogs_dir = os.path.join(train_dir, 'dogs')"
   ]
  },
  {
   "cell_type": "code",
   "execution_count": 7,
   "metadata": {},
   "outputs": [],
   "source": [
    "train_cats_fnames = os.listdir(train_cats_dir)\n",
    "train_dogs_fnames = os.listdir(train_dogs_dir)"
   ]
  },
  {
   "cell_type": "code",
   "execution_count": 8,
   "metadata": {},
   "outputs": [
    {
     "name": "stdout",
     "output_type": "stream",
     "text": [
      "['cat.2587.jpg', 'cat.5777.jpg', 'cat.5479.jpg', 'cat.2561.jpg', 'cat.6315.jpg', 'cat.12084.jpg', 'cat.3573.jpg', 'cat.6867.jpg', 'cat.4188.jpg', 'cat.1035.jpg']\n",
      "['dog.8939.jpg', 'dog.4870.jpg', 'dog.6630.jpg', 'dog.6063.jpg', 'dog.12330.jpg', 'dog.5347.jpg', 'dog.3869.jpg', 'dog.11833.jpg', 'dog.3787.jpg', 'dog.9037.jpg']\n"
     ]
    }
   ],
   "source": [
    "print(train_cats_fnames[:10])\n",
    "print(train_dogs_fnames[:10])"
   ]
  },
  {
   "cell_type": "code",
   "execution_count": 9,
   "metadata": {},
   "outputs": [],
   "source": [
    "import matplotlib.image as mpimg\n",
    "import matplotlib.pyplot as plt\n",
    "%matplotlib inline"
   ]
  },
  {
   "cell_type": "code",
   "execution_count": 10,
   "metadata": {},
   "outputs": [],
   "source": [
    "from tensorflow.keras.models import Sequential\n",
    "from tensorflow.keras.layers import Conv2D, MaxPooling2D, Flatten, Dense"
   ]
  },
  {
   "cell_type": "code",
   "execution_count": 57,
   "metadata": {},
   "outputs": [],
   "source": [
    "from tensorflow.keras.layers import Dropout, BatchNormalization\n",
    "from tensorflow.keras.regularizers import l1, l2"
   ]
  },
  {
   "cell_type": "code",
   "execution_count": 13,
   "metadata": {},
   "outputs": [],
   "source": [
    "from tensorflow.keras.optimizers import RMSprop"
   ]
  },
  {
   "cell_type": "code",
   "execution_count": 28,
   "metadata": {},
   "outputs": [],
   "source": [
    "train_histories = []"
   ]
  },
  {
   "cell_type": "code",
   "execution_count": 52,
   "metadata": {},
   "outputs": [],
   "source": [
    "### model 0 and 1:\n",
    "# model = Sequential([\n",
    "#     Conv2D(16, (3, 3), activation='relu', input_shape=(150, 150, 3)),\n",
    "#     MaxPooling2D(2, 2),\n",
    "#     Conv2D(32, (3, 3), activation='relu'),\n",
    "#     MaxPooling2D(2, 2),\n",
    "#     Conv2D(64, (3, 3), activation='relu'),\n",
    "#     MaxPooling2D(2, 2),\n",
    "#     Flatten(),\n",
    "#     Dropout(0.5),\n",
    "#     Dense(512, activation='relu'),\n",
    "#     Dropout(0.5),\n",
    "#     Dense(1, activation='sigmoid')\n",
    "# ])"
   ]
  },
  {
   "cell_type": "code",
   "execution_count": 46,
   "metadata": {},
   "outputs": [],
   "source": [
    "### model 2 and 3:\n",
    "# model = Sequential([\n",
    "#     Conv2D(16, (3, 3), activation='relu', input_shape=(150, 150, 3)),\n",
    "#     MaxPooling2D(2, 2),\n",
    "#     Conv2D(32, (3, 3), activation='relu'),\n",
    "#     MaxPooling2D(2, 2),\n",
    "#     #Conv2D(64, (3, 3), activation='relu'),\n",
    "#     Conv2D(64, (3, 3), activation='relu', kernel_regularizer=l2(l=0.01)),\n",
    "#     MaxPooling2D(2, 2),\n",
    "#     Flatten(),\n",
    "#     Dense(512, activation='relu'),\n",
    "#     Dropout(0.5),\n",
    "#     Dense(1, activation='sigmoid')\n",
    "# ])"
   ]
  },
  {
   "cell_type": "code",
   "execution_count": 71,
   "metadata": {},
   "outputs": [],
   "source": [
    "### model 4 and 5:\n",
    "# model = Sequential([\n",
    "#     BatchNormalization(input_shape=(150, 150, 3)),\n",
    "#     Conv2D(16, (3, 3), activation='relu'),\n",
    "#     MaxPooling2D(2, 2),\n",
    "#     Conv2D(32, (3, 3), activation='relu'),\n",
    "#     MaxPooling2D(2, 2),\n",
    "#     Conv2D(64, (3, 3), activation='relu'),\n",
    "#     MaxPooling2D(2, 2),\n",
    "#     Flatten(),\n",
    "#     Dropout(0.5),\n",
    "#     Dense(512, activation='relu'),\n",
    "#     Dropout(0.5),\n",
    "#     Dense(1, activation='sigmoid')\n",
    "# ])"
   ]
  },
  {
   "cell_type": "code",
   "execution_count": 129,
   "metadata": {},
   "outputs": [],
   "source": [
    "### model 6 and 7:\n",
    "# model = Sequential([\n",
    "#     BatchNormalization(input_shape=(150, 150, 3)),\n",
    "#     Conv2D(16, (3, 3), activation='relu'),\n",
    "#     BatchNormalization(),\n",
    "#     MaxPooling2D(2, 2),\n",
    "#     Conv2D(32, (3, 3), activation='relu'),\n",
    "#     MaxPooling2D(2, 2),\n",
    "#     Conv2D(64, (3, 3), activation='relu', kernel_regularizer=l2(l=0.01)),\n",
    "#     MaxPooling2D(2, 2),\n",
    "#     Flatten(),\n",
    "#     Dropout(0.5),\n",
    "#     Dense(512, activation='relu'),\n",
    "#     Dropout(0.5),\n",
    "#     Dense(1, activation='sigmoid')\n",
    "# ])"
   ]
  },
  {
   "cell_type": "code",
   "execution_count": 197,
   "metadata": {},
   "outputs": [],
   "source": [
    "### model 8, 9, 11, 12, 13, 14, 15:\n",
    "# model = Sequential([\n",
    "#     BatchNormalization(input_shape=(150, 150, 3)),\n",
    "#     Conv2D(32, (3, 3), activation='relu'), ### prev 16\n",
    "#     MaxPooling2D(2, 2),\n",
    "#     Conv2D(32, (3, 3), activation='relu'),\n",
    "#     MaxPooling2D(2, 2),\n",
    "#     Conv2D(64, (3, 3), activation='relu'), ## prev 32\n",
    "#     MaxPooling2D(2, 2),\n",
    "#     Conv2D(64, (3, 3), activation='relu', kernel_regularizer=l2(l=0.01)), ## prev 64\n",
    "#     MaxPooling2D(2, 2),\n",
    "#     Conv2D(128, (3, 3), activation='relu', kernel_regularizer=l2(l=0.01)), ## prev 64\n",
    "#     MaxPooling2D(2, 2),   \n",
    "#     Flatten(),\n",
    "#     Dropout(0.5),\n",
    "#     Dense(512, activation='relu'),\n",
    "#     Dropout(0.5),\n",
    "#     Dense(1, activation='sigmoid')\n",
    "# ])"
   ]
  },
  {
   "cell_type": "code",
   "execution_count": 214,
   "metadata": {},
   "outputs": [],
   "source": [
    "### model 16, 17, 18:\n",
    "model = Sequential([\n",
    "    BatchNormalization(input_shape=(150, 150, 3)),\n",
    "    Conv2D(16, (3, 3), activation='relu', padding='same'), \n",
    "    MaxPooling2D(2, 2),    \n",
    "    Conv2D(32, (3, 3), activation='relu', padding='same'),\n",
    "    MaxPooling2D(2, 2),\n",
    "    Conv2D(32, (3, 3), activation='relu', padding='same'),\n",
    "    MaxPooling2D(2, 2),\n",
    "    Conv2D(64, (3, 3), activation='relu', kernel_regularizer=l2(l=0.01), padding='same'),\n",
    "    MaxPooling2D(2, 2),\n",
    "    Conv2D(64, (3, 3), activation='relu', kernel_regularizer=l2(l=0.01), padding='same'), ## prev 64\n",
    "    MaxPooling2D(2, 2),\n",
    "    Conv2D(128, (3, 3), activation='relu', kernel_regularizer=l2(l=0.01), padding='same'), ## prev 64\n",
    "    MaxPooling2D(2, 2),   \n",
    "    Flatten(),\n",
    "    Dropout(0.5),\n",
    "    Dense(512, activation='relu'),\n",
    "    Dropout(0.5),\n",
    "    Dense(1, activation='sigmoid')\n",
    "])"
   ]
  },
  {
   "cell_type": "code",
   "execution_count": 150,
   "metadata": {},
   "outputs": [],
   "source": [
    "### model 10:\n",
    "# model = Sequential([\n",
    "#     BatchNormalization(input_shape=(150, 150, 3)),\n",
    "#     Conv2D(32, (3, 3), activation='relu'),\n",
    "#     MaxPooling2D(2, 2),\n",
    "#     Conv2D(64, (3, 3), activation='relu',kernel_regularizer=l2(l=0.01)),\n",
    "#     MaxPooling2D(2, 2),\n",
    "#     Conv2D(128, (3, 3), activation='relu', kernel_regularizer=l2(l=0.01)),\n",
    "#     MaxPooling2D(2, 2),\n",
    "#     Flatten(),\n",
    "#     Dropout(0.5),\n",
    "#     Dense(512, activation='relu'),\n",
    "#     Dropout(0.5),\n",
    "#     Dense(1, activation='sigmoid')\n",
    "# ])"
   ]
  },
  {
   "cell_type": "code",
   "execution_count": 215,
   "metadata": {},
   "outputs": [
    {
     "name": "stdout",
     "output_type": "stream",
     "text": [
      "Model: \"sequential_44\"\n",
      "_________________________________________________________________\n",
      "Layer (type)                 Output Shape              Param #   \n",
      "=================================================================\n",
      "batch_normalization_38 (Batc (None, 150, 150, 3)       12        \n",
      "_________________________________________________________________\n",
      "conv2d_201 (Conv2D)          (None, 150, 150, 16)      448       \n",
      "_________________________________________________________________\n",
      "max_pooling2d_201 (MaxPoolin (None, 75, 75, 16)        0         \n",
      "_________________________________________________________________\n",
      "conv2d_202 (Conv2D)          (None, 75, 75, 32)        4640      \n",
      "_________________________________________________________________\n",
      "max_pooling2d_202 (MaxPoolin (None, 37, 37, 32)        0         \n",
      "_________________________________________________________________\n",
      "conv2d_203 (Conv2D)          (None, 37, 37, 32)        9248      \n",
      "_________________________________________________________________\n",
      "max_pooling2d_203 (MaxPoolin (None, 18, 18, 32)        0         \n",
      "_________________________________________________________________\n",
      "conv2d_204 (Conv2D)          (None, 18, 18, 64)        18496     \n",
      "_________________________________________________________________\n",
      "max_pooling2d_204 (MaxPoolin (None, 9, 9, 64)          0         \n",
      "_________________________________________________________________\n",
      "conv2d_205 (Conv2D)          (None, 9, 9, 64)          36928     \n",
      "_________________________________________________________________\n",
      "max_pooling2d_205 (MaxPoolin (None, 4, 4, 64)          0         \n",
      "_________________________________________________________________\n",
      "conv2d_206 (Conv2D)          (None, 4, 4, 128)         73856     \n",
      "_________________________________________________________________\n",
      "max_pooling2d_206 (MaxPoolin (None, 2, 2, 128)         0         \n",
      "_________________________________________________________________\n",
      "flatten_44 (Flatten)         (None, 512)               0         \n",
      "_________________________________________________________________\n",
      "dropout_81 (Dropout)         (None, 512)               0         \n",
      "_________________________________________________________________\n",
      "dense_90 (Dense)             (None, 512)               262656    \n",
      "_________________________________________________________________\n",
      "dropout_82 (Dropout)         (None, 512)               0         \n",
      "_________________________________________________________________\n",
      "dense_91 (Dense)             (None, 1)                 513       \n",
      "=================================================================\n",
      "Total params: 406,797\n",
      "Trainable params: 406,791\n",
      "Non-trainable params: 6\n",
      "_________________________________________________________________\n"
     ]
    }
   ],
   "source": [
    "model.summary()"
   ]
  },
  {
   "cell_type": "code",
   "execution_count": 216,
   "metadata": {},
   "outputs": [],
   "source": [
    "model.compile(\n",
    "    optimizer=RMSprop(lr=0.001),\n",
    "    loss='binary_crossentropy',\n",
    "    metrics=['accuracy']\n",
    ")"
   ]
  },
  {
   "cell_type": "code",
   "execution_count": 217,
   "metadata": {
    "scrolled": true
   },
   "outputs": [
    {
     "name": "stdout",
     "output_type": "stream",
     "text": [
      "Epoch 1/30\n",
      "875/875 - 125s - loss: 0.7189 - accuracy: 0.5777 - val_loss: 0.6304 - val_accuracy: 0.6397\n",
      "Epoch 2/30\n",
      "875/875 - 125s - loss: 0.5930 - accuracy: 0.6950 - val_loss: 0.5281 - val_accuracy: 0.7517\n",
      "Epoch 3/30\n",
      "875/875 - 124s - loss: 0.5198 - accuracy: 0.7630 - val_loss: 0.4584 - val_accuracy: 0.8073\n",
      "Epoch 4/30\n",
      "875/875 - 124s - loss: 0.4692 - accuracy: 0.7982 - val_loss: 0.4255 - val_accuracy: 0.8223\n",
      "Epoch 5/30\n",
      "875/875 - 124s - loss: 0.4278 - accuracy: 0.8247 - val_loss: 0.4164 - val_accuracy: 0.8296\n",
      "Epoch 6/30\n",
      "875/875 - 124s - loss: 0.4040 - accuracy: 0.8387 - val_loss: 0.3966 - val_accuracy: 0.8524\n",
      "Epoch 7/30\n",
      "875/875 - 123s - loss: 0.3833 - accuracy: 0.8558 - val_loss: 0.5461 - val_accuracy: 0.7981\n",
      "Epoch 8/30\n",
      "875/875 - 124s - loss: 0.3691 - accuracy: 0.8610 - val_loss: 0.3460 - val_accuracy: 0.8693\n",
      "Epoch 9/30\n",
      "875/875 - 123s - loss: 0.3550 - accuracy: 0.8648 - val_loss: 0.3225 - val_accuracy: 0.8804\n",
      "Epoch 10/30\n",
      "875/875 - 123s - loss: 0.3397 - accuracy: 0.8741 - val_loss: 0.4411 - val_accuracy: 0.8371\n",
      "Epoch 11/30\n",
      "875/875 - 124s - loss: 0.3367 - accuracy: 0.8789 - val_loss: 0.4267 - val_accuracy: 0.8408\n",
      "Epoch 12/30\n",
      "875/875 - 124s - loss: 0.3219 - accuracy: 0.8862 - val_loss: 0.3473 - val_accuracy: 0.8836\n",
      "Epoch 13/30\n",
      "875/875 - 123s - loss: 0.3174 - accuracy: 0.8887 - val_loss: 0.3165 - val_accuracy: 0.8869\n",
      "Epoch 14/30\n",
      "875/875 - 124s - loss: 0.3086 - accuracy: 0.8954 - val_loss: 0.3148 - val_accuracy: 0.8861\n",
      "Epoch 15/30\n",
      "875/875 - 123s - loss: 0.2981 - accuracy: 0.8976 - val_loss: 0.3397 - val_accuracy: 0.8871\n",
      "Epoch 16/30\n",
      "875/875 - 123s - loss: 0.2944 - accuracy: 0.9002 - val_loss: 0.3398 - val_accuracy: 0.8929\n",
      "Epoch 17/30\n",
      "875/875 - 123s - loss: 0.2893 - accuracy: 0.9037 - val_loss: 0.3574 - val_accuracy: 0.8724\n",
      "Epoch 18/30\n",
      "875/875 - 123s - loss: 0.2893 - accuracy: 0.9041 - val_loss: 0.3980 - val_accuracy: 0.8915\n",
      "Epoch 19/30\n",
      "875/875 - 123s - loss: 0.2789 - accuracy: 0.9088 - val_loss: 0.3391 - val_accuracy: 0.8797\n",
      "Epoch 20/30\n",
      "875/875 - 123s - loss: 0.2753 - accuracy: 0.9110 - val_loss: 0.3801 - val_accuracy: 0.8809\n",
      "Epoch 21/30\n",
      "875/875 - 123s - loss: 0.2710 - accuracy: 0.9129 - val_loss: 0.2927 - val_accuracy: 0.9059\n",
      "Epoch 22/30\n",
      "875/875 - 123s - loss: 0.2636 - accuracy: 0.9163 - val_loss: 0.3396 - val_accuracy: 0.8976\n",
      "Epoch 23/30\n",
      "875/875 - 123s - loss: 0.2606 - accuracy: 0.9180 - val_loss: 0.3081 - val_accuracy: 0.8984\n",
      "Epoch 24/30\n",
      "875/875 - 123s - loss: 0.2572 - accuracy: 0.9189 - val_loss: 0.3385 - val_accuracy: 0.8949\n",
      "Epoch 25/30\n",
      "875/875 - 123s - loss: 0.2596 - accuracy: 0.9189 - val_loss: 0.2967 - val_accuracy: 0.9035\n",
      "Epoch 26/30\n",
      "875/875 - 123s - loss: 0.2534 - accuracy: 0.9217 - val_loss: 0.3555 - val_accuracy: 0.8841\n",
      "Epoch 27/30\n",
      "875/875 - 124s - loss: 0.2514 - accuracy: 0.9216 - val_loss: 0.3710 - val_accuracy: 0.8648\n",
      "Epoch 28/30\n",
      "875/875 - 123s - loss: 0.2492 - accuracy: 0.9242 - val_loss: 0.2879 - val_accuracy: 0.9064\n",
      "Epoch 29/30\n",
      "875/875 - 123s - loss: 0.2456 - accuracy: 0.9223 - val_loss: 0.4189 - val_accuracy: 0.8801\n",
      "Epoch 30/30\n",
      "875/875 - 123s - loss: 0.2488 - accuracy: 0.9258 - val_loss: 0.5036 - val_accuracy: 0.8247\n"
     ]
    }
   ],
   "source": [
    "history = model.fit(train_generator,\n",
    "                    validation_data=val_generator,\n",
    "                    steps_per_epoch=875,\n",
    "                    epochs=30,\n",
    "                    validation_steps=375,\n",
    "                    verbose=2\n",
    "                    )"
   ]
  },
  {
   "cell_type": "code",
   "execution_count": 167,
   "metadata": {},
   "outputs": [],
   "source": [
    "train_histories.append(history)"
   ]
  },
  {
   "cell_type": "markdown",
   "metadata": {},
   "source": [
    "- w/o dropout: (model 0)\n",
    "Epoch 15/15\n",
    "875/875 - 96s - loss: 0.2170 - accuracy: 0.9277 - val_loss: 1.2393 - val_accuracy: 0.7411\n",
    "\n",
    "- w dropout: (model 1)\n",
    "Epoch 15/15\n",
    "875/875 - 98s - loss: 0.3616 - accuracy: 0.8531 - val_loss: 0.4020 - val_accuracy: 0.8329\n",
    "\n",
    "- w L1-reg: (model 2)\n",
    "Epoch 15/15\n",
    "875/875 - 97s - loss: 0.5139 - accuracy: 0.8272 - val_loss: 0.6214 - val_accuracy: 0.7700\n",
    "\n",
    "- w L2-reg (model 3)\n",
    "Epoch 15/15\n",
    "875/875 - 96s - loss: 0.3380 - accuracy: 0.8737 - val_loss: 0.4593 - val_accuracy: 0.8092\n",
    "\n",
    "- w BatchNorm on model 0: (model 4) Epoch 15/15\n",
    "875/875 - 136s - loss: 0.2345 - accuracy: 0.9166 - val_loss: 0.5121 - val_accuracy: 0.8327\n",
    "\n",
    "- like above + dropout: (model 5) Epoch 15/15\n",
    "875/875 - 139s - loss: 0.3535 - accuracy: 0.8546 - val_loss: 0.3686 - val_accuracy: 0.8427\n",
    "\n",
    "- same as above but an extra 5 epochs: Epoch 20/20\n",
    "875/875 - 140s - loss: 0.3374 - accuracy: 0.8642 - val_loss: 0.3457 - val_accuracy: 0.8587\n",
    "\n",
    "- same as above but w reg at conv layer: (model 6)Epoch 20/20\n",
    "875/875 - 138s - loss: 0.3737 - accuracy: 0.8593 - val_loss: 0.3590 - val_accuracy: 0.8613\n",
    "\n",
    "- same as above but larger epochs: Epoch 30/30\n",
    "875/875 - 137s - loss: 0.3486 - accuracy: 0.8722 - val_loss: 0.3645 - val_accuracy: 0.8644\n",
    "\n",
    "- same as above but 50 epochs: Epoch 50/50\n",
    "875/875 - 136s - loss: 0.3984 - accuracy: 0.8536 - val_loss: 0.5817 - val_accuracy: 0.8069\n",
    "\n",
    "- same as model 6 but w BN after CV layer: (model 7) Epoch 30/30\n",
    "875/875 - 153s - loss: 0.3921 - accuracy: 0.8487 - val_loss: 0.4103 - val_accuracy: 0.8512\n",
    "\n",
    "- same as model 6 but w an extra CV layer: (model 8) Epoch 30/30\n",
    "875/875 - 124s - loss: 0.3255 - accuracy: 0.8783 - val_loss: 0.3152 - val_accuracy: 0.8824\n",
    "\n",
    "- same as model 8 but w an extra CV layer: (model 9) Epoch 30/30\n",
    "875/875 - 118s - loss: 0.3167 - accuracy: 0.8923 - val_loss: 0.3607 - val_accuracy: 0.8699\n",
    "\n",
    "- same as model 5 but w more filters per CV layer: (model 10) Epoch 30/30\n",
    "875/875 - 215s - loss: 0.4123 - accuracy: 0.8401 - val_loss: 0.4458 - val_accuracy: 0.8384\n",
    "\n",
    "- same as model 9 but w more filters per CV layer: (model 11) Epoch 30/30\n",
    "875/875 - 117s - loss: 0.2832 - accuracy: 0.9039 - val_loss: 0.3198 - val_accuracy: 0.8812\n",
    "\n",
    "- same as above but w and extra dense layer: (model 12) Epoch 30/30\n",
    "875/875 - 118s - loss: 0.4353 - accuracy: 0.8455 - val_loss: 0.3976 - val_accuracy: 0.8559\n",
    "\n",
    "- same as model 11 but w yet even more filters in CV layer: (model 13) Epoch 30/30\n",
    "875/875 - 118s - loss: 0.2945 - accuracy: 0.9026 - val_loss: 0.3283 - val_accuracy: 0.8783\n",
    "\n",
    "- same as model 11 but for more training epochs: Epoch 50/50\n",
    "875/875 - 120s - loss: 0.3322 - accuracy: 0.8894 - val_loss: 0.3850 - val_accuracy: 0.8780\n",
    "\n",
    "- same as model 11 but w more filters per CV layer: (model 14) Epoch 30/30\n",
    "875/875 - 127s - loss: 0.3237 - accuracy: 0.8932 - val_loss: 0.3957 - val_accuracy: 0.8707\n",
    "\n",
    "- same as model 11 but w more filters per CV layer: (model 15) Epoch 30/30\n",
    "875/875 - 155s - loss: 0.3039 - accuracy: 0.8956 - val_loss: 0.3153 - val_accuracy: 0.8916\n",
    "\n",
    "- same as model 11 but with padding in every CV layer: (model 16) Epoch 30/30\n",
    "875/875 - 165s - loss: 0.2183 - accuracy: 0.9304 - val_loss: 0.2994 - val_accuracy: 0.8925\n",
    "\n",
    "- same as above but w an extra CV layer (model 16) Epoch 30/30\n",
    "875/875 - 125s - loss: 0.1771 - accuracy: 0.9466 - val_loss: 0.2994 - val_accuracy: 0.9152"
   ]
  },
  {
   "cell_type": "code",
   "execution_count": 209,
   "metadata": {},
   "outputs": [
    {
     "data": {
      "image/png": "[encoded data removed]",
      "text/plain": [
       "<Figure size 432x288 with 1 Axes>"
      ]
     },
     "metadata": {
      "needs_background": "light"
     },
     "output_type": "display_data"
    },
    {
     "data": {
      "image/png": "[encoded data removed]",
      "text/plain": [
       "<Figure size 432x288 with 1 Axes>"
      ]
     },
     "metadata": {
      "needs_background": "light"
     },
     "output_type": "display_data"
    }
   ],
   "source": [
    "acc = history.history['accuracy']\n",
    "val_acc = history.history['val_accuracy']\n",
    "loss = history.history['loss']\n",
    "val_loss = history.history['val_loss']\n",
    "\n",
    "epochs = range(len(acc))\n",
    "\n",
    "plt.plot(epochs, acc)\n",
    "plt.plot(epochs, val_acc)\n",
    "plt.legend(['train','val'])\n",
    "plt.title('Training and validation accuracy')\n",
    "plt.xlabel('epoch')\n",
    "plt.ylabel('acc')\n",
    "\n",
    "plt.figure()\n",
    "plt.plot(epochs, loss)\n",
    "plt.plot(epochs, val_loss)\n",
    "plt.legend(['train','val'])\n",
    "plt.title('Training and validation loss')\n",
    "plt.xlabel('epoch')\n",
    "plt.ylabel('loss')\n",
    "plt.show()"
   ]
  },
  {
   "cell_type": "markdown",
   "metadata": {},
   "source": [
    "# Test"
   ]
  },
  {
   "cell_type": "code",
   "execution_count": 94,
   "metadata": {},
   "outputs": [],
   "source": [
    "from tensorflow.keras.preprocessing import image"
   ]
  },
  {
   "cell_type": "code",
   "execution_count": 128,
   "metadata": {},
   "outputs": [
    {
     "name": "stdout",
     "output_type": "stream",
     "text": [
      "[1.]\n",
      "it's a dog!\n"
     ]
    }
   ],
   "source": [
    "img_name = '938.jpg'\n",
    "path = 'datasets/dogs_vs_cats/test/'\n",
    "img = image.load_img(path+img_name, target_size=(150, 150))\n",
    "\n",
    "x = image.img_to_array(img)\n",
    "x = np.expand_dims(x, axis=0)\n",
    "images = np.vstack([x])\n",
    "\n",
    "classes = model.predict(images, batch_size=10)\n",
    "print(classes[0])\n",
    "if classes[0] > 0.5:\n",
    "    print(\"it's a dog!\")\n",
    "else:\n",
    "    print(\"it's a cat!\")"
   ]
  },
  {
   "cell_type": "code",
   "execution_count": null,
   "metadata": {},
   "outputs": [],
   "source": []
  }
 ],
 "metadata": {
  "kernelspec": {
   "display_name": "Python 3",
   "language": "python",
   "name": "python3"
  },
  "language_info": {
   "codemirror_mode": {
    "name": "ipython",
    "version": 3
   },
   "file_extension": ".py",
   "mimetype": "text/x-python",
   "name": "python",
   "nbconvert_exporter": "python",
   "pygments_lexer": "ipython3",
   "version": "3.6.10"
  }
 },
 "nbformat": 4,
 "nbformat_minor": 4
}
