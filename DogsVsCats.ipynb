{
 "cells": [
  {
   "cell_type": "code",
   "execution_count": 1,
   "metadata": {},
   "outputs": [],
   "source": [
    "import tensorflow as tf\n",
    "from tensorflow.keras.preprocessing.image import ImageDataGenerator\n",
    "import os"
   ]
  },
  {
   "cell_type": "markdown",
   "metadata": {},
   "source": [
    "# Train"
   ]
  },
  {
   "cell_type": "code",
   "execution_count": 2,
   "metadata": {},
   "outputs": [],
   "source": [
    "base_dir = 'datasets/dogs_vs_cats/'\n",
    "train_dir = os.path.join(base_dir, 'train')"
   ]
  },
  {
   "cell_type": "code",
   "execution_count": 3,
   "metadata": {},
   "outputs": [],
   "source": [
    "train_dogs_dir = os.path.join(train_dir, 'dogs')\n",
    "train_cats_dir = os.path.join(train_dir, 'cats')"
   ]
  },
  {
   "cell_type": "code",
   "execution_count": 4,
   "metadata": {},
   "outputs": [],
   "source": [
    "generator = ImageDataGenerator(rescale=1.0/255., validation_split=0.3)"
   ]
  },
  {
   "cell_type": "code",
   "execution_count": 5,
   "metadata": {},
   "outputs": [
    {
     "name": "stdout",
     "output_type": "stream",
     "text": [
      "Found 17500 images belonging to 2 classes.\n",
      "Found 7500 images belonging to 2 classes.\n"
     ]
    }
   ],
   "source": [
    "train_generator = generator.flow_from_directory(train_dir,\n",
    "                                                batch_size=20,\n",
    "                                                class_mode='binary',\n",
    "                                                target_size=(150, 150),\n",
    "                                                subset='training'\n",
    "                                               )\n",
    "\n",
    "val_generator = generator.flow_from_directory(train_dir,\n",
    "                                                batch_size=20,\n",
    "                                                class_mode='binary',\n",
    "                                                target_size=(150, 150),\n",
    "                                                subset='validation'\n",
    "                                               )"
   ]
  },
  {
   "cell_type": "code",
   "execution_count": 6,
   "metadata": {},
   "outputs": [],
   "source": [
    "train_cats_dir = os.path.join(train_dir, 'cats')\n",
    "train_dogs_dir = os.path.join(train_dir, 'dogs')"
   ]
  },
  {
   "cell_type": "code",
   "execution_count": 7,
   "metadata": {},
   "outputs": [],
   "source": [
    "train_cats_fnames = os.listdir(train_cats_dir)\n",
    "train_dogs_fnames = os.listdir(train_dogs_dir)"
   ]
  },
  {
   "cell_type": "code",
   "execution_count": 8,
   "metadata": {},
   "outputs": [
    {
     "name": "stdout",
     "output_type": "stream",
     "text": [
      "['cat.2587.jpg', 'cat.5777.jpg', 'cat.5479.jpg', 'cat.2561.jpg', 'cat.6315.jpg', 'cat.12084.jpg', 'cat.3573.jpg', 'cat.6867.jpg', 'cat.4188.jpg', 'cat.1035.jpg']\n",
      "['dog.8939.jpg', 'dog.4870.jpg', 'dog.6630.jpg', 'dog.6063.jpg', 'dog.12330.jpg', 'dog.5347.jpg', 'dog.3869.jpg', 'dog.11833.jpg', 'dog.3787.jpg', 'dog.9037.jpg']\n"
     ]
    }
   ],
   "source": [
    "print(train_cats_fnames[:10])\n",
    "print(train_dogs_fnames[:10])"
   ]
  },
  {
   "cell_type": "code",
   "execution_count": 9,
   "metadata": {},
   "outputs": [],
   "source": [
    "import matplotlib.image as mpimg\n",
    "import matplotlib.pyplot as plt\n",
    "%matplotlib inline"
   ]
  },
  {
   "cell_type": "code",
   "execution_count": 10,
   "metadata": {},
   "outputs": [],
   "source": [
    "from tensorflow.keras.models import Sequential\n",
    "from tensorflow.keras.layers import Conv2D, MaxPooling2D, Flatten, Dense"
   ]
  },
  {
   "cell_type": "code",
   "execution_count": 57,
   "metadata": {},
   "outputs": [],
   "source": [
    "from tensorflow.keras.layers import Dropout, BatchNormalization\n",
    "from tensorflow.keras.regularizers import l1, l2"
   ]
  },
  {
   "cell_type": "code",
   "execution_count": 13,
   "metadata": {},
   "outputs": [],
   "source": [
    "from tensorflow.keras.optimizers import RMSprop"
   ]
  },
  {
   "cell_type": "code",
   "execution_count": 28,
   "metadata": {},
   "outputs": [],
   "source": [
    "train_histories = []"
   ]
  },
  {
   "cell_type": "code",
   "execution_count": 52,
   "metadata": {},
   "outputs": [],
   "source": [
    "### model 0 and 1:\n",
    "# model = Sequential([\n",
    "#     Conv2D(16, (3, 3), activation='relu', input_shape=(150, 150, 3)),\n",
    "#     MaxPooling2D(2, 2),\n",
    "#     Conv2D(32, (3, 3), activation='relu'),\n",
    "#     MaxPooling2D(2, 2),\n",
    "#     Conv2D(64, (3, 3), activation='relu'),\n",
    "#     MaxPooling2D(2, 2),\n",
    "#     Flatten(),\n",
    "#     Dropout(0.5),\n",
    "#     Dense(512, activation='relu'),\n",
    "#     Dropout(0.5),\n",
    "#     Dense(1, activation='sigmoid')\n",
    "# ])"
   ]
  },
  {
   "cell_type": "code",
   "execution_count": 46,
   "metadata": {},
   "outputs": [],
   "source": [
    "### model 2 and 3:\n",
    "# model = Sequential([\n",
    "#     Conv2D(16, (3, 3), activation='relu', input_shape=(150, 150, 3)),\n",
    "#     MaxPooling2D(2, 2),\n",
    "#     Conv2D(32, (3, 3), activation='relu'),\n",
    "#     MaxPooling2D(2, 2),\n",
    "#     #Conv2D(64, (3, 3), activation='relu'),\n",
    "#     Conv2D(64, (3, 3), activation='relu', kernel_regularizer=l2(l=0.01)),\n",
    "#     MaxPooling2D(2, 2),\n",
    "#     Flatten(),\n",
    "#     Dense(512, activation='relu'),\n",
    "#     Dropout(0.5),\n",
    "#     Dense(1, activation='sigmoid')\n",
    "# ])"
   ]
  },
  {
   "cell_type": "code",
   "execution_count": 71,
   "metadata": {},
   "outputs": [],
   "source": [
    "### model 4 and 5:\n",
    "# model = Sequential([\n",
    "#     BatchNormalization(input_shape=(150, 150, 3)),\n",
    "#     Conv2D(16, (3, 3), activation='relu'),\n",
    "#     MaxPooling2D(2, 2),\n",
    "#     Conv2D(32, (3, 3), activation='relu'),\n",
    "#     MaxPooling2D(2, 2),\n",
    "#     Conv2D(64, (3, 3), activation='relu'),\n",
    "#     MaxPooling2D(2, 2),\n",
    "#     Flatten(),\n",
    "#     Dropout(0.5),\n",
    "#     Dense(512, activation='relu'),\n",
    "#     Dropout(0.5),\n",
    "#     Dense(1, activation='sigmoid')\n",
    "# ])"
   ]
  },
  {
   "cell_type": "code",
   "execution_count": 84,
   "metadata": {},
   "outputs": [],
   "source": [
    "### model 6:\n",
    "model = Sequential([\n",
    "    BatchNormalization(input_shape=(150, 150, 3)),\n",
    "    Conv2D(16, (3, 3), activation='relu'),\n",
    "    MaxPooling2D(2, 2),\n",
    "    Conv2D(32, (3, 3), activation='relu'),\n",
    "    MaxPooling2D(2, 2),\n",
    "    Conv2D(64, (3, 3), activation='relu', kernel_regularizer=l2(l=0.01)),\n",
    "    MaxPooling2D(2, 2),\n",
    "    Flatten(),\n",
    "    Dropout(0.5),\n",
    "    Dense(512, activation='relu'),\n",
    "    Dropout(0.5),\n",
    "    Dense(1, activation='sigmoid')\n",
    "])"
   ]
  },
  {
   "cell_type": "code",
   "execution_count": 85,
   "metadata": {},
   "outputs": [
    {
     "name": "stdout",
     "output_type": "stream",
     "text": [
      "Model: \"sequential_12\"\n",
      "_________________________________________________________________\n",
      "Layer (type)                 Output Shape              Param #   \n",
      "=================================================================\n",
      "batch_normalization_5 (Batch (None, 150, 150, 3)       12        \n",
      "_________________________________________________________________\n",
      "conv2d_36 (Conv2D)           (None, 148, 148, 16)      448       \n",
      "_________________________________________________________________\n",
      "max_pooling2d_36 (MaxPooling (None, 74, 74, 16)        0         \n",
      "_________________________________________________________________\n",
      "conv2d_37 (Conv2D)           (None, 72, 72, 32)        4640      \n",
      "_________________________________________________________________\n",
      "max_pooling2d_37 (MaxPooling (None, 36, 36, 32)        0         \n",
      "_________________________________________________________________\n",
      "conv2d_38 (Conv2D)           (None, 34, 34, 64)        18496     \n",
      "_________________________________________________________________\n",
      "max_pooling2d_38 (MaxPooling (None, 17, 17, 64)        0         \n",
      "_________________________________________________________________\n",
      "flatten_12 (Flatten)         (None, 18496)             0         \n",
      "_________________________________________________________________\n",
      "dropout_15 (Dropout)         (None, 18496)             0         \n",
      "_________________________________________________________________\n",
      "dense_24 (Dense)             (None, 512)               9470464   \n",
      "_________________________________________________________________\n",
      "dropout_16 (Dropout)         (None, 512)               0         \n",
      "_________________________________________________________________\n",
      "dense_25 (Dense)             (None, 1)                 513       \n",
      "=================================================================\n",
      "Total params: 9,494,573\n",
      "Trainable params: 9,494,567\n",
      "Non-trainable params: 6\n",
      "_________________________________________________________________\n"
     ]
    }
   ],
   "source": [
    "model.summary()"
   ]
  },
  {
   "cell_type": "code",
   "execution_count": 86,
   "metadata": {},
   "outputs": [],
   "source": [
    "model.compile(\n",
    "    optimizer=RMSprop(lr=0.001),\n",
    "    loss='binary_crossentropy',\n",
    "    metrics=['accuracy']\n",
    ")"
   ]
  },
  {
   "cell_type": "code",
   "execution_count": 87,
   "metadata": {},
   "outputs": [
    {
     "name": "stdout",
     "output_type": "stream",
     "text": [
      "Epoch 1/30\n",
      "875/875 - 140s - loss: 0.6667 - accuracy: 0.6853 - val_loss: 0.5132 - val_accuracy: 0.7656\n",
      "Epoch 2/30\n",
      "875/875 - 140s - loss: 0.5192 - accuracy: 0.7630 - val_loss: 0.4942 - val_accuracy: 0.7745\n",
      "Epoch 3/30\n",
      "875/875 - 137s - loss: 0.4845 - accuracy: 0.7818 - val_loss: 0.4443 - val_accuracy: 0.8044\n",
      "Epoch 4/30\n",
      "875/875 - 139s - loss: 0.4580 - accuracy: 0.8029 - val_loss: 0.4356 - val_accuracy: 0.8111\n",
      "Epoch 5/30\n",
      "875/875 - 140s - loss: 0.4384 - accuracy: 0.8187 - val_loss: 0.4430 - val_accuracy: 0.8241\n",
      "Epoch 6/30\n",
      "875/875 - 136s - loss: 0.4179 - accuracy: 0.8293 - val_loss: 0.4273 - val_accuracy: 0.8279\n",
      "Epoch 7/30\n",
      "875/875 - 136s - loss: 0.4087 - accuracy: 0.8341 - val_loss: 0.4163 - val_accuracy: 0.8296\n",
      "Epoch 8/30\n",
      "875/875 - 136s - loss: 0.4023 - accuracy: 0.8383 - val_loss: 0.3755 - val_accuracy: 0.8435\n",
      "Epoch 9/30\n",
      "875/875 - 136s - loss: 0.3928 - accuracy: 0.8431 - val_loss: 0.4574 - val_accuracy: 0.8221\n",
      "Epoch 10/30\n",
      "875/875 - 136s - loss: 0.3885 - accuracy: 0.8465 - val_loss: 0.3836 - val_accuracy: 0.8483\n",
      "Epoch 11/30\n",
      "875/875 - 138s - loss: 0.3777 - accuracy: 0.8514 - val_loss: 0.5370 - val_accuracy: 0.8064\n",
      "Epoch 12/30\n",
      "875/875 - 140s - loss: 0.3783 - accuracy: 0.8520 - val_loss: 0.3703 - val_accuracy: 0.8549\n",
      "Epoch 13/30\n",
      "875/875 - 136s - loss: 0.3754 - accuracy: 0.8561 - val_loss: 0.3599 - val_accuracy: 0.8621\n",
      "Epoch 14/30\n",
      "875/875 - 136s - loss: 0.3666 - accuracy: 0.8577 - val_loss: 0.4225 - val_accuracy: 0.8357\n",
      "Epoch 15/30\n",
      "875/875 - 136s - loss: 0.3632 - accuracy: 0.8606 - val_loss: 0.4103 - val_accuracy: 0.8261\n",
      "Epoch 16/30\n",
      "875/875 - 137s - loss: 0.3648 - accuracy: 0.8605 - val_loss: 0.3568 - val_accuracy: 0.8543\n",
      "Epoch 17/30\n",
      "875/875 - 136s - loss: 0.3615 - accuracy: 0.8648 - val_loss: 0.3695 - val_accuracy: 0.8655\n",
      "Epoch 18/30\n",
      "875/875 - 136s - loss: 0.3651 - accuracy: 0.8614 - val_loss: 0.3742 - val_accuracy: 0.8528\n",
      "Epoch 19/30\n",
      "875/875 - 136s - loss: 0.3583 - accuracy: 0.8636 - val_loss: 0.4101 - val_accuracy: 0.8504\n",
      "Epoch 20/30\n",
      "875/875 - 136s - loss: 0.3561 - accuracy: 0.8655 - val_loss: 0.4050 - val_accuracy: 0.8529\n",
      "Epoch 21/30\n",
      "875/875 - 136s - loss: 0.3495 - accuracy: 0.8682 - val_loss: 0.4283 - val_accuracy: 0.8235\n",
      "Epoch 22/30\n",
      "875/875 - 136s - loss: 0.3544 - accuracy: 0.8643 - val_loss: 0.3514 - val_accuracy: 0.8659\n",
      "Epoch 23/30\n",
      "875/875 - 136s - loss: 0.3516 - accuracy: 0.8689 - val_loss: 0.3546 - val_accuracy: 0.8607\n",
      "Epoch 24/30\n",
      "875/875 - 136s - loss: 0.3553 - accuracy: 0.8675 - val_loss: 0.4664 - val_accuracy: 0.8471\n",
      "Epoch 25/30\n",
      "875/875 - 136s - loss: 0.3520 - accuracy: 0.8703 - val_loss: 0.3796 - val_accuracy: 0.8504\n",
      "Epoch 26/30\n",
      "875/875 - 136s - loss: 0.3492 - accuracy: 0.8713 - val_loss: 0.3541 - val_accuracy: 0.8648\n",
      "Epoch 27/30\n",
      "875/875 - 136s - loss: 0.3525 - accuracy: 0.8679 - val_loss: 0.3743 - val_accuracy: 0.8557\n",
      "Epoch 28/30\n",
      "875/875 - 136s - loss: 0.3528 - accuracy: 0.8686 - val_loss: 0.3996 - val_accuracy: 0.8363\n",
      "Epoch 29/30\n",
      "875/875 - 136s - loss: 0.3539 - accuracy: 0.8685 - val_loss: 0.3764 - val_accuracy: 0.8573\n",
      "Epoch 30/30\n",
      "875/875 - 137s - loss: 0.3486 - accuracy: 0.8722 - val_loss: 0.3645 - val_accuracy: 0.8644\n"
     ]
    }
   ],
   "source": [
    "history = model.fit(train_generator,\n",
    "                    validation_data=val_generator,\n",
    "                    steps_per_epoch=875,\n",
    "                    epochs=30,\n",
    "                    validation_steps=375,\n",
    "                    verbose=2\n",
    "                    )"
   ]
  },
  {
   "cell_type": "code",
   "execution_count": 82,
   "metadata": {},
   "outputs": [],
   "source": [
    "train_histories.append(history)"
   ]
  },
  {
   "cell_type": "markdown",
   "metadata": {},
   "source": [
    "- w/o dropout: (model 0)\n",
    "Epoch 15/15\n",
    "875/875 - 96s - loss: 0.2170 - accuracy: 0.9277 - val_loss: 1.2393 - val_accuracy: 0.7411\n",
    "\n",
    "- w dropout: (model 1)\n",
    "Epoch 15/15\n",
    "875/875 - 98s - loss: 0.3616 - accuracy: 0.8531 - val_loss: 0.4020 - val_accuracy: 0.8329\n",
    "\n",
    "- w L1-reg: (model 2)\n",
    "Epoch 15/15\n",
    "875/875 - 97s - loss: 0.5139 - accuracy: 0.8272 - val_loss: 0.6214 - val_accuracy: 0.7700\n",
    "\n",
    "- w L2-reg (model 3)\n",
    "Epoch 15/15\n",
    "875/875 - 96s - loss: 0.3380 - accuracy: 0.8737 - val_loss: 0.4593 - val_accuracy: 0.8092\n",
    "\n",
    "- w BatchNorm on model 0: (model 4) Epoch 15/15\n",
    "875/875 - 136s - loss: 0.2345 - accuracy: 0.9166 - val_loss: 0.5121 - val_accuracy: 0.8327\n",
    "\n",
    "- like above + dropout: (model 5) Epoch 15/15\n",
    "875/875 - 139s - loss: 0.3535 - accuracy: 0.8546 - val_loss: 0.3686 - val_accuracy: 0.8427\n",
    "\n",
    "- same as above but an extra 5 epochs: Epoch 20/20\n",
    "875/875 - 140s - loss: 0.3374 - accuracy: 0.8642 - val_loss: 0.3457 - val_accuracy: 0.8587\n",
    "\n",
    "- same as above but w reg at conv layer: (model 6)Epoch 20/20\n",
    "875/875 - 138s - loss: 0.3737 - accuracy: 0.8593 - val_loss: 0.3590 - val_accuracy: 0.8613"
   ]
  },
  {
   "cell_type": "code",
   "execution_count": 83,
   "metadata": {},
   "outputs": [
    {
     "data": {
      "image/png": "[encoded data removed]",
      "text/plain": [
       "<Figure size 432x288 with 1 Axes>"
      ]
     },
     "metadata": {
      "needs_background": "light"
     },
     "output_type": "display_data"
    },
    {
     "data": {
      "image/png": "[encoded data removed]",
      "text/plain": [
       "<Figure size 432x288 with 1 Axes>"
      ]
     },
     "metadata": {
      "needs_background": "light"
     },
     "output_type": "display_data"
    }
   ],
   "source": [
    "acc = history.history['accuracy']\n",
    "val_acc = history.history['val_accuracy']\n",
    "loss = history.history['loss']\n",
    "val_loss = history.history['val_loss']\n",
    "\n",
    "epochs = range(len(acc))\n",
    "\n",
    "plt.plot(epochs, acc)\n",
    "plt.plot(epochs, val_acc)\n",
    "plt.legend(['train','val'])\n",
    "plt.title('Training and validation accuracy')\n",
    "plt.xlabel('epoch')\n",
    "plt.ylabel('acc')\n",
    "\n",
    "plt.figure()\n",
    "plt.plot(epochs, loss)\n",
    "plt.plot(epochs, val_loss)\n",
    "plt.legend(['train','val'])\n",
    "plt.title('Training and validation loss')\n",
    "plt.xlabel('epoch')\n",
    "plt.ylabel('loss')\n",
    "plt.show()"
   ]
  },
  {
   "cell_type": "code",
   "execution_count": null,
   "metadata": {},
   "outputs": [],
   "source": []
  }
 ],
 "metadata": {
  "kernelspec": {
   "display_name": "Python 3",
   "language": "python",
   "name": "python3"
  },
  "language_info": {
   "codemirror_mode": {
    "name": "ipython",
    "version": 3
   },
   "file_extension": ".py",
   "mimetype": "text/x-python",
   "name": "python",
   "nbconvert_exporter": "python",
   "pygments_lexer": "ipython3",
   "version": "3.6.10"
  }
 },
 "nbformat": 4,
 "nbformat_minor": 4
}
