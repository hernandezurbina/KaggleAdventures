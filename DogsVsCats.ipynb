{
 "cells": [
  {
   "cell_type": "code",
   "execution_count": 1,
   "metadata": {},
   "outputs": [],
   "source": [
    "import tensorflow as tf\n",
    "from tensorflow.keras.preprocessing.image import ImageDataGenerator\n",
    "import os"
   ]
  },
  {
   "cell_type": "code",
   "execution_count": 96,
   "metadata": {},
   "outputs": [],
   "source": [
    "import numpy as np"
   ]
  },
  {
   "cell_type": "markdown",
   "metadata": {},
   "source": [
    "# Train"
   ]
  },
  {
   "cell_type": "code",
   "execution_count": 2,
   "metadata": {},
   "outputs": [],
   "source": [
    "base_dir = 'datasets/dogs_vs_cats/'\n",
    "train_dir = os.path.join(base_dir, 'train')"
   ]
  },
  {
   "cell_type": "code",
   "execution_count": 3,
   "metadata": {},
   "outputs": [],
   "source": [
    "train_dogs_dir = os.path.join(train_dir, 'dogs')\n",
    "train_cats_dir = os.path.join(train_dir, 'cats')"
   ]
  },
  {
   "cell_type": "code",
   "execution_count": 4,
   "metadata": {},
   "outputs": [],
   "source": [
    "generator = ImageDataGenerator(rescale=1.0/255., validation_split=0.3)"
   ]
  },
  {
   "cell_type": "code",
   "execution_count": 5,
   "metadata": {},
   "outputs": [
    {
     "name": "stdout",
     "output_type": "stream",
     "text": [
      "Found 17500 images belonging to 2 classes.\n",
      "Found 7500 images belonging to 2 classes.\n"
     ]
    }
   ],
   "source": [
    "train_generator = generator.flow_from_directory(train_dir,\n",
    "                                                batch_size=20,\n",
    "                                                class_mode='binary',\n",
    "                                                target_size=(150, 150),\n",
    "                                                subset='training'\n",
    "                                               )\n",
    "\n",
    "val_generator = generator.flow_from_directory(train_dir,\n",
    "                                                batch_size=20,\n",
    "                                                class_mode='binary',\n",
    "                                                target_size=(150, 150),\n",
    "                                                subset='validation'\n",
    "                                               )"
   ]
  },
  {
   "cell_type": "code",
   "execution_count": 6,
   "metadata": {},
   "outputs": [],
   "source": [
    "train_cats_dir = os.path.join(train_dir, 'cats')\n",
    "train_dogs_dir = os.path.join(train_dir, 'dogs')"
   ]
  },
  {
   "cell_type": "code",
   "execution_count": 7,
   "metadata": {},
   "outputs": [],
   "source": [
    "train_cats_fnames = os.listdir(train_cats_dir)\n",
    "train_dogs_fnames = os.listdir(train_dogs_dir)"
   ]
  },
  {
   "cell_type": "code",
   "execution_count": 8,
   "metadata": {},
   "outputs": [
    {
     "name": "stdout",
     "output_type": "stream",
     "text": [
      "['cat.2587.jpg', 'cat.5777.jpg', 'cat.5479.jpg', 'cat.2561.jpg', 'cat.6315.jpg', 'cat.12084.jpg', 'cat.3573.jpg', 'cat.6867.jpg', 'cat.4188.jpg', 'cat.1035.jpg']\n",
      "['dog.8939.jpg', 'dog.4870.jpg', 'dog.6630.jpg', 'dog.6063.jpg', 'dog.12330.jpg', 'dog.5347.jpg', 'dog.3869.jpg', 'dog.11833.jpg', 'dog.3787.jpg', 'dog.9037.jpg']\n"
     ]
    }
   ],
   "source": [
    "print(train_cats_fnames[:10])\n",
    "print(train_dogs_fnames[:10])"
   ]
  },
  {
   "cell_type": "code",
   "execution_count": 9,
   "metadata": {},
   "outputs": [],
   "source": [
    "import matplotlib.image as mpimg\n",
    "import matplotlib.pyplot as plt\n",
    "%matplotlib inline"
   ]
  },
  {
   "cell_type": "code",
   "execution_count": 10,
   "metadata": {},
   "outputs": [],
   "source": [
    "from tensorflow.keras.models import Sequential\n",
    "from tensorflow.keras.layers import Conv2D, MaxPooling2D, Flatten, Dense"
   ]
  },
  {
   "cell_type": "code",
   "execution_count": 57,
   "metadata": {},
   "outputs": [],
   "source": [
    "from tensorflow.keras.layers import Dropout, BatchNormalization\n",
    "from tensorflow.keras.regularizers import l1, l2"
   ]
  },
  {
   "cell_type": "code",
   "execution_count": 13,
   "metadata": {},
   "outputs": [],
   "source": [
    "from tensorflow.keras.optimizers import RMSprop"
   ]
  },
  {
   "cell_type": "code",
   "execution_count": 28,
   "metadata": {},
   "outputs": [],
   "source": [
    "train_histories = []"
   ]
  },
  {
   "cell_type": "code",
   "execution_count": 52,
   "metadata": {},
   "outputs": [],
   "source": [
    "### model 0 and 1:\n",
    "# model = Sequential([\n",
    "#     Conv2D(16, (3, 3), activation='relu', input_shape=(150, 150, 3)),\n",
    "#     MaxPooling2D(2, 2),\n",
    "#     Conv2D(32, (3, 3), activation='relu'),\n",
    "#     MaxPooling2D(2, 2),\n",
    "#     Conv2D(64, (3, 3), activation='relu'),\n",
    "#     MaxPooling2D(2, 2),\n",
    "#     Flatten(),\n",
    "#     Dropout(0.5),\n",
    "#     Dense(512, activation='relu'),\n",
    "#     Dropout(0.5),\n",
    "#     Dense(1, activation='sigmoid')\n",
    "# ])"
   ]
  },
  {
   "cell_type": "code",
   "execution_count": 46,
   "metadata": {},
   "outputs": [],
   "source": [
    "### model 2 and 3:\n",
    "# model = Sequential([\n",
    "#     Conv2D(16, (3, 3), activation='relu', input_shape=(150, 150, 3)),\n",
    "#     MaxPooling2D(2, 2),\n",
    "#     Conv2D(32, (3, 3), activation='relu'),\n",
    "#     MaxPooling2D(2, 2),\n",
    "#     #Conv2D(64, (3, 3), activation='relu'),\n",
    "#     Conv2D(64, (3, 3), activation='relu', kernel_regularizer=l2(l=0.01)),\n",
    "#     MaxPooling2D(2, 2),\n",
    "#     Flatten(),\n",
    "#     Dense(512, activation='relu'),\n",
    "#     Dropout(0.5),\n",
    "#     Dense(1, activation='sigmoid')\n",
    "# ])"
   ]
  },
  {
   "cell_type": "code",
   "execution_count": 71,
   "metadata": {},
   "outputs": [],
   "source": [
    "### model 4 and 5:\n",
    "# model = Sequential([\n",
    "#     BatchNormalization(input_shape=(150, 150, 3)),\n",
    "#     Conv2D(16, (3, 3), activation='relu'),\n",
    "#     MaxPooling2D(2, 2),\n",
    "#     Conv2D(32, (3, 3), activation='relu'),\n",
    "#     MaxPooling2D(2, 2),\n",
    "#     Conv2D(64, (3, 3), activation='relu'),\n",
    "#     MaxPooling2D(2, 2),\n",
    "#     Flatten(),\n",
    "#     Dropout(0.5),\n",
    "#     Dense(512, activation='relu'),\n",
    "#     Dropout(0.5),\n",
    "#     Dense(1, activation='sigmoid')\n",
    "# ])"
   ]
  },
  {
   "cell_type": "code",
   "execution_count": 129,
   "metadata": {},
   "outputs": [],
   "source": [
    "### model 6 and 7:\n",
    "# model = Sequential([\n",
    "#     BatchNormalization(input_shape=(150, 150, 3)),\n",
    "#     Conv2D(16, (3, 3), activation='relu'),\n",
    "#     BatchNormalization(),\n",
    "#     MaxPooling2D(2, 2),\n",
    "#     Conv2D(32, (3, 3), activation='relu'),\n",
    "#     MaxPooling2D(2, 2),\n",
    "#     Conv2D(64, (3, 3), activation='relu', kernel_regularizer=l2(l=0.01)),\n",
    "#     MaxPooling2D(2, 2),\n",
    "#     Flatten(),\n",
    "#     Dropout(0.5),\n",
    "#     Dense(512, activation='relu'),\n",
    "#     Dropout(0.5),\n",
    "#     Dense(1, activation='sigmoid')\n",
    "# ])"
   ]
  },
  {
   "cell_type": "code",
   "execution_count": 177,
   "metadata": {},
   "outputs": [],
   "source": [
    "### model 8, 9, 11, 12, 13:\n",
    "model = Sequential([\n",
    "    BatchNormalization(input_shape=(150, 150, 3)),\n",
    "    Conv2D(16, (3, 3), activation='relu'),\n",
    "    #BatchNormalization(),\n",
    "    MaxPooling2D(2, 2),\n",
    "    Conv2D(32, (3, 3), activation='relu'),\n",
    "    MaxPooling2D(2, 2),\n",
    "    Conv2D(32, (3, 3), activation='relu'),\n",
    "    MaxPooling2D(2, 2),\n",
    "    Conv2D(64, (3, 3), activation='relu', kernel_regularizer=l2(l=0.01)), ## prev 64\n",
    "    MaxPooling2D(2, 2),\n",
    "    Conv2D(128, (3, 3), activation='relu', kernel_regularizer=l2(l=0.01)), ## prev 64\n",
    "    MaxPooling2D(2, 2),   \n",
    "    Flatten(),\n",
    "    Dropout(0.5),\n",
    "    Dense(512, activation='relu'),\n",
    "    Dropout(0.5),\n",
    "#     Dense(256, activation='relu'),\n",
    "#     Dropout(0.5),    \n",
    "    Dense(1, activation='sigmoid')\n",
    "])"
   ]
  },
  {
   "cell_type": "code",
   "execution_count": 150,
   "metadata": {},
   "outputs": [],
   "source": [
    "### model 10:\n",
    "# model = Sequential([\n",
    "#     BatchNormalization(input_shape=(150, 150, 3)),\n",
    "#     Conv2D(32, (3, 3), activation='relu'),\n",
    "#     MaxPooling2D(2, 2),\n",
    "#     Conv2D(64, (3, 3), activation='relu',kernel_regularizer=l2(l=0.01)),\n",
    "#     MaxPooling2D(2, 2),\n",
    "#     Conv2D(128, (3, 3), activation='relu', kernel_regularizer=l2(l=0.01)),\n",
    "#     MaxPooling2D(2, 2),\n",
    "#     Flatten(),\n",
    "#     Dropout(0.5),\n",
    "#     Dense(512, activation='relu'),\n",
    "#     Dropout(0.5),\n",
    "#     Dense(1, activation='sigmoid')\n",
    "# ])"
   ]
  },
  {
   "cell_type": "code",
   "execution_count": 178,
   "metadata": {},
   "outputs": [
    {
     "name": "stdout",
     "output_type": "stream",
     "text": [
      "Model: \"sequential_29\"\n",
      "_________________________________________________________________\n",
      "Layer (type)                 Output Shape              Param #   \n",
      "=================================================================\n",
      "batch_normalization_23 (Batc (None, 150, 150, 3)       12        \n",
      "_________________________________________________________________\n",
      "conv2d_115 (Conv2D)          (None, 148, 148, 16)      448       \n",
      "_________________________________________________________________\n",
      "max_pooling2d_115 (MaxPoolin (None, 74, 74, 16)        0         \n",
      "_________________________________________________________________\n",
      "conv2d_116 (Conv2D)          (None, 72, 72, 32)        4640      \n",
      "_________________________________________________________________\n",
      "max_pooling2d_116 (MaxPoolin (None, 36, 36, 32)        0         \n",
      "_________________________________________________________________\n",
      "conv2d_117 (Conv2D)          (None, 34, 34, 32)        9248      \n",
      "_________________________________________________________________\n",
      "max_pooling2d_117 (MaxPoolin (None, 17, 17, 32)        0         \n",
      "_________________________________________________________________\n",
      "conv2d_118 (Conv2D)          (None, 15, 15, 64)        18496     \n",
      "_________________________________________________________________\n",
      "max_pooling2d_118 (MaxPoolin (None, 7, 7, 64)          0         \n",
      "_________________________________________________________________\n",
      "conv2d_119 (Conv2D)          (None, 5, 5, 128)         73856     \n",
      "_________________________________________________________________\n",
      "max_pooling2d_119 (MaxPoolin (None, 2, 2, 128)         0         \n",
      "_________________________________________________________________\n",
      "flatten_29 (Flatten)         (None, 512)               0         \n",
      "_________________________________________________________________\n",
      "dropout_51 (Dropout)         (None, 512)               0         \n",
      "_________________________________________________________________\n",
      "dense_60 (Dense)             (None, 512)               262656    \n",
      "_________________________________________________________________\n",
      "dropout_52 (Dropout)         (None, 512)               0         \n",
      "_________________________________________________________________\n",
      "dense_61 (Dense)             (None, 1)                 513       \n",
      "=================================================================\n",
      "Total params: 369,869\n",
      "Trainable params: 369,863\n",
      "Non-trainable params: 6\n",
      "_________________________________________________________________\n"
     ]
    }
   ],
   "source": [
    "model.summary()"
   ]
  },
  {
   "cell_type": "code",
   "execution_count": 179,
   "metadata": {},
   "outputs": [],
   "source": [
    "model.compile(\n",
    "    optimizer=RMSprop(lr=0.001),\n",
    "    loss='binary_crossentropy',\n",
    "    metrics=['accuracy']\n",
    ")"
   ]
  },
  {
   "cell_type": "code",
   "execution_count": 180,
   "metadata": {
    "scrolled": true
   },
   "outputs": [
    {
     "name": "stdout",
     "output_type": "stream",
     "text": [
      "Epoch 1/50\n",
      "875/875 - 118s - loss: 0.6949 - accuracy: 0.6179 - val_loss: 0.6283 - val_accuracy: 0.6425\n",
      "Epoch 2/50\n",
      "875/875 - 117s - loss: 0.5849 - accuracy: 0.7035 - val_loss: 0.5807 - val_accuracy: 0.7316\n",
      "Epoch 3/50\n",
      "875/875 - 118s - loss: 0.5332 - accuracy: 0.7509 - val_loss: 0.5609 - val_accuracy: 0.7503\n",
      "Epoch 4/50\n",
      "875/875 - 118s - loss: 0.4923 - accuracy: 0.7818 - val_loss: 0.4522 - val_accuracy: 0.8043\n",
      "Epoch 5/50\n",
      "875/875 - 118s - loss: 0.4526 - accuracy: 0.8131 - val_loss: 0.5355 - val_accuracy: 0.7541\n",
      "Epoch 6/50\n",
      "875/875 - 118s - loss: 0.4255 - accuracy: 0.8270 - val_loss: 0.3904 - val_accuracy: 0.8405\n",
      "Epoch 7/50\n",
      "875/875 - 118s - loss: 0.4046 - accuracy: 0.8401 - val_loss: 0.4043 - val_accuracy: 0.8444\n",
      "Epoch 8/50\n",
      "875/875 - 119s - loss: 0.3847 - accuracy: 0.8512 - val_loss: 0.3600 - val_accuracy: 0.8576\n",
      "Epoch 9/50\n",
      "875/875 - 118s - loss: 0.3793 - accuracy: 0.8549 - val_loss: 0.3678 - val_accuracy: 0.8551\n",
      "Epoch 10/50\n",
      "875/875 - 120s - loss: 0.3674 - accuracy: 0.8636 - val_loss: 0.3593 - val_accuracy: 0.8600\n",
      "Epoch 11/50\n",
      "875/875 - 121s - loss: 0.3612 - accuracy: 0.8628 - val_loss: 0.3796 - val_accuracy: 0.8491\n",
      "Epoch 12/50\n",
      "875/875 - 120s - loss: 0.3567 - accuracy: 0.8682 - val_loss: 0.4812 - val_accuracy: 0.8049\n",
      "Epoch 13/50\n",
      "875/875 - 121s - loss: 0.3498 - accuracy: 0.8702 - val_loss: 0.3469 - val_accuracy: 0.8741\n",
      "Epoch 14/50\n",
      "875/875 - 121s - loss: 0.3462 - accuracy: 0.8733 - val_loss: 0.3587 - val_accuracy: 0.8729\n",
      "Epoch 15/50\n",
      "875/875 - 122s - loss: 0.3362 - accuracy: 0.8781 - val_loss: 0.3500 - val_accuracy: 0.8641\n",
      "Epoch 16/50\n",
      "875/875 - 123s - loss: 0.3351 - accuracy: 0.8789 - val_loss: 0.3508 - val_accuracy: 0.8677\n",
      "Epoch 17/50\n",
      "875/875 - 122s - loss: 0.3324 - accuracy: 0.8803 - val_loss: 0.3812 - val_accuracy: 0.8489\n",
      "Epoch 18/50\n",
      "875/875 - 122s - loss: 0.3307 - accuracy: 0.8827 - val_loss: 0.3484 - val_accuracy: 0.8664\n",
      "Epoch 19/50\n",
      "875/875 - 122s - loss: 0.3248 - accuracy: 0.8842 - val_loss: 1.0611 - val_accuracy: 0.7755\n",
      "Epoch 20/50\n",
      "875/875 - 123s - loss: 0.3254 - accuracy: 0.8869 - val_loss: 0.3382 - val_accuracy: 0.8760\n",
      "Epoch 21/50\n",
      "875/875 - 121s - loss: 0.3170 - accuracy: 0.8903 - val_loss: 0.3539 - val_accuracy: 0.8768\n",
      "Epoch 22/50\n",
      "875/875 - 121s - loss: 0.3275 - accuracy: 0.8851 - val_loss: 0.3423 - val_accuracy: 0.8732\n",
      "Epoch 23/50\n",
      "875/875 - 120s - loss: 0.3262 - accuracy: 0.8869 - val_loss: 0.3380 - val_accuracy: 0.8691\n",
      "Epoch 24/50\n",
      "875/875 - 121s - loss: 0.3244 - accuracy: 0.8874 - val_loss: 0.3565 - val_accuracy: 0.8644\n",
      "Epoch 25/50\n",
      "875/875 - 120s - loss: 0.3202 - accuracy: 0.8899 - val_loss: 0.3922 - val_accuracy: 0.8596\n",
      "Epoch 26/50\n",
      "875/875 - 120s - loss: 0.3251 - accuracy: 0.8875 - val_loss: 0.4271 - val_accuracy: 0.8512\n",
      "Epoch 27/50\n",
      "875/875 - 120s - loss: 0.3326 - accuracy: 0.8877 - val_loss: 0.3671 - val_accuracy: 0.8575\n",
      "Epoch 28/50\n",
      "875/875 - 120s - loss: 0.3247 - accuracy: 0.8882 - val_loss: 0.4104 - val_accuracy: 0.8775\n",
      "Epoch 29/50\n",
      "875/875 - 120s - loss: 0.3306 - accuracy: 0.8883 - val_loss: 0.3510 - val_accuracy: 0.8689\n",
      "Epoch 30/50\n",
      "875/875 - 120s - loss: 0.3243 - accuracy: 0.8922 - val_loss: 0.3513 - val_accuracy: 0.8761\n",
      "Epoch 31/50\n",
      "875/875 - 120s - loss: 0.3328 - accuracy: 0.8893 - val_loss: 0.3599 - val_accuracy: 0.8576\n",
      "Epoch 32/50\n",
      "875/875 - 120s - loss: 0.3373 - accuracy: 0.8886 - val_loss: 0.5525 - val_accuracy: 0.8567\n",
      "Epoch 33/50\n",
      "875/875 - 119s - loss: 0.3428 - accuracy: 0.8889 - val_loss: 0.3684 - val_accuracy: 0.8685\n",
      "Epoch 34/50\n",
      "875/875 - 120s - loss: 0.3239 - accuracy: 0.8881 - val_loss: 0.3498 - val_accuracy: 0.8700\n",
      "Epoch 35/50\n",
      "875/875 - 120s - loss: 0.3332 - accuracy: 0.8907 - val_loss: 0.4330 - val_accuracy: 0.8491\n",
      "Epoch 36/50\n",
      "875/875 - 120s - loss: 0.3367 - accuracy: 0.8926 - val_loss: 0.3946 - val_accuracy: 0.8732\n",
      "Epoch 37/50\n",
      "875/875 - 120s - loss: 0.3292 - accuracy: 0.8873 - val_loss: 0.3993 - val_accuracy: 0.8845\n",
      "Epoch 38/50\n",
      "875/875 - 120s - loss: 0.3329 - accuracy: 0.8875 - val_loss: 0.3766 - val_accuracy: 0.8784\n",
      "Epoch 39/50\n",
      "875/875 - 120s - loss: 0.3289 - accuracy: 0.8935 - val_loss: 0.3647 - val_accuracy: 0.8651\n",
      "Epoch 40/50\n",
      "875/875 - 120s - loss: 0.3232 - accuracy: 0.8914 - val_loss: 0.4436 - val_accuracy: 0.8404\n",
      "Epoch 41/50\n",
      "875/875 - 120s - loss: 0.3368 - accuracy: 0.8931 - val_loss: 0.6837 - val_accuracy: 0.8385\n",
      "Epoch 42/50\n",
      "875/875 - 120s - loss: 0.3274 - accuracy: 0.8872 - val_loss: 0.4021 - val_accuracy: 0.8675\n",
      "Epoch 43/50\n",
      "875/875 - 119s - loss: 0.3169 - accuracy: 0.8930 - val_loss: 0.3995 - val_accuracy: 0.8791\n",
      "Epoch 44/50\n",
      "875/875 - 120s - loss: 0.3300 - accuracy: 0.8918 - val_loss: 0.4072 - val_accuracy: 0.8569\n",
      "Epoch 45/50\n",
      "875/875 - 120s - loss: 0.3214 - accuracy: 0.8930 - val_loss: 0.3872 - val_accuracy: 0.8688\n",
      "Epoch 46/50\n",
      "875/875 - 120s - loss: 0.3330 - accuracy: 0.8896 - val_loss: 0.4071 - val_accuracy: 0.8648\n",
      "Epoch 47/50\n",
      "875/875 - 120s - loss: 0.3318 - accuracy: 0.8879 - val_loss: 0.4563 - val_accuracy: 0.8332\n",
      "Epoch 48/50\n",
      "875/875 - 120s - loss: 0.3472 - accuracy: 0.8936 - val_loss: 0.4557 - val_accuracy: 0.8724\n",
      "Epoch 49/50\n",
      "875/875 - 120s - loss: 0.3254 - accuracy: 0.8891 - val_loss: 0.3638 - val_accuracy: 0.8683\n",
      "Epoch 50/50\n",
      "875/875 - 120s - loss: 0.3322 - accuracy: 0.8894 - val_loss: 0.3850 - val_accuracy: 0.8780\n"
     ]
    }
   ],
   "source": [
    "history = model.fit(train_generator,\n",
    "                    validation_data=val_generator,\n",
    "                    steps_per_epoch=875,\n",
    "                    epochs=50,\n",
    "                    validation_steps=375,\n",
    "                    verbose=2\n",
    "                    )"
   ]
  },
  {
   "cell_type": "code",
   "execution_count": 167,
   "metadata": {},
   "outputs": [],
   "source": [
    "train_histories.append(history)"
   ]
  },
  {
   "cell_type": "markdown",
   "metadata": {},
   "source": [
    "- w/o dropout: (model 0)\n",
    "Epoch 15/15\n",
    "875/875 - 96s - loss: 0.2170 - accuracy: 0.9277 - val_loss: 1.2393 - val_accuracy: 0.7411\n",
    "\n",
    "- w dropout: (model 1)\n",
    "Epoch 15/15\n",
    "875/875 - 98s - loss: 0.3616 - accuracy: 0.8531 - val_loss: 0.4020 - val_accuracy: 0.8329\n",
    "\n",
    "- w L1-reg: (model 2)\n",
    "Epoch 15/15\n",
    "875/875 - 97s - loss: 0.5139 - accuracy: 0.8272 - val_loss: 0.6214 - val_accuracy: 0.7700\n",
    "\n",
    "- w L2-reg (model 3)\n",
    "Epoch 15/15\n",
    "875/875 - 96s - loss: 0.3380 - accuracy: 0.8737 - val_loss: 0.4593 - val_accuracy: 0.8092\n",
    "\n",
    "- w BatchNorm on model 0: (model 4) Epoch 15/15\n",
    "875/875 - 136s - loss: 0.2345 - accuracy: 0.9166 - val_loss: 0.5121 - val_accuracy: 0.8327\n",
    "\n",
    "- like above + dropout: (model 5) Epoch 15/15\n",
    "875/875 - 139s - loss: 0.3535 - accuracy: 0.8546 - val_loss: 0.3686 - val_accuracy: 0.8427\n",
    "\n",
    "- same as above but an extra 5 epochs: Epoch 20/20\n",
    "875/875 - 140s - loss: 0.3374 - accuracy: 0.8642 - val_loss: 0.3457 - val_accuracy: 0.8587\n",
    "\n",
    "- same as above but w reg at conv layer: (model 6)Epoch 20/20\n",
    "875/875 - 138s - loss: 0.3737 - accuracy: 0.8593 - val_loss: 0.3590 - val_accuracy: 0.8613\n",
    "\n",
    "- same as above but larger epochs: Epoch 30/30\n",
    "875/875 - 137s - loss: 0.3486 - accuracy: 0.8722 - val_loss: 0.3645 - val_accuracy: 0.8644\n",
    "\n",
    "- same as above but 50 epochs: Epoch 50/50\n",
    "875/875 - 136s - loss: 0.3984 - accuracy: 0.8536 - val_loss: 0.5817 - val_accuracy: 0.8069\n",
    "\n",
    "- same as model 6 but w BN after CV layer: (model 7) Epoch 30/30\n",
    "875/875 - 153s - loss: 0.3921 - accuracy: 0.8487 - val_loss: 0.4103 - val_accuracy: 0.8512\n",
    "\n",
    "- same as model 6 but w an extra CV layer: (model 8) Epoch 30/30\n",
    "875/875 - 124s - loss: 0.3255 - accuracy: 0.8783 - val_loss: 0.3152 - val_accuracy: 0.8824\n",
    "\n",
    "- same as model 8 but w an extra CV layer: (model 9) Epoch 30/30\n",
    "875/875 - 118s - loss: 0.3167 - accuracy: 0.8923 - val_loss: 0.3607 - val_accuracy: 0.8699\n",
    "\n",
    "- same as model 5 but w more filters per CV layer: (model 10) Epoch 30/30\n",
    "875/875 - 215s - loss: 0.4123 - accuracy: 0.8401 - val_loss: 0.4458 - val_accuracy: 0.8384\n",
    "\n",
    "- same as model 9 but w more filters per CV layer: (model 11) Epoch 30/30\n",
    "875/875 - 117s - loss: 0.2832 - accuracy: 0.9039 - val_loss: 0.3198 - val_accuracy: 0.8812\n",
    "\n",
    "- same as above but w and extra dense layer: (model 12) Epoch 30/30\n",
    "875/875 - 118s - loss: 0.4353 - accuracy: 0.8455 - val_loss: 0.3976 - val_accuracy: 0.8559\n",
    "\n",
    "- same as model 11 but w yet even more filters in CV layer: (model 13) Epoch 30/30\n",
    "875/875 - 118s - loss: 0.2945 - accuracy: 0.9026 - val_loss: 0.3283 - val_accuracy: 0.8783"
   ]
  },
  {
   "cell_type": "code",
   "execution_count": 176,
   "metadata": {},
   "outputs": [
    {
     "data": {
      "image/png": "[encoded data removed]",
      "text/plain": [
       "<Figure size 432x288 with 1 Axes>"
      ]
     },
     "metadata": {
      "needs_background": "light"
     },
     "output_type": "display_data"
    },
    {
     "data": {
      "image/png": "[encoded data removed]",
      "text/plain": [
       "<Figure size 432x288 with 1 Axes>"
      ]
     },
     "metadata": {
      "needs_background": "light"
     },
     "output_type": "display_data"
    }
   ],
   "source": [
    "acc = history.history['accuracy']\n",
    "val_acc = history.history['val_accuracy']\n",
    "loss = history.history['loss']\n",
    "val_loss = history.history['val_loss']\n",
    "\n",
    "epochs = range(len(acc))\n",
    "\n",
    "plt.plot(epochs, acc)\n",
    "plt.plot(epochs, val_acc)\n",
    "plt.legend(['train','val'])\n",
    "plt.title('Training and validation accuracy')\n",
    "plt.xlabel('epoch')\n",
    "plt.ylabel('acc')\n",
    "\n",
    "plt.figure()\n",
    "plt.plot(epochs, loss)\n",
    "plt.plot(epochs, val_loss)\n",
    "plt.legend(['train','val'])\n",
    "plt.title('Training and validation loss')\n",
    "plt.xlabel('epoch')\n",
    "plt.ylabel('loss')\n",
    "plt.show()"
   ]
  },
  {
   "cell_type": "markdown",
   "metadata": {},
   "source": [
    "# Test"
   ]
  },
  {
   "cell_type": "code",
   "execution_count": 94,
   "metadata": {},
   "outputs": [],
   "source": [
    "from tensorflow.keras.preprocessing import image"
   ]
  },
  {
   "cell_type": "code",
   "execution_count": 128,
   "metadata": {},
   "outputs": [
    {
     "name": "stdout",
     "output_type": "stream",
     "text": [
      "[1.]\n",
      "it's a dog!\n"
     ]
    }
   ],
   "source": [
    "img_name = '938.jpg'\n",
    "path = 'datasets/dogs_vs_cats/test/'\n",
    "img = image.load_img(path+img_name, target_size=(150, 150))\n",
    "\n",
    "x = image.img_to_array(img)\n",
    "x = np.expand_dims(x, axis=0)\n",
    "images = np.vstack([x])\n",
    "\n",
    "classes = model.predict(images, batch_size=10)\n",
    "print(classes[0])\n",
    "if classes[0] > 0.5:\n",
    "    print(\"it's a dog!\")\n",
    "else:\n",
    "    print(\"it's a cat!\")"
   ]
  },
  {
   "cell_type": "code",
   "execution_count": null,
   "metadata": {},
   "outputs": [],
   "source": []
  }
 ],
 "metadata": {
  "kernelspec": {
   "display_name": "Python 3",
   "language": "python",
   "name": "python3"
  },
  "language_info": {
   "codemirror_mode": {
    "name": "ipython",
    "version": 3
   },
   "file_extension": ".py",
   "mimetype": "text/x-python",
   "name": "python",
   "nbconvert_exporter": "python",
   "pygments_lexer": "ipython3",
   "version": "3.6.10"
  }
 },
 "nbformat": 4,
 "nbformat_minor": 4
}
