{
 "cells": [
  {
   "cell_type": "code",
   "execution_count": 1,
   "metadata": {},
   "outputs": [],
   "source": [
    "import pandas as pd\n",
    "import numpy as np"
   ]
  },
  {
   "cell_type": "code",
   "execution_count": 9,
   "metadata": {},
   "outputs": [],
   "source": [
    "import matplotlib.pyplot as plt\n",
    "import seaborn as sns\n",
    "%matplotlib inline"
   ]
  },
  {
   "cell_type": "code",
   "execution_count": 2,
   "metadata": {},
   "outputs": [],
   "source": [
    "titanic = pd.read_csv('datasets/titanic/train.csv')"
   ]
  },
  {
   "cell_type": "code",
   "execution_count": 3,
   "metadata": {},
   "outputs": [
    {
     "data": {
      "text/html": [
       "<div>\n",
       "<style scoped>\n",
       "    .dataframe tbody tr th:only-of-type {\n",
       "        vertical-align: middle;\n",
       "    }\n",
       "\n",
       "    .dataframe tbody tr th {\n",
       "        vertical-align: top;\n",
       "    }\n",
       "\n",
       "    .dataframe thead th {\n",
       "        text-align: right;\n",
       "    }\n",
       "</style>\n",
       "<table border=\"1\" class=\"dataframe\">\n",
       "  <thead>\n",
       "    <tr style=\"text-align: right;\">\n",
       "      <th></th>\n",
       "      <th>PassengerId</th>\n",
       "      <th>Survived</th>\n",
       "      <th>Pclass</th>\n",
       "      <th>Name</th>\n",
       "      <th>Sex</th>\n",
       "      <th>Age</th>\n",
       "      <th>SibSp</th>\n",
       "      <th>Parch</th>\n",
       "      <th>Ticket</th>\n",
       "      <th>Fare</th>\n",
       "      <th>Cabin</th>\n",
       "      <th>Embarked</th>\n",
       "    </tr>\n",
       "  </thead>\n",
       "  <tbody>\n",
       "    <tr>\n",
       "      <th>0</th>\n",
       "      <td>1</td>\n",
       "      <td>0</td>\n",
       "      <td>3</td>\n",
       "      <td>Braund, Mr. Owen Harris</td>\n",
       "      <td>male</td>\n",
       "      <td>22.0</td>\n",
       "      <td>1</td>\n",
       "      <td>0</td>\n",
       "      <td>A/5 21171</td>\n",
       "      <td>7.2500</td>\n",
       "      <td>NaN</td>\n",
       "      <td>S</td>\n",
       "    </tr>\n",
       "    <tr>\n",
       "      <th>1</th>\n",
       "      <td>2</td>\n",
       "      <td>1</td>\n",
       "      <td>1</td>\n",
       "      <td>Cumings, Mrs. John Bradley (Florence Briggs Th...</td>\n",
       "      <td>female</td>\n",
       "      <td>38.0</td>\n",
       "      <td>1</td>\n",
       "      <td>0</td>\n",
       "      <td>PC 17599</td>\n",
       "      <td>71.2833</td>\n",
       "      <td>C85</td>\n",
       "      <td>C</td>\n",
       "    </tr>\n",
       "    <tr>\n",
       "      <th>2</th>\n",
       "      <td>3</td>\n",
       "      <td>1</td>\n",
       "      <td>3</td>\n",
       "      <td>Heikkinen, Miss. Laina</td>\n",
       "      <td>female</td>\n",
       "      <td>26.0</td>\n",
       "      <td>0</td>\n",
       "      <td>0</td>\n",
       "      <td>STON/O2. 3101282</td>\n",
       "      <td>7.9250</td>\n",
       "      <td>NaN</td>\n",
       "      <td>S</td>\n",
       "    </tr>\n",
       "    <tr>\n",
       "      <th>3</th>\n",
       "      <td>4</td>\n",
       "      <td>1</td>\n",
       "      <td>1</td>\n",
       "      <td>Futrelle, Mrs. Jacques Heath (Lily May Peel)</td>\n",
       "      <td>female</td>\n",
       "      <td>35.0</td>\n",
       "      <td>1</td>\n",
       "      <td>0</td>\n",
       "      <td>113803</td>\n",
       "      <td>53.1000</td>\n",
       "      <td>C123</td>\n",
       "      <td>S</td>\n",
       "    </tr>\n",
       "    <tr>\n",
       "      <th>4</th>\n",
       "      <td>5</td>\n",
       "      <td>0</td>\n",
       "      <td>3</td>\n",
       "      <td>Allen, Mr. William Henry</td>\n",
       "      <td>male</td>\n",
       "      <td>35.0</td>\n",
       "      <td>0</td>\n",
       "      <td>0</td>\n",
       "      <td>373450</td>\n",
       "      <td>8.0500</td>\n",
       "      <td>NaN</td>\n",
       "      <td>S</td>\n",
       "    </tr>\n",
       "  </tbody>\n",
       "</table>\n",
       "</div>"
      ],
      "text/plain": [
       "   PassengerId  Survived  Pclass  \\\n",
       "0            1         0       3   \n",
       "1            2         1       1   \n",
       "2            3         1       3   \n",
       "3            4         1       1   \n",
       "4            5         0       3   \n",
       "\n",
       "                                                Name     Sex   Age  SibSp  \\\n",
       "0                            Braund, Mr. Owen Harris    male  22.0      1   \n",
       "1  Cumings, Mrs. John Bradley (Florence Briggs Th...  female  38.0      1   \n",
       "2                             Heikkinen, Miss. Laina  female  26.0      0   \n",
       "3       Futrelle, Mrs. Jacques Heath (Lily May Peel)  female  35.0      1   \n",
       "4                           Allen, Mr. William Henry    male  35.0      0   \n",
       "\n",
       "   Parch            Ticket     Fare Cabin Embarked  \n",
       "0      0         A/5 21171   7.2500   NaN        S  \n",
       "1      0          PC 17599  71.2833   C85        C  \n",
       "2      0  STON/O2. 3101282   7.9250   NaN        S  \n",
       "3      0            113803  53.1000  C123        S  \n",
       "4      0            373450   8.0500   NaN        S  "
      ]
     },
     "execution_count": 3,
     "metadata": {},
     "output_type": "execute_result"
    }
   ],
   "source": [
    "titanic.head()"
   ]
  },
  {
   "cell_type": "code",
   "execution_count": null,
   "metadata": {},
   "outputs": [],
   "source": [
    "## target class: survived!"
   ]
  },
  {
   "cell_type": "code",
   "execution_count": 4,
   "metadata": {},
   "outputs": [
    {
     "name": "stdout",
     "output_type": "stream",
     "text": [
      "<class 'pandas.core.frame.DataFrame'>\n",
      "RangeIndex: 891 entries, 0 to 890\n",
      "Data columns (total 12 columns):\n",
      "PassengerId    891 non-null int64\n",
      "Survived       891 non-null int64\n",
      "Pclass         891 non-null int64\n",
      "Name           891 non-null object\n",
      "Sex            891 non-null object\n",
      "Age            714 non-null float64\n",
      "SibSp          891 non-null int64\n",
      "Parch          891 non-null int64\n",
      "Ticket         891 non-null object\n",
      "Fare           891 non-null float64\n",
      "Cabin          204 non-null object\n",
      "Embarked       889 non-null object\n",
      "dtypes: float64(2), int64(5), object(5)\n",
      "memory usage: 83.6+ KB\n"
     ]
    }
   ],
   "source": [
    "titanic.info()"
   ]
  },
  {
   "cell_type": "code",
   "execution_count": 5,
   "metadata": {},
   "outputs": [
    {
     "data": {
      "text/html": [
       "<div>\n",
       "<style scoped>\n",
       "    .dataframe tbody tr th:only-of-type {\n",
       "        vertical-align: middle;\n",
       "    }\n",
       "\n",
       "    .dataframe tbody tr th {\n",
       "        vertical-align: top;\n",
       "    }\n",
       "\n",
       "    .dataframe thead th {\n",
       "        text-align: right;\n",
       "    }\n",
       "</style>\n",
       "<table border=\"1\" class=\"dataframe\">\n",
       "  <thead>\n",
       "    <tr style=\"text-align: right;\">\n",
       "      <th></th>\n",
       "      <th>PassengerId</th>\n",
       "      <th>Survived</th>\n",
       "      <th>Pclass</th>\n",
       "      <th>Age</th>\n",
       "      <th>SibSp</th>\n",
       "      <th>Parch</th>\n",
       "      <th>Fare</th>\n",
       "    </tr>\n",
       "  </thead>\n",
       "  <tbody>\n",
       "    <tr>\n",
       "      <th>count</th>\n",
       "      <td>891.000000</td>\n",
       "      <td>891.000000</td>\n",
       "      <td>891.000000</td>\n",
       "      <td>714.000000</td>\n",
       "      <td>891.000000</td>\n",
       "      <td>891.000000</td>\n",
       "      <td>891.000000</td>\n",
       "    </tr>\n",
       "    <tr>\n",
       "      <th>mean</th>\n",
       "      <td>446.000000</td>\n",
       "      <td>0.383838</td>\n",
       "      <td>2.308642</td>\n",
       "      <td>29.699118</td>\n",
       "      <td>0.523008</td>\n",
       "      <td>0.381594</td>\n",
       "      <td>32.204208</td>\n",
       "    </tr>\n",
       "    <tr>\n",
       "      <th>std</th>\n",
       "      <td>257.353842</td>\n",
       "      <td>0.486592</td>\n",
       "      <td>0.836071</td>\n",
       "      <td>14.526497</td>\n",
       "      <td>1.102743</td>\n",
       "      <td>0.806057</td>\n",
       "      <td>49.693429</td>\n",
       "    </tr>\n",
       "    <tr>\n",
       "      <th>min</th>\n",
       "      <td>1.000000</td>\n",
       "      <td>0.000000</td>\n",
       "      <td>1.000000</td>\n",
       "      <td>0.420000</td>\n",
       "      <td>0.000000</td>\n",
       "      <td>0.000000</td>\n",
       "      <td>0.000000</td>\n",
       "    </tr>\n",
       "    <tr>\n",
       "      <th>25%</th>\n",
       "      <td>223.500000</td>\n",
       "      <td>0.000000</td>\n",
       "      <td>2.000000</td>\n",
       "      <td>20.125000</td>\n",
       "      <td>0.000000</td>\n",
       "      <td>0.000000</td>\n",
       "      <td>7.910400</td>\n",
       "    </tr>\n",
       "    <tr>\n",
       "      <th>50%</th>\n",
       "      <td>446.000000</td>\n",
       "      <td>0.000000</td>\n",
       "      <td>3.000000</td>\n",
       "      <td>28.000000</td>\n",
       "      <td>0.000000</td>\n",
       "      <td>0.000000</td>\n",
       "      <td>14.454200</td>\n",
       "    </tr>\n",
       "    <tr>\n",
       "      <th>75%</th>\n",
       "      <td>668.500000</td>\n",
       "      <td>1.000000</td>\n",
       "      <td>3.000000</td>\n",
       "      <td>38.000000</td>\n",
       "      <td>1.000000</td>\n",
       "      <td>0.000000</td>\n",
       "      <td>31.000000</td>\n",
       "    </tr>\n",
       "    <tr>\n",
       "      <th>max</th>\n",
       "      <td>891.000000</td>\n",
       "      <td>1.000000</td>\n",
       "      <td>3.000000</td>\n",
       "      <td>80.000000</td>\n",
       "      <td>8.000000</td>\n",
       "      <td>6.000000</td>\n",
       "      <td>512.329200</td>\n",
       "    </tr>\n",
       "  </tbody>\n",
       "</table>\n",
       "</div>"
      ],
      "text/plain": [
       "       PassengerId    Survived      Pclass         Age       SibSp  \\\n",
       "count   891.000000  891.000000  891.000000  714.000000  891.000000   \n",
       "mean    446.000000    0.383838    2.308642   29.699118    0.523008   \n",
       "std     257.353842    0.486592    0.836071   14.526497    1.102743   \n",
       "min       1.000000    0.000000    1.000000    0.420000    0.000000   \n",
       "25%     223.500000    0.000000    2.000000   20.125000    0.000000   \n",
       "50%     446.000000    0.000000    3.000000   28.000000    0.000000   \n",
       "75%     668.500000    1.000000    3.000000   38.000000    1.000000   \n",
       "max     891.000000    1.000000    3.000000   80.000000    8.000000   \n",
       "\n",
       "            Parch        Fare  \n",
       "count  891.000000  891.000000  \n",
       "mean     0.381594   32.204208  \n",
       "std      0.806057   49.693429  \n",
       "min      0.000000    0.000000  \n",
       "25%      0.000000    7.910400  \n",
       "50%      0.000000   14.454200  \n",
       "75%      0.000000   31.000000  \n",
       "max      6.000000  512.329200  "
      ]
     },
     "execution_count": 5,
     "metadata": {},
     "output_type": "execute_result"
    }
   ],
   "source": [
    "titanic.describe()"
   ]
  },
  {
   "cell_type": "markdown",
   "metadata": {},
   "source": [
    "### Let's try imputing vals to missing vals"
   ]
  },
  {
   "cell_type": "code",
   "execution_count": 6,
   "metadata": {},
   "outputs": [
    {
     "name": "stdout",
     "output_type": "stream",
     "text": [
      "Age         177\n",
      "Cabin       687\n",
      "Embarked      2\n",
      "dtype: int64\n"
     ]
    }
   ],
   "source": [
    "missing_val_count_by_column = (titanic.isnull().sum())\n",
    "print(missing_val_count_by_column[missing_val_count_by_column > 0])"
   ]
  },
  {
   "cell_type": "code",
   "execution_count": 7,
   "metadata": {},
   "outputs": [],
   "source": [
    "# Impute Embarked\n",
    "titanic['Embarked'] = titanic['Embarked'].fillna('S')"
   ]
  },
  {
   "cell_type": "code",
   "execution_count": 8,
   "metadata": {},
   "outputs": [],
   "source": [
    "# Impute Cabin with NA, later we will create a new feat based on this\n",
    "titanic['Cabin'] = titanic['Cabin'].fillna('NA')"
   ]
  },
  {
   "cell_type": "markdown",
   "metadata": {},
   "source": [
    "### Let's prepare train set for training except for Age (ie. feat engineering, etc in all but Age)"
   ]
  },
  {
   "cell_type": "code",
   "execution_count": 12,
   "metadata": {},
   "outputs": [],
   "source": [
    "titanic['Has_cabin'] = titanic['Cabin'].apply(lambda x: 0 if x == 'NA' else 1)\n",
    "titanic['FamilySize'] = titanic['SibSp'] + titanic['Parch'] + 1\n",
    "titanic['Is_alone'] = titanic['FamilySize'].apply(lambda x: 1 if x == 1 else 0)"
   ]
  },
  {
   "cell_type": "markdown",
   "metadata": {},
   "source": [
    "#### Scale Fare"
   ]
  },
  {
   "cell_type": "code",
   "execution_count": 14,
   "metadata": {},
   "outputs": [],
   "source": [
    "from sklearn.preprocessing import RobustScaler"
   ]
  },
  {
   "cell_type": "code",
   "execution_count": 15,
   "metadata": {},
   "outputs": [],
   "source": [
    "fareScaler = RobustScaler()\n",
    "titanic['Fare_scaled'] = fareScaler.fit_transform(titanic['Fare'].values.reshape(-1, 1))"
   ]
  },
  {
   "cell_type": "code",
   "execution_count": 20,
   "metadata": {},
   "outputs": [],
   "source": [
    "unnecessary_cols = ['PassengerId','Name','SibSp','Parch','Ticket','Fare','Cabin']"
   ]
  },
  {
   "cell_type": "code",
   "execution_count": 18,
   "metadata": {},
   "outputs": [],
   "source": [
    "titanic.drop(unnecessary_cols, inplace=True, axis=1)"
   ]
  },
  {
   "cell_type": "code",
   "execution_count": 23,
   "metadata": {},
   "outputs": [],
   "source": [
    "titanic = pd.get_dummies(titanic)"
   ]
  },
  {
   "cell_type": "code",
   "execution_count": 24,
   "metadata": {},
   "outputs": [
    {
     "data": {
      "text/html": [
       "<div>\n",
       "<style scoped>\n",
       "    .dataframe tbody tr th:only-of-type {\n",
       "        vertical-align: middle;\n",
       "    }\n",
       "\n",
       "    .dataframe tbody tr th {\n",
       "        vertical-align: top;\n",
       "    }\n",
       "\n",
       "    .dataframe thead th {\n",
       "        text-align: right;\n",
       "    }\n",
       "</style>\n",
       "<table border=\"1\" class=\"dataframe\">\n",
       "  <thead>\n",
       "    <tr style=\"text-align: right;\">\n",
       "      <th></th>\n",
       "      <th>Survived</th>\n",
       "      <th>Pclass</th>\n",
       "      <th>Age</th>\n",
       "      <th>Has_cabin</th>\n",
       "      <th>FamilySize</th>\n",
       "      <th>Is_alone</th>\n",
       "      <th>Fare_scaled</th>\n",
       "      <th>Sex_female</th>\n",
       "      <th>Sex_male</th>\n",
       "      <th>Embarked_C</th>\n",
       "      <th>Embarked_Q</th>\n",
       "      <th>Embarked_S</th>\n",
       "    </tr>\n",
       "  </thead>\n",
       "  <tbody>\n",
       "    <tr>\n",
       "      <th>0</th>\n",
       "      <td>0</td>\n",
       "      <td>3</td>\n",
       "      <td>22.0</td>\n",
       "      <td>0</td>\n",
       "      <td>2</td>\n",
       "      <td>0</td>\n",
       "      <td>-0.312011</td>\n",
       "      <td>0</td>\n",
       "      <td>1</td>\n",
       "      <td>0</td>\n",
       "      <td>0</td>\n",
       "      <td>1</td>\n",
       "    </tr>\n",
       "    <tr>\n",
       "      <th>1</th>\n",
       "      <td>1</td>\n",
       "      <td>1</td>\n",
       "      <td>38.0</td>\n",
       "      <td>1</td>\n",
       "      <td>2</td>\n",
       "      <td>0</td>\n",
       "      <td>2.461242</td>\n",
       "      <td>1</td>\n",
       "      <td>0</td>\n",
       "      <td>1</td>\n",
       "      <td>0</td>\n",
       "      <td>0</td>\n",
       "    </tr>\n",
       "    <tr>\n",
       "      <th>2</th>\n",
       "      <td>1</td>\n",
       "      <td>3</td>\n",
       "      <td>26.0</td>\n",
       "      <td>0</td>\n",
       "      <td>1</td>\n",
       "      <td>1</td>\n",
       "      <td>-0.282777</td>\n",
       "      <td>1</td>\n",
       "      <td>0</td>\n",
       "      <td>0</td>\n",
       "      <td>0</td>\n",
       "      <td>1</td>\n",
       "    </tr>\n",
       "    <tr>\n",
       "      <th>3</th>\n",
       "      <td>1</td>\n",
       "      <td>1</td>\n",
       "      <td>35.0</td>\n",
       "      <td>1</td>\n",
       "      <td>2</td>\n",
       "      <td>0</td>\n",
       "      <td>1.673732</td>\n",
       "      <td>1</td>\n",
       "      <td>0</td>\n",
       "      <td>0</td>\n",
       "      <td>0</td>\n",
       "      <td>1</td>\n",
       "    </tr>\n",
       "    <tr>\n",
       "      <th>4</th>\n",
       "      <td>0</td>\n",
       "      <td>3</td>\n",
       "      <td>35.0</td>\n",
       "      <td>0</td>\n",
       "      <td>1</td>\n",
       "      <td>1</td>\n",
       "      <td>-0.277363</td>\n",
       "      <td>0</td>\n",
       "      <td>1</td>\n",
       "      <td>0</td>\n",
       "      <td>0</td>\n",
       "      <td>1</td>\n",
       "    </tr>\n",
       "  </tbody>\n",
       "</table>\n",
       "</div>"
      ],
      "text/plain": [
       "   Survived  Pclass   Age  Has_cabin  FamilySize  Is_alone  Fare_scaled  \\\n",
       "0         0       3  22.0          0           2         0    -0.312011   \n",
       "1         1       1  38.0          1           2         0     2.461242   \n",
       "2         1       3  26.0          0           1         1    -0.282777   \n",
       "3         1       1  35.0          1           2         0     1.673732   \n",
       "4         0       3  35.0          0           1         1    -0.277363   \n",
       "\n",
       "   Sex_female  Sex_male  Embarked_C  Embarked_Q  Embarked_S  \n",
       "0           0         1           0           0           1  \n",
       "1           1         0           1           0           0  \n",
       "2           1         0           0           0           1  \n",
       "3           1         0           0           0           1  \n",
       "4           0         1           0           0           1  "
      ]
     },
     "execution_count": 24,
     "metadata": {},
     "output_type": "execute_result"
    }
   ],
   "source": [
    "titanic.head()"
   ]
  },
  {
   "cell_type": "markdown",
   "metadata": {},
   "source": [
    "### Train a regressor on Age"
   ]
  },
  {
   "cell_type": "code",
   "execution_count": 10,
   "metadata": {},
   "outputs": [
    {
     "name": "stdout",
     "output_type": "stream",
     "text": [
      "Age    177\n",
      "dtype: int64\n"
     ]
    }
   ],
   "source": [
    "mv_cols = (titanic.isnull().sum())\n",
    "print(mv_cols[mv_cols > 0])"
   ]
  },
  {
   "cell_type": "code",
   "execution_count": 39,
   "metadata": {},
   "outputs": [],
   "source": [
    "#### X and y must contain rows where Age isnt null!\n",
    "X = titanic.dropna().drop(['Age','Survived'], inplace=False, axis=1)\n",
    "y = titanic['Age'].dropna()"
   ]
  },
  {
   "cell_type": "code",
   "execution_count": 45,
   "metadata": {},
   "outputs": [],
   "source": [
    "from sklearn.model_selection import KFold\n",
    "from sklearn.metrics import mean_absolute_error, r2_score"
   ]
  },
  {
   "cell_type": "code",
   "execution_count": 44,
   "metadata": {},
   "outputs": [],
   "source": [
    "from sklearn.ensemble import RandomForestRegressor"
   ]
  },
  {
   "cell_type": "markdown",
   "metadata": {},
   "source": [
    "#### RandomForest Regressor"
   ]
  },
  {
   "cell_type": "code",
   "execution_count": 46,
   "metadata": {},
   "outputs": [],
   "source": [
    "kFold = KFold(n_splits=10, random_state=0, shuffle=True)"
   ]
  },
  {
   "cell_type": "code",
   "execution_count": 47,
   "metadata": {
    "scrolled": true
   },
   "outputs": [
    {
     "name": "stdout",
     "output_type": "stream",
     "text": [
      "Fold: 0\n",
      "MAE: 10.072620516421146 R2: 0.2488629189279603\n",
      "\n",
      "Fold: 1\n",
      "MAE: 12.251289659598378 R2: -0.1451959627011068\n",
      "\n",
      "Fold: 2\n",
      "MAE: 12.137637318139644 R2: -0.19268821465477526\n",
      "\n",
      "Fold: 3\n",
      "MAE: 10.275461113393675 R2: -0.025747295965236727\n",
      "\n",
      "Fold: 4\n",
      "MAE: 11.74256303595784 R2: 0.04201155481303742\n",
      "\n",
      "Fold: 5\n",
      "MAE: 10.163494983724176 R2: 0.09666681979688463\n",
      "\n",
      "Fold: 6\n",
      "MAE: 10.173544438148811 R2: 0.011709429210824629\n",
      "\n",
      "Fold: 7\n",
      "MAE: 12.537175359377803 R2: -0.007392677370930967\n",
      "\n",
      "Fold: 8\n",
      "MAE: 9.773603894591922 R2: 0.2621603680781537\n",
      "\n",
      "Fold: 9\n",
      "MAE: 11.920618647851914 R2: 0.027059326154363683\n",
      "\n",
      "Avg MAE: 11.10480089672053\n",
      "Avg R2: 0.03174462662891746\n"
     ]
    }
   ],
   "source": [
    "maes = []\n",
    "r2s = []\n",
    "for i, (train_idx, test_idx) in enumerate(kFold.split(X, y)):\n",
    "    print('Fold:', i)\n",
    "    X_train, X_test = X.iloc[train_idx], X.iloc[test_idx]\n",
    "    y_train, y_test = y.iloc[train_idx], y.iloc[test_idx]\n",
    "    \n",
    "    modelRF = RandomForestRegressor(random_state=0)\n",
    "    \n",
    "    modelRF.fit(X_train, y_train)\n",
    "    preds = modelRF.predict(X_test)\n",
    "    mae = mean_absolute_error(y_test, preds)\n",
    "    r2 = r2_score(y_test, preds)\n",
    "    print('MAE:', mae, 'R2:', r2)\n",
    "    maes.append(mae)\n",
    "    r2s.append(r2)\n",
    "    print()\n",
    "print('Avg MAE:', np.mean(maes))\n",
    "print('Avg R2:', np.mean(r2s))"
   ]
  },
  {
   "cell_type": "markdown",
   "metadata": {},
   "source": [
    "##### --- r2 is very low capturing the fact that the features are not responsible for the target variable (Age) ---"
   ]
  },
  {
   "cell_type": "markdown",
   "metadata": {},
   "source": [
    "##### Let's do some grid search"
   ]
  },
  {
   "cell_type": "code",
   "execution_count": 49,
   "metadata": {},
   "outputs": [],
   "source": [
    "from sklearn.model_selection import GridSearchCV"
   ]
  },
  {
   "cell_type": "code",
   "execution_count": 48,
   "metadata": {},
   "outputs": [],
   "source": [
    "params = {\n",
    "    'n_estimators': list(range(150,250,10)),\n",
    "    'max_depth': list(range(5, 20, 5)),\n",
    "    'max_features': [2, 3, 4, 5],\n",
    "    'max_leaf_nodes': list(range(5, 20, 5))\n",
    "}"
   ]
  },
  {
   "cell_type": "code",
   "execution_count": 50,
   "metadata": {},
   "outputs": [
    {
     "name": "stdout",
     "output_type": "stream",
     "text": [
      "{'max_depth': 5, 'n_estimators': 220, 'max_features': 4, 'max_leaf_nodes': 15}\n"
     ]
    }
   ],
   "source": [
    "gridRF = GridSearchCV(modelRF, param_grid=params, cv=10)\n",
    "gridRF.fit(X, y)\n",
    "print(gridRF.best_params_)"
   ]
  },
  {
   "cell_type": "code",
   "execution_count": 51,
   "metadata": {
    "scrolled": true
   },
   "outputs": [
    {
     "name": "stdout",
     "output_type": "stream",
     "text": [
      "Fold: 0\n",
      "MAE: 10.383230891589985 R2: 0.2449069230320191\n",
      "\n",
      "Fold: 1\n",
      "MAE: 10.271615464977181 R2: 0.15066254723369243\n",
      "\n",
      "Fold: 2\n",
      "MAE: 9.885935606324022 R2: 0.21769477680544325\n",
      "\n",
      "Fold: 3\n",
      "MAE: 9.400404675281889 R2: 0.19794002725035909\n",
      "\n",
      "Fold: 4\n",
      "MAE: 10.77375332100911 R2: 0.1654973751649368\n",
      "\n",
      "Fold: 5\n",
      "MAE: 9.548333305307121 R2: 0.23914995952101126\n",
      "\n",
      "Fold: 6\n",
      "MAE: 9.628250387047627 R2: 0.21376867295564494\n",
      "\n",
      "Fold: 7\n",
      "MAE: 11.596591999047153 R2: 0.15538225521212767\n",
      "\n",
      "Fold: 8\n",
      "MAE: 9.074409171574796 R2: 0.3721670368456821\n",
      "\n",
      "Fold: 9\n",
      "MAE: 10.835000623726168 R2: 0.17863669918573233\n",
      "\n",
      "Avg MAE: 10.139752544588507\n",
      "Avg R2: 0.2135806273206649\n"
     ]
    }
   ],
   "source": [
    "maes = []\n",
    "r2s = []\n",
    "for i, (train_idx, test_idx) in enumerate(kFold.split(X, y)):\n",
    "    print('Fold:', i)\n",
    "    X_train, X_test = X.iloc[train_idx], X.iloc[test_idx]\n",
    "    y_train, y_test = y.iloc[train_idx], y.iloc[test_idx]\n",
    "    \n",
    "    modelRF = RandomForestRegressor(random_state=0,\n",
    "                                    max_depth=5,\n",
    "                                    n_estimators=220,\n",
    "                                    max_features=4,\n",
    "                                    max_leaf_nodes=15\n",
    "                                   )\n",
    "    \n",
    "    modelRF.fit(X_train, y_train)\n",
    "    preds = modelRF.predict(X_test)\n",
    "    mae = mean_absolute_error(y_test, preds)\n",
    "    r2 = r2_score(y_test, preds)\n",
    "    print('MAE:', mae, 'R2:', r2)\n",
    "    maes.append(mae)\n",
    "    r2s.append(r2)\n",
    "    print()\n",
    "print('Avg MAE:', np.mean(maes))\n",
    "print('Avg R2:', np.mean(r2s))"
   ]
  },
  {
   "cell_type": "markdown",
   "metadata": {},
   "source": [
    "#### XGBoost Regressor"
   ]
  },
  {
   "cell_type": "code",
   "execution_count": 52,
   "metadata": {},
   "outputs": [],
   "source": [
    "from xgboost import XGBRegressor"
   ]
  },
  {
   "cell_type": "code",
   "execution_count": 53,
   "metadata": {
    "scrolled": true
   },
   "outputs": [
    {
     "name": "stdout",
     "output_type": "stream",
     "text": [
      "Fold: 0\n",
      "MAE: 11.678667347696091 R2: 0.060401911021580434\n",
      "\n",
      "Fold: 1\n",
      "MAE: 12.010185613632201 R2: -0.22776893082839655\n",
      "\n",
      "Fold: 2\n",
      "MAE: 11.902800056669447 R2: -0.15911992431567512\n",
      "\n",
      "Fold: 3\n",
      "MAE: 11.311499496301016 R2: -0.24455072448962056\n",
      "\n",
      "Fold: 4\n",
      "MAE: 11.278886575698852 R2: 0.023823445028524737\n",
      "\n",
      "Fold: 5\n",
      "MAE: 10.600565056330723 R2: -0.02745982259959967\n",
      "\n",
      "Fold: 6\n",
      "MAE: 10.622829209985866 R2: -0.00040003604583493946\n",
      "\n",
      "Fold: 7\n",
      "MAE: 13.160571890817561 R2: -0.041588841503691576\n",
      "\n",
      "Fold: 8\n",
      "MAE: 10.544452902296898 R2: 0.11983608302112203\n",
      "\n",
      "Fold: 9\n",
      "MAE: 12.94750226047677 R2: -0.18128799161553122\n",
      "\n",
      "Avg MAE: 11.605796040990542\n",
      "Avg R2: -0.06781148323271224\n"
     ]
    }
   ],
   "source": [
    "maes = []\n",
    "r2s = []\n",
    "for i, (train_idx, test_idx) in enumerate(kFold.split(X, y)):\n",
    "    print('Fold:', i)\n",
    "    X_train, X_test = X.iloc[train_idx], X.iloc[test_idx]\n",
    "    y_train, y_test = y.iloc[train_idx], y.iloc[test_idx]\n",
    "    \n",
    "    modelXGB = XGBRegressor(random_state=0)\n",
    "    \n",
    "    modelXGB.fit(X_train, y_train)\n",
    "    preds = modelXGB.predict(X_test)\n",
    "    mae = mean_absolute_error(y_test, preds)\n",
    "    r2 = r2_score(y_test, preds)\n",
    "    print('MAE:', mae, 'R2:', r2)\n",
    "    maes.append(mae)\n",
    "    r2s.append(r2)\n",
    "    print()\n",
    "print('Avg MAE:', np.mean(maes))\n",
    "print('Avg R2:', np.mean(r2s))"
   ]
  },
  {
   "cell_type": "markdown",
   "metadata": {},
   "source": [
    "##### Grid Search on XGBRegressor"
   ]
  },
  {
   "cell_type": "code",
   "execution_count": 54,
   "metadata": {},
   "outputs": [],
   "source": [
    "params = {\n",
    "        'min_child_weight': [1, 5, 10],\n",
    "        'gamma': [0, 0.5, 1, 1.5, 2, 5],\n",
    "        'subsample': [0.6, 0.8, 1.0],\n",
    "        'colsample_bytree': [0.6, 0.8, 1.0],\n",
    "        'n_estimators': [100, 200, 250],\n",
    "        'max_depth': [4, 6, 10, 15]\n",
    "        }"
   ]
  },
  {
   "cell_type": "code",
   "execution_count": 55,
   "metadata": {},
   "outputs": [
    {
     "name": "stdout",
     "output_type": "stream",
     "text": [
      "{'max_depth': 4, 'gamma': 5, 'colsample_bytree': 0.6, 'n_estimators': 100, 'min_child_weight': 10, 'subsample': 1.0}\n"
     ]
    }
   ],
   "source": [
    "gridXGB = GridSearchCV(modelXGB, param_grid=params, cv=10)\n",
    "gridXGB.fit(X, y)\n",
    "print(gridXGB.best_params_)"
   ]
  },
  {
   "cell_type": "code",
   "execution_count": 56,
   "metadata": {
    "scrolled": true
   },
   "outputs": [
    {
     "name": "stdout",
     "output_type": "stream",
     "text": [
      "Fold: 0\n",
      "MAE: 10.20902492046356 R2: 0.23510534101374791\n",
      "\n",
      "Fold: 1\n",
      "MAE: 11.05487967967987 R2: -0.03586527633880565\n",
      "\n",
      "Fold: 2\n",
      "MAE: 11.146930042240355 R2: -0.038208342870536205\n",
      "\n",
      "Fold: 3\n",
      "MAE: 10.373601290914747 R2: -0.01214913623345204\n",
      "\n",
      "Fold: 4\n",
      "MAE: 10.734323715424873 R2: 0.15324050917399046\n",
      "\n",
      "Fold: 5\n",
      "MAE: 9.971795094449757 R2: 0.14751773177362915\n",
      "\n",
      "Fold: 6\n",
      "MAE: 9.743791769323213 R2: 0.1525727487998254\n",
      "\n",
      "Fold: 7\n",
      "MAE: 12.081312260157626 R2: 0.05342366160685463\n",
      "\n",
      "Fold: 8\n",
      "MAE: 8.965310311653244 R2: 0.3794218195484308\n",
      "\n",
      "Fold: 9\n",
      "MAE: 11.855451053297015 R2: 0.06528819153996956\n",
      "\n",
      "Avg MAE: 10.613642013760426\n",
      "Avg R2: 0.11003472480136538\n"
     ]
    }
   ],
   "source": [
    "maes = []\n",
    "r2s = []\n",
    "for i, (train_idx, test_idx) in enumerate(kFold.split(X, y)):\n",
    "    print('Fold:', i)\n",
    "    X_train, X_test = X.iloc[train_idx], X.iloc[test_idx]\n",
    "    y_train, y_test = y.iloc[train_idx], y.iloc[test_idx]\n",
    "    \n",
    "    modelXGB = XGBRegressor(random_state=0,\n",
    "                            max_depth=4,\n",
    "                            gamma=5,\n",
    "                            colsample_bytree=0.6,\n",
    "                            n_estimators=100,\n",
    "                            min_child_weight=10,\n",
    "                            subsample=1.0\n",
    "                           )\n",
    "    \n",
    "    modelXGB.fit(X_train, y_train)\n",
    "    preds = modelXGB.predict(X_test)\n",
    "    mae = mean_absolute_error(y_test, preds)\n",
    "    r2 = r2_score(y_test, preds)\n",
    "    print('MAE:', mae, 'R2:', r2)\n",
    "    maes.append(mae)\n",
    "    r2s.append(r2)\n",
    "    print()\n",
    "print('Avg MAE:', np.mean(maes))\n",
    "print('Avg R2:', np.mean(r2s))"
   ]
  },
  {
   "cell_type": "markdown",
   "metadata": {},
   "source": [
    "### Let's impute Age with our RF regressor"
   ]
  },
  {
   "cell_type": "code",
   "execution_count": 57,
   "metadata": {},
   "outputs": [
    {
     "data": {
      "text/html": [
       "<div>\n",
       "<style scoped>\n",
       "    .dataframe tbody tr th:only-of-type {\n",
       "        vertical-align: middle;\n",
       "    }\n",
       "\n",
       "    .dataframe tbody tr th {\n",
       "        vertical-align: top;\n",
       "    }\n",
       "\n",
       "    .dataframe thead th {\n",
       "        text-align: right;\n",
       "    }\n",
       "</style>\n",
       "<table border=\"1\" class=\"dataframe\">\n",
       "  <thead>\n",
       "    <tr style=\"text-align: right;\">\n",
       "      <th></th>\n",
       "      <th>Pclass</th>\n",
       "      <th>Has_cabin</th>\n",
       "      <th>FamilySize</th>\n",
       "      <th>Is_alone</th>\n",
       "      <th>Fare_scaled</th>\n",
       "      <th>Sex_female</th>\n",
       "      <th>Sex_male</th>\n",
       "      <th>Embarked_C</th>\n",
       "      <th>Embarked_Q</th>\n",
       "      <th>Embarked_S</th>\n",
       "    </tr>\n",
       "  </thead>\n",
       "  <tbody>\n",
       "    <tr>\n",
       "      <th>0</th>\n",
       "      <td>3</td>\n",
       "      <td>0</td>\n",
       "      <td>2</td>\n",
       "      <td>0</td>\n",
       "      <td>-0.312011</td>\n",
       "      <td>0</td>\n",
       "      <td>1</td>\n",
       "      <td>0</td>\n",
       "      <td>0</td>\n",
       "      <td>1</td>\n",
       "    </tr>\n",
       "    <tr>\n",
       "      <th>1</th>\n",
       "      <td>1</td>\n",
       "      <td>1</td>\n",
       "      <td>2</td>\n",
       "      <td>0</td>\n",
       "      <td>2.461242</td>\n",
       "      <td>1</td>\n",
       "      <td>0</td>\n",
       "      <td>1</td>\n",
       "      <td>0</td>\n",
       "      <td>0</td>\n",
       "    </tr>\n",
       "    <tr>\n",
       "      <th>2</th>\n",
       "      <td>3</td>\n",
       "      <td>0</td>\n",
       "      <td>1</td>\n",
       "      <td>1</td>\n",
       "      <td>-0.282777</td>\n",
       "      <td>1</td>\n",
       "      <td>0</td>\n",
       "      <td>0</td>\n",
       "      <td>0</td>\n",
       "      <td>1</td>\n",
       "    </tr>\n",
       "    <tr>\n",
       "      <th>3</th>\n",
       "      <td>1</td>\n",
       "      <td>1</td>\n",
       "      <td>2</td>\n",
       "      <td>0</td>\n",
       "      <td>1.673732</td>\n",
       "      <td>1</td>\n",
       "      <td>0</td>\n",
       "      <td>0</td>\n",
       "      <td>0</td>\n",
       "      <td>1</td>\n",
       "    </tr>\n",
       "    <tr>\n",
       "      <th>4</th>\n",
       "      <td>3</td>\n",
       "      <td>0</td>\n",
       "      <td>1</td>\n",
       "      <td>1</td>\n",
       "      <td>-0.277363</td>\n",
       "      <td>0</td>\n",
       "      <td>1</td>\n",
       "      <td>0</td>\n",
       "      <td>0</td>\n",
       "      <td>1</td>\n",
       "    </tr>\n",
       "  </tbody>\n",
       "</table>\n",
       "</div>"
      ],
      "text/plain": [
       "   Pclass  Has_cabin  FamilySize  Is_alone  Fare_scaled  Sex_female  Sex_male  \\\n",
       "0       3          0           2         0    -0.312011           0         1   \n",
       "1       1          1           2         0     2.461242           1         0   \n",
       "2       3          0           1         1    -0.282777           1         0   \n",
       "3       1          1           2         0     1.673732           1         0   \n",
       "4       3          0           1         1    -0.277363           0         1   \n",
       "\n",
       "   Embarked_C  Embarked_Q  Embarked_S  \n",
       "0           0           0           1  \n",
       "1           1           0           0  \n",
       "2           0           0           1  \n",
       "3           0           0           1  \n",
       "4           0           0           1  "
      ]
     },
     "execution_count": 57,
     "metadata": {},
     "output_type": "execute_result"
    }
   ],
   "source": [
    "X.head()"
   ]
  },
  {
   "cell_type": "code",
   "execution_count": 88,
   "metadata": {
    "scrolled": true
   },
   "outputs": [],
   "source": [
    "titanic_AgeNull = titanic[titanic['Age'].isnull()] ## 177 rows\n",
    "titanic_AgeNotNull = titanic[titanic['Age'].notnull()] ## 714 rows"
   ]
  },
  {
   "cell_type": "code",
   "execution_count": 90,
   "metadata": {
    "scrolled": true
   },
   "outputs": [],
   "source": [
    "preds = modelRF.predict(titanic_AgeNull.drop(['Survived','Age'], axis=1, inplace=False))"
   ]
  },
  {
   "cell_type": "code",
   "execution_count": 91,
   "metadata": {},
   "outputs": [
    {
     "data": {
      "text/plain": [
       "(177,)"
      ]
     },
     "execution_count": 91,
     "metadata": {},
     "output_type": "execute_result"
    }
   ],
   "source": [
    "preds.shape"
   ]
  },
  {
   "cell_type": "code",
   "execution_count": 92,
   "metadata": {},
   "outputs": [
    {
     "data": {
      "text/html": [
       "<div>\n",
       "<style scoped>\n",
       "    .dataframe tbody tr th:only-of-type {\n",
       "        vertical-align: middle;\n",
       "    }\n",
       "\n",
       "    .dataframe tbody tr th {\n",
       "        vertical-align: top;\n",
       "    }\n",
       "\n",
       "    .dataframe thead th {\n",
       "        text-align: right;\n",
       "    }\n",
       "</style>\n",
       "<table border=\"1\" class=\"dataframe\">\n",
       "  <thead>\n",
       "    <tr style=\"text-align: right;\">\n",
       "      <th></th>\n",
       "      <th>Survived</th>\n",
       "      <th>Pclass</th>\n",
       "      <th>Age</th>\n",
       "      <th>Has_cabin</th>\n",
       "      <th>FamilySize</th>\n",
       "      <th>Is_alone</th>\n",
       "      <th>Fare_scaled</th>\n",
       "      <th>Sex_female</th>\n",
       "      <th>Sex_male</th>\n",
       "      <th>Embarked_C</th>\n",
       "      <th>Embarked_Q</th>\n",
       "      <th>Embarked_S</th>\n",
       "    </tr>\n",
       "  </thead>\n",
       "  <tbody>\n",
       "    <tr>\n",
       "      <th>5</th>\n",
       "      <td>0</td>\n",
       "      <td>3</td>\n",
       "      <td>NaN</td>\n",
       "      <td>0</td>\n",
       "      <td>1</td>\n",
       "      <td>1</td>\n",
       "      <td>-0.259680</td>\n",
       "      <td>0</td>\n",
       "      <td>1</td>\n",
       "      <td>0</td>\n",
       "      <td>1</td>\n",
       "      <td>0</td>\n",
       "    </tr>\n",
       "    <tr>\n",
       "      <th>17</th>\n",
       "      <td>1</td>\n",
       "      <td>2</td>\n",
       "      <td>NaN</td>\n",
       "      <td>0</td>\n",
       "      <td>1</td>\n",
       "      <td>1</td>\n",
       "      <td>-0.062981</td>\n",
       "      <td>0</td>\n",
       "      <td>1</td>\n",
       "      <td>0</td>\n",
       "      <td>0</td>\n",
       "      <td>1</td>\n",
       "    </tr>\n",
       "    <tr>\n",
       "      <th>19</th>\n",
       "      <td>1</td>\n",
       "      <td>3</td>\n",
       "      <td>NaN</td>\n",
       "      <td>0</td>\n",
       "      <td>1</td>\n",
       "      <td>1</td>\n",
       "      <td>-0.313093</td>\n",
       "      <td>1</td>\n",
       "      <td>0</td>\n",
       "      <td>1</td>\n",
       "      <td>0</td>\n",
       "      <td>0</td>\n",
       "    </tr>\n",
       "    <tr>\n",
       "      <th>26</th>\n",
       "      <td>0</td>\n",
       "      <td>3</td>\n",
       "      <td>NaN</td>\n",
       "      <td>0</td>\n",
       "      <td>1</td>\n",
       "      <td>1</td>\n",
       "      <td>-0.313093</td>\n",
       "      <td>0</td>\n",
       "      <td>1</td>\n",
       "      <td>1</td>\n",
       "      <td>0</td>\n",
       "      <td>0</td>\n",
       "    </tr>\n",
       "    <tr>\n",
       "      <th>28</th>\n",
       "      <td>1</td>\n",
       "      <td>3</td>\n",
       "      <td>NaN</td>\n",
       "      <td>0</td>\n",
       "      <td>1</td>\n",
       "      <td>1</td>\n",
       "      <td>-0.284760</td>\n",
       "      <td>1</td>\n",
       "      <td>0</td>\n",
       "      <td>0</td>\n",
       "      <td>1</td>\n",
       "      <td>0</td>\n",
       "    </tr>\n",
       "  </tbody>\n",
       "</table>\n",
       "</div>"
      ],
      "text/plain": [
       "    Survived  Pclass  Age  Has_cabin  FamilySize  Is_alone  Fare_scaled  \\\n",
       "5          0       3  NaN          0           1         1    -0.259680   \n",
       "17         1       2  NaN          0           1         1    -0.062981   \n",
       "19         1       3  NaN          0           1         1    -0.313093   \n",
       "26         0       3  NaN          0           1         1    -0.313093   \n",
       "28         1       3  NaN          0           1         1    -0.284760   \n",
       "\n",
       "    Sex_female  Sex_male  Embarked_C  Embarked_Q  Embarked_S  \n",
       "5            0         1           0           1           0  \n",
       "17           0         1           0           0           1  \n",
       "19           1         0           1           0           0  \n",
       "26           0         1           1           0           0  \n",
       "28           1         0           0           1           0  "
      ]
     },
     "execution_count": 92,
     "metadata": {},
     "output_type": "execute_result"
    }
   ],
   "source": [
    "titanic_AgeNull.head()"
   ]
  },
  {
   "cell_type": "code",
   "execution_count": 96,
   "metadata": {},
   "outputs": [],
   "source": [
    "titanic_AgeImputed = pd.DataFrame({'Survived':titanic_AgeNull['Survived'],\n",
    "                                   'Pclass': titanic_AgeNull['Pclass'],\n",
    "                                   'Age': titanic_AgeNull['Age'],\n",
    "                                   'Has_cabin': titanic_AgeNull['Has_cabin'],\n",
    "                                   'FamilySize': titanic_AgeNull['FamilySize'],\n",
    "                                   'Is_alone': titanic_AgeNull['Is_alone'],\n",
    "                                   'Fare_scaled': titanic_AgeNull['Fare_scaled'],\n",
    "                                   'Sex_female': titanic_AgeNull['Sex_female'],\n",
    "                                   'Sex_male': titanic_AgeNull['Sex_male'],\n",
    "                                   'Embarked_C': titanic_AgeNull['Embarked_C'],\n",
    "                                   'Embarked_Q': titanic_AgeNull['Embarked_Q'],\n",
    "                                   'Embarked_S': titanic_AgeNull['Embarked_S'],\n",
    "                                   'Age_imputed': preds\n",
    "                                  })"
   ]
  },
  {
   "cell_type": "code",
   "execution_count": 97,
   "metadata": {},
   "outputs": [
    {
     "data": {
      "text/html": [
       "<div>\n",
       "<style scoped>\n",
       "    .dataframe tbody tr th:only-of-type {\n",
       "        vertical-align: middle;\n",
       "    }\n",
       "\n",
       "    .dataframe tbody tr th {\n",
       "        vertical-align: top;\n",
       "    }\n",
       "\n",
       "    .dataframe thead th {\n",
       "        text-align: right;\n",
       "    }\n",
       "</style>\n",
       "<table border=\"1\" class=\"dataframe\">\n",
       "  <thead>\n",
       "    <tr style=\"text-align: right;\">\n",
       "      <th></th>\n",
       "      <th>Age</th>\n",
       "      <th>Age_imputed</th>\n",
       "      <th>Embarked_C</th>\n",
       "      <th>Embarked_Q</th>\n",
       "      <th>Embarked_S</th>\n",
       "      <th>FamilySize</th>\n",
       "      <th>Fare_scaled</th>\n",
       "      <th>Has_cabin</th>\n",
       "      <th>Is_alone</th>\n",
       "      <th>Pclass</th>\n",
       "      <th>Sex_female</th>\n",
       "      <th>Sex_male</th>\n",
       "      <th>Survived</th>\n",
       "    </tr>\n",
       "  </thead>\n",
       "  <tbody>\n",
       "    <tr>\n",
       "      <th>5</th>\n",
       "      <td>NaN</td>\n",
       "      <td>29.215264</td>\n",
       "      <td>0</td>\n",
       "      <td>1</td>\n",
       "      <td>0</td>\n",
       "      <td>1</td>\n",
       "      <td>-0.259680</td>\n",
       "      <td>0</td>\n",
       "      <td>1</td>\n",
       "      <td>3</td>\n",
       "      <td>0</td>\n",
       "      <td>1</td>\n",
       "      <td>0</td>\n",
       "    </tr>\n",
       "    <tr>\n",
       "      <th>17</th>\n",
       "      <td>NaN</td>\n",
       "      <td>33.271150</td>\n",
       "      <td>0</td>\n",
       "      <td>0</td>\n",
       "      <td>1</td>\n",
       "      <td>1</td>\n",
       "      <td>-0.062981</td>\n",
       "      <td>0</td>\n",
       "      <td>1</td>\n",
       "      <td>2</td>\n",
       "      <td>0</td>\n",
       "      <td>1</td>\n",
       "      <td>1</td>\n",
       "    </tr>\n",
       "    <tr>\n",
       "      <th>19</th>\n",
       "      <td>NaN</td>\n",
       "      <td>24.274748</td>\n",
       "      <td>1</td>\n",
       "      <td>0</td>\n",
       "      <td>0</td>\n",
       "      <td>1</td>\n",
       "      <td>-0.313093</td>\n",
       "      <td>0</td>\n",
       "      <td>1</td>\n",
       "      <td>3</td>\n",
       "      <td>1</td>\n",
       "      <td>0</td>\n",
       "      <td>1</td>\n",
       "    </tr>\n",
       "    <tr>\n",
       "      <th>26</th>\n",
       "      <td>NaN</td>\n",
       "      <td>28.446250</td>\n",
       "      <td>1</td>\n",
       "      <td>0</td>\n",
       "      <td>0</td>\n",
       "      <td>1</td>\n",
       "      <td>-0.313093</td>\n",
       "      <td>0</td>\n",
       "      <td>1</td>\n",
       "      <td>3</td>\n",
       "      <td>0</td>\n",
       "      <td>1</td>\n",
       "      <td>0</td>\n",
       "    </tr>\n",
       "    <tr>\n",
       "      <th>28</th>\n",
       "      <td>NaN</td>\n",
       "      <td>25.184539</td>\n",
       "      <td>0</td>\n",
       "      <td>1</td>\n",
       "      <td>0</td>\n",
       "      <td>1</td>\n",
       "      <td>-0.284760</td>\n",
       "      <td>0</td>\n",
       "      <td>1</td>\n",
       "      <td>3</td>\n",
       "      <td>1</td>\n",
       "      <td>0</td>\n",
       "      <td>1</td>\n",
       "    </tr>\n",
       "  </tbody>\n",
       "</table>\n",
       "</div>"
      ],
      "text/plain": [
       "    Age  Age_imputed  Embarked_C  Embarked_Q  Embarked_S  FamilySize  \\\n",
       "5   NaN    29.215264           0           1           0           1   \n",
       "17  NaN    33.271150           0           0           1           1   \n",
       "19  NaN    24.274748           1           0           0           1   \n",
       "26  NaN    28.446250           1           0           0           1   \n",
       "28  NaN    25.184539           0           1           0           1   \n",
       "\n",
       "    Fare_scaled  Has_cabin  Is_alone  Pclass  Sex_female  Sex_male  Survived  \n",
       "5     -0.259680          0         1       3           0         1         0  \n",
       "17    -0.062981          0         1       2           0         1         1  \n",
       "19    -0.313093          0         1       3           1         0         1  \n",
       "26    -0.313093          0         1       3           0         1         0  \n",
       "28    -0.284760          0         1       3           1         0         1  "
      ]
     },
     "execution_count": 97,
     "metadata": {},
     "output_type": "execute_result"
    }
   ],
   "source": [
    "titanic_AgeImputed.head()"
   ]
  },
  {
   "cell_type": "code",
   "execution_count": 98,
   "metadata": {},
   "outputs": [],
   "source": [
    "titanic_AgeNotNull = pd.DataFrame({'Survived':titanic_AgeNotNull['Survived'],\n",
    "                                   'Pclass': titanic_AgeNotNull['Pclass'],\n",
    "                                   'Age': titanic_AgeNotNull['Age'],\n",
    "                                   'Has_cabin': titanic_AgeNotNull['Has_cabin'],\n",
    "                                   'FamilySize': titanic_AgeNotNull['FamilySize'],\n",
    "                                   'Is_alone': titanic_AgeNotNull['Is_alone'],\n",
    "                                   'Fare_scaled': titanic_AgeNotNull['Fare_scaled'],\n",
    "                                   'Sex_female': titanic_AgeNotNull['Sex_female'],\n",
    "                                   'Sex_male': titanic_AgeNotNull['Sex_male'],\n",
    "                                   'Embarked_C': titanic_AgeNotNull['Embarked_C'],\n",
    "                                   'Embarked_Q': titanic_AgeNotNull['Embarked_Q'],\n",
    "                                   'Embarked_S': titanic_AgeNotNull['Embarked_S'],\n",
    "                                   'Age_imputed': titanic_AgeNotNull['Age']\n",
    "                                  })"
   ]
  },
  {
   "cell_type": "code",
   "execution_count": 99,
   "metadata": {},
   "outputs": [
    {
     "data": {
      "text/html": [
       "<div>\n",
       "<style scoped>\n",
       "    .dataframe tbody tr th:only-of-type {\n",
       "        vertical-align: middle;\n",
       "    }\n",
       "\n",
       "    .dataframe tbody tr th {\n",
       "        vertical-align: top;\n",
       "    }\n",
       "\n",
       "    .dataframe thead th {\n",
       "        text-align: right;\n",
       "    }\n",
       "</style>\n",
       "<table border=\"1\" class=\"dataframe\">\n",
       "  <thead>\n",
       "    <tr style=\"text-align: right;\">\n",
       "      <th></th>\n",
       "      <th>Age</th>\n",
       "      <th>Age_imputed</th>\n",
       "      <th>Embarked_C</th>\n",
       "      <th>Embarked_Q</th>\n",
       "      <th>Embarked_S</th>\n",
       "      <th>FamilySize</th>\n",
       "      <th>Fare_scaled</th>\n",
       "      <th>Has_cabin</th>\n",
       "      <th>Is_alone</th>\n",
       "      <th>Pclass</th>\n",
       "      <th>Sex_female</th>\n",
       "      <th>Sex_male</th>\n",
       "      <th>Survived</th>\n",
       "    </tr>\n",
       "  </thead>\n",
       "  <tbody>\n",
       "    <tr>\n",
       "      <th>0</th>\n",
       "      <td>22.0</td>\n",
       "      <td>22.0</td>\n",
       "      <td>0</td>\n",
       "      <td>0</td>\n",
       "      <td>1</td>\n",
       "      <td>2</td>\n",
       "      <td>-0.312011</td>\n",
       "      <td>0</td>\n",
       "      <td>0</td>\n",
       "      <td>3</td>\n",
       "      <td>0</td>\n",
       "      <td>1</td>\n",
       "      <td>0</td>\n",
       "    </tr>\n",
       "    <tr>\n",
       "      <th>1</th>\n",
       "      <td>38.0</td>\n",
       "      <td>38.0</td>\n",
       "      <td>1</td>\n",
       "      <td>0</td>\n",
       "      <td>0</td>\n",
       "      <td>2</td>\n",
       "      <td>2.461242</td>\n",
       "      <td>1</td>\n",
       "      <td>0</td>\n",
       "      <td>1</td>\n",
       "      <td>1</td>\n",
       "      <td>0</td>\n",
       "      <td>1</td>\n",
       "    </tr>\n",
       "    <tr>\n",
       "      <th>2</th>\n",
       "      <td>26.0</td>\n",
       "      <td>26.0</td>\n",
       "      <td>0</td>\n",
       "      <td>0</td>\n",
       "      <td>1</td>\n",
       "      <td>1</td>\n",
       "      <td>-0.282777</td>\n",
       "      <td>0</td>\n",
       "      <td>1</td>\n",
       "      <td>3</td>\n",
       "      <td>1</td>\n",
       "      <td>0</td>\n",
       "      <td>1</td>\n",
       "    </tr>\n",
       "    <tr>\n",
       "      <th>3</th>\n",
       "      <td>35.0</td>\n",
       "      <td>35.0</td>\n",
       "      <td>0</td>\n",
       "      <td>0</td>\n",
       "      <td>1</td>\n",
       "      <td>2</td>\n",
       "      <td>1.673732</td>\n",
       "      <td>1</td>\n",
       "      <td>0</td>\n",
       "      <td>1</td>\n",
       "      <td>1</td>\n",
       "      <td>0</td>\n",
       "      <td>1</td>\n",
       "    </tr>\n",
       "    <tr>\n",
       "      <th>4</th>\n",
       "      <td>35.0</td>\n",
       "      <td>35.0</td>\n",
       "      <td>0</td>\n",
       "      <td>0</td>\n",
       "      <td>1</td>\n",
       "      <td>1</td>\n",
       "      <td>-0.277363</td>\n",
       "      <td>0</td>\n",
       "      <td>1</td>\n",
       "      <td>3</td>\n",
       "      <td>0</td>\n",
       "      <td>1</td>\n",
       "      <td>0</td>\n",
       "    </tr>\n",
       "  </tbody>\n",
       "</table>\n",
       "</div>"
      ],
      "text/plain": [
       "    Age  Age_imputed  Embarked_C  Embarked_Q  Embarked_S  FamilySize  \\\n",
       "0  22.0         22.0           0           0           1           2   \n",
       "1  38.0         38.0           1           0           0           2   \n",
       "2  26.0         26.0           0           0           1           1   \n",
       "3  35.0         35.0           0           0           1           2   \n",
       "4  35.0         35.0           0           0           1           1   \n",
       "\n",
       "   Fare_scaled  Has_cabin  Is_alone  Pclass  Sex_female  Sex_male  Survived  \n",
       "0    -0.312011          0         0       3           0         1         0  \n",
       "1     2.461242          1         0       1           1         0         1  \n",
       "2    -0.282777          0         1       3           1         0         1  \n",
       "3     1.673732          1         0       1           1         0         1  \n",
       "4    -0.277363          0         1       3           0         1         0  "
      ]
     },
     "execution_count": 99,
     "metadata": {},
     "output_type": "execute_result"
    }
   ],
   "source": [
    "titanic_AgeNotNull.head()"
   ]
  },
  {
   "cell_type": "code",
   "execution_count": 102,
   "metadata": {},
   "outputs": [],
   "source": [
    "titanic_pre = titanic_AgeNotNull.append(titanic_AgeImputed)"
   ]
  },
  {
   "cell_type": "code",
   "execution_count": 103,
   "metadata": {},
   "outputs": [],
   "source": [
    "titanic_pre.drop(['Age'], axis=1, inplace=True)"
   ]
  },
  {
   "cell_type": "code",
   "execution_count": 108,
   "metadata": {},
   "outputs": [],
   "source": [
    "titanic_pre['Age_imputed'] = titanic_pre['Age_imputed'].apply(np.ceil)"
   ]
  },
  {
   "cell_type": "code",
   "execution_count": 109,
   "metadata": {},
   "outputs": [
    {
     "data": {
      "text/html": [
       "<div>\n",
       "<style scoped>\n",
       "    .dataframe tbody tr th:only-of-type {\n",
       "        vertical-align: middle;\n",
       "    }\n",
       "\n",
       "    .dataframe tbody tr th {\n",
       "        vertical-align: top;\n",
       "    }\n",
       "\n",
       "    .dataframe thead th {\n",
       "        text-align: right;\n",
       "    }\n",
       "</style>\n",
       "<table border=\"1\" class=\"dataframe\">\n",
       "  <thead>\n",
       "    <tr style=\"text-align: right;\">\n",
       "      <th></th>\n",
       "      <th>Age_imputed</th>\n",
       "      <th>Embarked_C</th>\n",
       "      <th>Embarked_Q</th>\n",
       "      <th>Embarked_S</th>\n",
       "      <th>FamilySize</th>\n",
       "      <th>Fare_scaled</th>\n",
       "      <th>Has_cabin</th>\n",
       "      <th>Is_alone</th>\n",
       "      <th>Pclass</th>\n",
       "      <th>Sex_female</th>\n",
       "      <th>Sex_male</th>\n",
       "      <th>Survived</th>\n",
       "    </tr>\n",
       "  </thead>\n",
       "  <tbody>\n",
       "    <tr>\n",
       "      <th>0</th>\n",
       "      <td>22.0</td>\n",
       "      <td>0</td>\n",
       "      <td>0</td>\n",
       "      <td>1</td>\n",
       "      <td>2</td>\n",
       "      <td>-0.312011</td>\n",
       "      <td>0</td>\n",
       "      <td>0</td>\n",
       "      <td>3</td>\n",
       "      <td>0</td>\n",
       "      <td>1</td>\n",
       "      <td>0</td>\n",
       "    </tr>\n",
       "    <tr>\n",
       "      <th>1</th>\n",
       "      <td>38.0</td>\n",
       "      <td>1</td>\n",
       "      <td>0</td>\n",
       "      <td>0</td>\n",
       "      <td>2</td>\n",
       "      <td>2.461242</td>\n",
       "      <td>1</td>\n",
       "      <td>0</td>\n",
       "      <td>1</td>\n",
       "      <td>1</td>\n",
       "      <td>0</td>\n",
       "      <td>1</td>\n",
       "    </tr>\n",
       "    <tr>\n",
       "      <th>2</th>\n",
       "      <td>26.0</td>\n",
       "      <td>0</td>\n",
       "      <td>0</td>\n",
       "      <td>1</td>\n",
       "      <td>1</td>\n",
       "      <td>-0.282777</td>\n",
       "      <td>0</td>\n",
       "      <td>1</td>\n",
       "      <td>3</td>\n",
       "      <td>1</td>\n",
       "      <td>0</td>\n",
       "      <td>1</td>\n",
       "    </tr>\n",
       "    <tr>\n",
       "      <th>3</th>\n",
       "      <td>35.0</td>\n",
       "      <td>0</td>\n",
       "      <td>0</td>\n",
       "      <td>1</td>\n",
       "      <td>2</td>\n",
       "      <td>1.673732</td>\n",
       "      <td>1</td>\n",
       "      <td>0</td>\n",
       "      <td>1</td>\n",
       "      <td>1</td>\n",
       "      <td>0</td>\n",
       "      <td>1</td>\n",
       "    </tr>\n",
       "    <tr>\n",
       "      <th>4</th>\n",
       "      <td>35.0</td>\n",
       "      <td>0</td>\n",
       "      <td>0</td>\n",
       "      <td>1</td>\n",
       "      <td>1</td>\n",
       "      <td>-0.277363</td>\n",
       "      <td>0</td>\n",
       "      <td>1</td>\n",
       "      <td>3</td>\n",
       "      <td>0</td>\n",
       "      <td>1</td>\n",
       "      <td>0</td>\n",
       "    </tr>\n",
       "  </tbody>\n",
       "</table>\n",
       "</div>"
      ],
      "text/plain": [
       "   Age_imputed  Embarked_C  Embarked_Q  Embarked_S  FamilySize  Fare_scaled  \\\n",
       "0         22.0           0           0           1           2    -0.312011   \n",
       "1         38.0           1           0           0           2     2.461242   \n",
       "2         26.0           0           0           1           1    -0.282777   \n",
       "3         35.0           0           0           1           2     1.673732   \n",
       "4         35.0           0           0           1           1    -0.277363   \n",
       "\n",
       "   Has_cabin  Is_alone  Pclass  Sex_female  Sex_male  Survived  \n",
       "0          0         0       3           0         1         0  \n",
       "1          1         0       1           1         0         1  \n",
       "2          0         1       3           1         0         1  \n",
       "3          1         0       1           1         0         1  \n",
       "4          0         1       3           0         1         0  "
      ]
     },
     "execution_count": 109,
     "metadata": {},
     "output_type": "execute_result"
    }
   ],
   "source": [
    "titanic_pre.head()"
   ]
  },
  {
   "cell_type": "code",
   "execution_count": 110,
   "metadata": {},
   "outputs": [],
   "source": [
    "titanic_pre.to_csv('datasets/titanic/train_ageImputedWRF.csv')"
   ]
  },
  {
   "cell_type": "code",
   "execution_count": 111,
   "metadata": {},
   "outputs": [
    {
     "name": "stdout",
     "output_type": "stream",
     "text": [
      "Series([], dtype: int64)\n"
     ]
    }
   ],
   "source": [
    "mv_cols = (titanic_pre.isnull().sum())\n",
    "print(mv_cols[mv_cols > 0])"
   ]
  },
  {
   "cell_type": "markdown",
   "metadata": {},
   "source": [
    "### More viz"
   ]
  },
  {
   "cell_type": "code",
   "execution_count": null,
   "metadata": {},
   "outputs": [],
   "source": [
    "\"\"\"\n",
    "    SURVIVED\n",
    "\"\"\"\n",
    "plt.figure(figsize=(10, 5))\n",
    "sns.countplot(x='Survived', data=titanic)\n",
    "plt.show()"
   ]
  },
  {
   "cell_type": "code",
   "execution_count": null,
   "metadata": {},
   "outputs": [],
   "source": [
    "\"\"\"\n",
    "    PCLASS\n",
    "\"\"\"\n",
    "plt.figure(figsize=(10, 5))\n",
    "sns.countplot(x='Pclass', data=titanic)\n",
    "plt.show()"
   ]
  },
  {
   "cell_type": "code",
   "execution_count": null,
   "metadata": {},
   "outputs": [],
   "source": [
    "plt.figure(figsize=(10, 5))\n",
    "sns.countplot(x='Pclass', hue='Survived', data=titanic)\n",
    "plt.show()"
   ]
  },
  {
   "cell_type": "code",
   "execution_count": null,
   "metadata": {},
   "outputs": [],
   "source": [
    "\"\"\"\n",
    "    SEX\n",
    "\"\"\"\n",
    "plt.figure(figsize=(10, 5))\n",
    "sns.countplot(x='Sex', data=titanic)\n",
    "plt.show()\n",
    "### more men than women!"
   ]
  },
  {
   "cell_type": "code",
   "execution_count": null,
   "metadata": {},
   "outputs": [],
   "source": [
    "plt.figure(figsize=(10, 5))\n",
    "sns.countplot(x='Sex', hue='Survived', data=titanic)\n",
    "plt.show()\n",
    "## more women survived tho!"
   ]
  },
  {
   "cell_type": "code",
   "execution_count": null,
   "metadata": {},
   "outputs": [],
   "source": [
    "\"\"\"\n",
    "    EMBARKED\n",
    "\"\"\"\n",
    "plt.figure(figsize=(10, 5))\n",
    "sns.countplot(x='Embarked', data=titanic)\n",
    "plt.show()\n",
    "### most people boarded on southampton"
   ]
  },
  {
   "cell_type": "code",
   "execution_count": null,
   "metadata": {},
   "outputs": [],
   "source": [
    "plt.figure(figsize=(10, 5))\n",
    "sns.countplot(x='Embarked', hue='Survived', data=titanic)\n",
    "plt.show()"
   ]
  },
  {
   "cell_type": "code",
   "execution_count": null,
   "metadata": {},
   "outputs": [],
   "source": [
    "\"\"\"\n",
    "    PARCH\n",
    "\"\"\"\n",
    "plt.figure(figsize=(10, 5))\n",
    "sns.countplot(x='Parch', data=titanic)\n",
    "plt.show()\n",
    "### most people traveled without parents or children"
   ]
  },
  {
   "cell_type": "code",
   "execution_count": null,
   "metadata": {},
   "outputs": [],
   "source": [
    "plt.figure(figsize=(10, 5))\n",
    "sns.countplot(x='Parch', hue='Survived', data=titanic)\n",
    "plt.show()"
   ]
  },
  {
   "cell_type": "code",
   "execution_count": null,
   "metadata": {},
   "outputs": [],
   "source": [
    "\"\"\"\n",
    "    SIBSP\n",
    "\"\"\"\n",
    "plt.figure(figsize=(10, 5))\n",
    "sns.countplot(x='SibSp', data=titanic)\n",
    "plt.show()\n",
    "## most people traveled without siblings or spouse"
   ]
  },
  {
   "cell_type": "code",
   "execution_count": null,
   "metadata": {},
   "outputs": [],
   "source": [
    "plt.figure(figsize=(10, 5))\n",
    "sns.countplot(x='SibSp', hue='Survived', data=titanic)\n",
    "plt.show()"
   ]
  },
  {
   "cell_type": "code",
   "execution_count": null,
   "metadata": {},
   "outputs": [],
   "source": [
    "plt.figure(figsize=(10, 5))\n",
    "sns.jointplot(x=\"Parch\", y=\"SibSp\", data=titanic);\n",
    "plt.show()"
   ]
  },
  {
   "cell_type": "code",
   "execution_count": null,
   "metadata": {},
   "outputs": [],
   "source": [
    "\"\"\"\n",
    "    AGE\n",
    "\"\"\"\n",
    "plt.figure(figsize=(10, 10))\n",
    "sns.boxplot(x='Survived', y='Age', data=titanic)\n",
    "plt.show()\n",
    "## almost safe to say that if you were a child you would've survived"
   ]
  },
  {
   "cell_type": "code",
   "execution_count": null,
   "metadata": {},
   "outputs": [],
   "source": [
    "\"\"\"\n",
    "    FARE\n",
    "\"\"\"\n",
    "plt.figure(figsize=(10, 10))\n",
    "sns.boxplot(x='Survived', y='Fare', data=titanic)\n",
    "plt.show()\n",
    "### mean are different. Do a t-test for significance? Cant be done! Data isnt gaussian-like\n",
    "### people who paid larger fares were more likely to survive"
   ]
  },
  {
   "cell_type": "markdown",
   "metadata": {},
   "source": [
    "### Here we have finished visualizing and we're ready to drop cols"
   ]
  },
  {
   "cell_type": "code",
   "execution_count": null,
   "metadata": {},
   "outputs": [],
   "source": [
    "missing_val_count_by_column = (titanic.isnull().sum())\n",
    "print(missing_val_count_by_column[missing_val_count_by_column > 0])"
   ]
  },
  {
   "cell_type": "code",
   "execution_count": null,
   "metadata": {},
   "outputs": [],
   "source": [
    "#### cabin isn't too informative\n",
    "## let's drop it too\n",
    "unnecessary_cols = ['PassengerId', 'Name', 'Ticket', 'Cabin', 'Cabin_encoded']"
   ]
  },
  {
   "cell_type": "code",
   "execution_count": null,
   "metadata": {},
   "outputs": [],
   "source": [
    "titanic.head()"
   ]
  },
  {
   "cell_type": "markdown",
   "metadata": {},
   "source": [
    "#### Let's drop \"unnecessary\" cols"
   ]
  },
  {
   "cell_type": "code",
   "execution_count": null,
   "metadata": {},
   "outputs": [],
   "source": [
    "#### cabin isn't too informative\n",
    "## let's drop it too\n",
    "unnecessary_cols = ['PassengerId', 'Name', 'Ticket', 'Cabin', 'Cabin_encoded']\n",
    "titanic.drop(unnecessary_cols, inplace=True, axis=1)"
   ]
  },
  {
   "cell_type": "code",
   "execution_count": null,
   "metadata": {},
   "outputs": [],
   "source": [
    "titanic = pd.get_dummies(titanic)\n",
    "### why pclass isnt created dummies? cos it's not categorical :P"
   ]
  },
  {
   "cell_type": "code",
   "execution_count": null,
   "metadata": {},
   "outputs": [],
   "source": [
    "titanic.head()"
   ]
  },
  {
   "cell_type": "markdown",
   "metadata": {},
   "source": [
    "### Scaling num vars"
   ]
  },
  {
   "cell_type": "code",
   "execution_count": null,
   "metadata": {},
   "outputs": [],
   "source": [
    "### how is age distributed?\n",
    "plt.figure(figsize=(16, 7))\n",
    "sns.distplot(titanic['Age'])\n",
    "plt.show()"
   ]
  },
  {
   "cell_type": "code",
   "execution_count": null,
   "metadata": {},
   "outputs": [],
   "source": [
    "### what about fare?\n",
    "plt.figure(figsize=(16, 7))\n",
    "sns.distplot(titanic['Fare'])\n",
    "plt.show()\n",
    "#### right skewed"
   ]
  },
  {
   "cell_type": "code",
   "execution_count": null,
   "metadata": {},
   "outputs": [],
   "source": [
    "from sklearn.preprocessing import StandardScaler"
   ]
  },
  {
   "cell_type": "code",
   "execution_count": null,
   "metadata": {},
   "outputs": [],
   "source": [
    "ageSC = StandardScaler()"
   ]
  },
  {
   "cell_type": "code",
   "execution_count": null,
   "metadata": {},
   "outputs": [],
   "source": [
    "ageSC.fit(titanic['Age'].values.reshape(-1, 1))"
   ]
  },
  {
   "cell_type": "code",
   "execution_count": null,
   "metadata": {},
   "outputs": [],
   "source": [
    "titanic['Age'] = ageSC.transform(titanic['Age'].values.reshape(-1, 1))"
   ]
  },
  {
   "cell_type": "code",
   "execution_count": null,
   "metadata": {},
   "outputs": [],
   "source": [
    "plt.figure(figsize=(10, 5))\n",
    "sns.distplot(titanic['Age'])\n",
    "plt.show()"
   ]
  },
  {
   "cell_type": "markdown",
   "metadata": {},
   "source": [
    "### Age has lots of outliers. Perhaps another scaling strategy would be better?"
   ]
  },
  {
   "cell_type": "code",
   "execution_count": null,
   "metadata": {},
   "outputs": [],
   "source": [
    "\"\"\"\n",
    "    AGE\n",
    "\"\"\"\n",
    "plt.figure(figsize=(10, 10))\n",
    "sns.boxplot(x='Survived', y='Age', data=titanic)\n",
    "plt.show()"
   ]
  },
  {
   "cell_type": "markdown",
   "metadata": {},
   "source": [
    "#### Fare is right-skewed. Let's use something to make it more Gaussian-like!"
   ]
  },
  {
   "cell_type": "code",
   "execution_count": null,
   "metadata": {},
   "outputs": [],
   "source": [
    "from sklearn.preprocessing import PowerTransformer"
   ]
  },
  {
   "cell_type": "code",
   "execution_count": null,
   "metadata": {},
   "outputs": [],
   "source": [
    "titanic[titanic['Fare'] == 0]\n",
    "### some people traveled for free?? then, no Box-Cox transform can be applied :-("
   ]
  },
  {
   "cell_type": "code",
   "execution_count": null,
   "metadata": {},
   "outputs": [],
   "source": [
    "ptFare = PowerTransformer()"
   ]
  },
  {
   "cell_type": "code",
   "execution_count": null,
   "metadata": {},
   "outputs": [],
   "source": [
    "ptFare.fit(titanic['Fare'].values.reshape(-1, 1))"
   ]
  },
  {
   "cell_type": "code",
   "execution_count": null,
   "metadata": {},
   "outputs": [],
   "source": [
    "titanic['Fare'] = ptFare.transform(titanic['Fare'].values.reshape(-1, 1))"
   ]
  },
  {
   "cell_type": "code",
   "execution_count": null,
   "metadata": {},
   "outputs": [],
   "source": [
    "plt.figure(figsize=(10, 5))\n",
    "sns.distplot(titanic['Fare'])\n",
    "plt.show()\n",
    "\"\"\"\n",
    "is it more gaussian-like?? how does it compare vs target var?\n",
    "\"\"\""
   ]
  },
  {
   "cell_type": "code",
   "execution_count": null,
   "metadata": {},
   "outputs": [],
   "source": [
    "\"\"\"\n",
    "    FARE\n",
    "\"\"\"\n",
    "plt.figure(figsize=(10, 10))\n",
    "sns.boxplot(x='Survived', y='Fare', data=titanic)\n",
    "plt.show()\n",
    "\"\"\"\n",
    "t-test now?\n",
    "now it's more evident that both distros differ\n",
    "there're less outliers\n",
    "it's clearer that people that paid more had more\n",
    "chances of survival\n",
    "\"\"\""
   ]
  },
  {
   "cell_type": "code",
   "execution_count": null,
   "metadata": {},
   "outputs": [],
   "source": [
    "titanic.head()"
   ]
  },
  {
   "cell_type": "markdown",
   "metadata": {},
   "source": [
    "## Are we ready to model?"
   ]
  },
  {
   "cell_type": "code",
   "execution_count": null,
   "metadata": {},
   "outputs": [],
   "source": [
    "from sklearn.linear_model import LogisticRegression\n",
    "from sklearn.ensemble import RandomForestClassifier\n",
    "from sklearn.svm import SVC\n",
    "from sklearn.metrics import confusion_matrix, classification_report"
   ]
  },
  {
   "cell_type": "code",
   "execution_count": null,
   "metadata": {},
   "outputs": [],
   "source": [
    "X = titanic.drop(['Survived'], axis=1, inplace=False)\n",
    "y = titanic['Survived']"
   ]
  },
  {
   "cell_type": "markdown",
   "metadata": {},
   "source": [
    "#### A small detour to do cross validation"
   ]
  },
  {
   "cell_type": "code",
   "execution_count": null,
   "metadata": {},
   "outputs": [],
   "source": [
    "from sklearn.model_selection import StratifiedKFold\n",
    "from sklearn.metrics import accuracy_score, f1_score"
   ]
  },
  {
   "cell_type": "code",
   "execution_count": null,
   "metadata": {},
   "outputs": [],
   "source": [
    "kFold = StratifiedKFold(n_splits=10, random_state=0, shuffle=True)\n",
    "accs = []\n",
    "f1s = []\n",
    "for i, (train_idx, test_idx) in enumerate(kFold.split(X, y)):\n",
    "    print(\"Fold:\", i)\n",
    "    X_train, X_test = X.iloc[train_idx], X.iloc[test_idx]\n",
    "    y_train, y_test = y.iloc[train_idx], y.iloc[test_idx]\n",
    "    modelLR = LogisticRegression(random_state=0)\n",
    "    modelLR.fit(X_train, y_train)\n",
    "    preds = modelLR.predict(X_test)\n",
    "    acc = accuracy_score(y_test, preds)\n",
    "    f1 = f1_score(y_test, preds)\n",
    "    print(\"Acc:\", acc, \"F1-score:\", f1)\n",
    "    accs.append(acc)\n",
    "    f1s.append(f1)\n",
    "    print()\n",
    "print(\"Mean acc:\", np.mean(accs))\n",
    "print(\"Mean f1 score:\", np.mean(f1s))"
   ]
  },
  {
   "cell_type": "code",
   "execution_count": null,
   "metadata": {},
   "outputs": [],
   "source": [
    "from sklearn.model_selection import train_test_split"
   ]
  },
  {
   "cell_type": "code",
   "execution_count": null,
   "metadata": {},
   "outputs": [],
   "source": [
    "X_train, X_test, y_train, y_test = train_test_split(X, y, test_size=0.3, random_state=0)"
   ]
  },
  {
   "cell_type": "markdown",
   "metadata": {},
   "source": [
    "# Stuff to try:\n",
    "### ROC curves\n",
    "### Grid search\n",
    "### XGBoost, NNs\n",
    "### feature importance"
   ]
  },
  {
   "cell_type": "markdown",
   "metadata": {},
   "source": [
    "### First impressions with classification. We will have a look to feature importance too"
   ]
  },
  {
   "cell_type": "code",
   "execution_count": null,
   "metadata": {},
   "outputs": [],
   "source": [
    "modelLR = LogisticRegression(random_state=0)\n",
    "modelLR.fit(X_train, y_train)\n",
    "preds = modelLR.predict(X_test)\n",
    "print(classification_report(y_test, preds))\n",
    "print(confusion_matrix(y_test, preds))"
   ]
  },
  {
   "cell_type": "code",
   "execution_count": null,
   "metadata": {},
   "outputs": [],
   "source": [
    "feature_importance = pd.DataFrame({'Feature': X.columns.tolist(), 'Coefficients': modelLR.coef_[0]})"
   ]
  },
  {
   "cell_type": "code",
   "execution_count": null,
   "metadata": {},
   "outputs": [],
   "source": [
    "feature_importance"
   ]
  },
  {
   "cell_type": "code",
   "execution_count": null,
   "metadata": {},
   "outputs": [],
   "source": [
    "plt.figure(figsize=(16, 7))\n",
    "sns.barplot(x='Feature', y='Coefficients', data=feature_importance)\n",
    "plt.xticks(rotation=45)\n",
    "plt.show()"
   ]
  },
  {
   "cell_type": "markdown",
   "metadata": {},
   "source": [
    "### Let's have a look at ROC curve"
   ]
  },
  {
   "cell_type": "code",
   "execution_count": null,
   "metadata": {},
   "outputs": [],
   "source": [
    "from sklearn.metrics import roc_curve, auc"
   ]
  },
  {
   "cell_type": "code",
   "execution_count": null,
   "metadata": {},
   "outputs": [],
   "source": [
    "probs = modelLR.predict_proba(X_test)\n",
    "probs = probs[:, 1]"
   ]
  },
  {
   "cell_type": "code",
   "execution_count": null,
   "metadata": {},
   "outputs": [],
   "source": [
    "fprLR, tprLR, thresholdLR = roc_curve(y_test, probs, pos_label=1)"
   ]
  },
  {
   "cell_type": "code",
   "execution_count": null,
   "metadata": {},
   "outputs": [],
   "source": [
    "print(\"AUC:\", auc(fprLR, tprLR))"
   ]
  },
  {
   "cell_type": "code",
   "execution_count": null,
   "metadata": {},
   "outputs": [],
   "source": [
    "plt.figure(figsize=(10, 7))\n",
    "plt.plot(fprLR, tprLR, marker='.')\n",
    "# axis labels\n",
    "plt.xlabel('False Positive Rate')\n",
    "plt.ylabel('True Positive Rate')\n",
    "plt.plot([0, 1], [0, 1])\n",
    "# show the plot\n",
    "plt.show()"
   ]
  },
  {
   "cell_type": "code",
   "execution_count": null,
   "metadata": {},
   "outputs": [],
   "source": [
    "i = np.arange(len(tprLR))\n",
    "roc = pd.DataFrame({'tf': pd.Series(tprLR-(1-fprLR), index=i), 'threshold': pd.Series(thresholdLR, index=i)})\n",
    "roc_t = roc.iloc[(roc.tf-0).abs().argsort()[:1]]                 \n",
    "print('Best thresh:', list(roc_t['threshold']))"
   ]
  },
  {
   "cell_type": "code",
   "execution_count": null,
   "metadata": {},
   "outputs": [],
   "source": [
    "#def preds_by_thresh(prob_vec, thresh):\n",
    "#thresh = 0.329988328719691\n",
    "thresh = 0.329988328719691\n",
    "preds = []\n",
    "for proba in probs:\n",
    "    if proba >= thresh:\n",
    "        preds.append(1)\n",
    "    else:\n",
    "        preds.append(0)"
   ]
  },
  {
   "cell_type": "code",
   "execution_count": null,
   "metadata": {},
   "outputs": [],
   "source": [
    "accuracy_score(y_test, preds)\n",
    "# 0.8022388059701493 -- thresh obtained from ROC analysis\n",
    "# 0.8059701492537313 -- thresh = 0.5"
   ]
  },
  {
   "cell_type": "code",
   "execution_count": null,
   "metadata": {},
   "outputs": [],
   "source": [
    "f1_score(y_test, preds)\n",
    "# 0.7511737089201878 -- comments as above!\n",
    "# 0.7373737373737373 "
   ]
  },
  {
   "cell_type": "code",
   "execution_count": null,
   "metadata": {},
   "outputs": [],
   "source": [
    "confusion_matrix(y_test, preds)"
   ]
  },
  {
   "cell_type": "code",
   "execution_count": null,
   "metadata": {},
   "outputs": [],
   "source": [
    "\"\"\"\n",
    "    The thresh above was estimated using X_test and y_test (i.e. VALIDATION SET)\n",
    "    How do we know that the same thresh will result in the\n",
    "    same acc and f1-score when applied in REAL test set???\n",
    "    there is only one way: TRY IT!\n",
    "\"\"\""
   ]
  },
  {
   "cell_type": "markdown",
   "metadata": {},
   "source": [
    "#### Let's try a simple decision tree"
   ]
  },
  {
   "cell_type": "code",
   "execution_count": null,
   "metadata": {},
   "outputs": [],
   "source": [
    "from sklearn.tree import DecisionTreeClassifier"
   ]
  },
  {
   "cell_type": "code",
   "execution_count": null,
   "metadata": {},
   "outputs": [],
   "source": [
    "modelDT = DecisionTreeClassifier(random_state=0, max_depth=5)\n",
    "modelDT.fit(X_train, y_train)\n",
    "preds = modelDT.predict(X_test)\n",
    "print(classification_report(y_test, preds))\n",
    "print(confusion_matrix(y_test, preds))"
   ]
  },
  {
   "cell_type": "code",
   "execution_count": null,
   "metadata": {},
   "outputs": [],
   "source": [
    "feature_importance = pd.DataFrame({'Feature': X.columns.tolist(), 'Score': modelDT.feature_importances_})"
   ]
  },
  {
   "cell_type": "code",
   "execution_count": null,
   "metadata": {},
   "outputs": [],
   "source": [
    "feature_importance"
   ]
  },
  {
   "cell_type": "code",
   "execution_count": null,
   "metadata": {},
   "outputs": [],
   "source": [
    "plt.figure(figsize=(16, 7))\n",
    "sns.barplot(x='Feature', y='Score', data=feature_importance)\n",
    "plt.xticks(rotation=45)\n",
    "plt.show()"
   ]
  },
  {
   "cell_type": "code",
   "execution_count": null,
   "metadata": {},
   "outputs": [],
   "source": [
    "probs = modelDT.predict_proba(X_test)\n",
    "probs = probs[:, 1]"
   ]
  },
  {
   "cell_type": "code",
   "execution_count": null,
   "metadata": {},
   "outputs": [],
   "source": [
    "fprDT, tprDT, thresholdDT = roc_curve(y_test, probs, pos_label=1)"
   ]
  },
  {
   "cell_type": "code",
   "execution_count": null,
   "metadata": {},
   "outputs": [],
   "source": [
    "print(\"AUC:\", auc(fprDT, tprDT))"
   ]
  },
  {
   "cell_type": "code",
   "execution_count": null,
   "metadata": {},
   "outputs": [],
   "source": [
    "plt.figure(figsize=(10, 7))\n",
    "plt.plot(fprLR, tprLR)\n",
    "plt.plot(fprDT, tprDT)\n",
    "plt.legend(['LR','DT'])\n",
    "# axis labels\n",
    "plt.xlabel('False Positive Rate')\n",
    "plt.ylabel('True Positive Rate')\n",
    "plt.plot([0, 1], [0, 1])\n",
    "# show the plot\n",
    "plt.show()"
   ]
  },
  {
   "cell_type": "code",
   "execution_count": null,
   "metadata": {},
   "outputs": [],
   "source": [
    "i = np.arange(len(tprDT))\n",
    "roc = pd.DataFrame({'tf': pd.Series(tprDT-(1-fprDT), index=i), 'threshold': pd.Series(thresholdDT, index=i)})\n",
    "roc_t = roc.iloc[(roc.tf-0).abs().argsort()[:1]]\n",
    "print('Best thresh:', list(roc_t['threshold']))"
   ]
  },
  {
   "cell_type": "code",
   "execution_count": null,
   "metadata": {},
   "outputs": [],
   "source": [
    "thresh = 0.5\n",
    "preds = []\n",
    "for proba in probs:\n",
    "    if proba >= thresh:\n",
    "        preds.append(1)\n",
    "    else:\n",
    "        preds.append(0)"
   ]
  },
  {
   "cell_type": "code",
   "execution_count": null,
   "metadata": {},
   "outputs": [],
   "source": [
    "print(accuracy_score(y_test, preds))\n",
    "print(f1_score(y_test, preds))\n",
    "print(confusion_matrix(y_test, preds))"
   ]
  },
  {
   "cell_type": "markdown",
   "metadata": {},
   "source": [
    "#### Let's try SVMs now"
   ]
  },
  {
   "cell_type": "code",
   "execution_count": null,
   "metadata": {},
   "outputs": [],
   "source": [
    "modelSVC = SVC(random_state=0, kernel='linear', probability=True)\n",
    "modelSVC.fit(X_train, y_train)\n",
    "preds = modelSVC.predict(X_test)\n",
    "print(classification_report(y_test, preds))\n",
    "print(confusion_matrix(y_test, preds))"
   ]
  },
  {
   "cell_type": "code",
   "execution_count": null,
   "metadata": {},
   "outputs": [],
   "source": [
    "feature_importance = pd.DataFrame({'Feature': X.columns.tolist(), 'Coefficients': modelSVC.coef_[0]})"
   ]
  },
  {
   "cell_type": "code",
   "execution_count": null,
   "metadata": {},
   "outputs": [],
   "source": [
    "feature_importance"
   ]
  },
  {
   "cell_type": "code",
   "execution_count": null,
   "metadata": {},
   "outputs": [],
   "source": [
    "plt.figure(figsize=(16, 7))\n",
    "sns.barplot(x='Feature', y='Coefficients', data=feature_importance)\n",
    "plt.xticks(rotation=45)\n",
    "plt.show()"
   ]
  },
  {
   "cell_type": "code",
   "execution_count": null,
   "metadata": {},
   "outputs": [],
   "source": [
    "probs = modelSVC.predict_proba(X_test)\n",
    "probs = probs[:, 1]"
   ]
  },
  {
   "cell_type": "code",
   "execution_count": null,
   "metadata": {},
   "outputs": [],
   "source": [
    "fprSVC, tprSVC, thresholdSVC = roc_curve(y_test, probs, pos_label=1)"
   ]
  },
  {
   "cell_type": "code",
   "execution_count": null,
   "metadata": {},
   "outputs": [],
   "source": [
    "print(\"AUC:\", auc(fprSVC, tprSVC))"
   ]
  },
  {
   "cell_type": "code",
   "execution_count": null,
   "metadata": {},
   "outputs": [],
   "source": [
    "plt.figure(figsize=(10, 7))\n",
    "plt.plot(fprLR, tprLR)\n",
    "plt.plot(fprDT, tprDT)\n",
    "plt.plot(fprSVC, tprSVC)\n",
    "plt.legend(['LR','DT', 'SVC'])\n",
    "# axis labels\n",
    "plt.xlabel('False Positive Rate')\n",
    "plt.ylabel('True Positive Rate')\n",
    "plt.plot([0, 1], [0, 1])\n",
    "# show the plot\n",
    "plt.show()"
   ]
  },
  {
   "cell_type": "code",
   "execution_count": null,
   "metadata": {},
   "outputs": [],
   "source": [
    "i = np.arange(len(tprSVC))\n",
    "roc = pd.DataFrame({'tf': pd.Series(tprSVC-(1-fprSVC), index=i), 'threshold': pd.Series(thresholdSVC, index=i)})\n",
    "roc_t = roc.iloc[(roc.tf-0).abs().argsort()[:1]]\n",
    "print('Best thresh:', list(roc_t['threshold']))"
   ]
  },
  {
   "cell_type": "code",
   "execution_count": null,
   "metadata": {},
   "outputs": [],
   "source": [
    "thresh = 0.19744104517882796\n",
    "preds = []\n",
    "for proba in probs:\n",
    "    if proba >= thresh:\n",
    "        preds.append(1)\n",
    "    else:\n",
    "        preds.append(0)"
   ]
  },
  {
   "cell_type": "code",
   "execution_count": null,
   "metadata": {},
   "outputs": [],
   "source": [
    "print(accuracy_score(y_test, preds))\n",
    "print(f1_score(y_test, preds))\n",
    "print(confusion_matrix(y_test, preds))"
   ]
  },
  {
   "cell_type": "markdown",
   "metadata": {},
   "source": [
    "### Not very good performance w estimators out of the box, possibly we'll need to try a different feature selection/scaling strategy"
   ]
  },
  {
   "cell_type": "markdown",
   "metadata": {},
   "source": [
    "### In the meantime, let's continue playing around w different models"
   ]
  },
  {
   "cell_type": "markdown",
   "metadata": {},
   "source": [
    "#### Random Forest"
   ]
  },
  {
   "cell_type": "code",
   "execution_count": null,
   "metadata": {},
   "outputs": [],
   "source": [
    "modelRF = RandomForestClassifier(random_state=0, max_depth=5, n_estimators=200)                                                                      \n",
    "modelRF.fit(X_train, y_train)\n",
    "preds = modelRF.predict(X_test)\n",
    "print(classification_report(y_test, preds))\n",
    "print(confusion_matrix(y_test, preds))"
   ]
  },
  {
   "cell_type": "code",
   "execution_count": null,
   "metadata": {},
   "outputs": [],
   "source": [
    "feature_importance = pd.DataFrame({'Feature': X.columns.tolist(), 'Score': modelRF.feature_importances_})"
   ]
  },
  {
   "cell_type": "code",
   "execution_count": null,
   "metadata": {},
   "outputs": [],
   "source": [
    "feature_importance"
   ]
  },
  {
   "cell_type": "code",
   "execution_count": null,
   "metadata": {},
   "outputs": [],
   "source": [
    "plt.figure(figsize=(16, 7))\n",
    "sns.barplot(x='Feature', y='Score', data=feature_importance)\n",
    "plt.xticks(rotation=45)\n",
    "plt.show()"
   ]
  },
  {
   "cell_type": "code",
   "execution_count": null,
   "metadata": {},
   "outputs": [],
   "source": [
    "probs = modelRF.predict_proba(X_test)\n",
    "probs = probs[:, 1]"
   ]
  },
  {
   "cell_type": "code",
   "execution_count": null,
   "metadata": {},
   "outputs": [],
   "source": [
    "fprRF, tprRF, thresholdRF = roc_curve(y_test, probs, pos_label=1)"
   ]
  },
  {
   "cell_type": "code",
   "execution_count": null,
   "metadata": {},
   "outputs": [],
   "source": [
    "print(\"AUC:\", auc(fprRF, tprRF))"
   ]
  },
  {
   "cell_type": "code",
   "execution_count": null,
   "metadata": {},
   "outputs": [],
   "source": [
    "plt.figure(figsize=(10, 7))\n",
    "plt.plot(fprLR, tprLR)\n",
    "plt.plot(fprDT, tprDT)\n",
    "plt.plot(fprSVC, tprSVC)\n",
    "plt.plot(fprRF, tprRF)\n",
    "plt.legend(['LR','DT','SVC','RF'])\n",
    "# axis labels\n",
    "plt.xlabel('False Positive Rate')\n",
    "plt.ylabel('True Positive Rate')\n",
    "plt.plot([0, 1], [0, 1])\n",
    "# show the plot\n",
    "plt.show()"
   ]
  },
  {
   "cell_type": "code",
   "execution_count": null,
   "metadata": {},
   "outputs": [],
   "source": [
    "i = np.arange(len(tprRF))\n",
    "roc = pd.DataFrame({'tf': pd.Series(tprRF-(1-fprRF), index=i), 'threshold': pd.Series(thresholdRF, index=i)})\n",
    "roc_t = roc.iloc[(roc.tf-0).abs().argsort()[:1]]\n",
    "print('Best thresh:', list(roc_t['threshold']))"
   ]
  },
  {
   "cell_type": "code",
   "execution_count": null,
   "metadata": {},
   "outputs": [],
   "source": [
    "thresh = 0.3254039087203783\n",
    "preds = []\n",
    "for proba in probs:\n",
    "    if proba >= thresh:\n",
    "        preds.append(1)\n",
    "    else:\n",
    "        preds.append(0)"
   ]
  },
  {
   "cell_type": "code",
   "execution_count": null,
   "metadata": {},
   "outputs": [],
   "source": [
    "print(accuracy_score(y_test, preds))\n",
    "print(f1_score(y_test, preds))\n",
    "print(confusion_matrix(y_test, preds))"
   ]
  },
  {
   "cell_type": "markdown",
   "metadata": {},
   "source": [
    "### XGBoost"
   ]
  },
  {
   "cell_type": "code",
   "execution_count": null,
   "metadata": {},
   "outputs": [],
   "source": [
    "from xgboost import XGBClassifier"
   ]
  },
  {
   "cell_type": "code",
   "execution_count": null,
   "metadata": {},
   "outputs": [],
   "source": [
    "modelXGB = XGBClassifier(random_state=0, n_estimators=200)\n",
    "modelXGB.fit(X_train, y_train)\n",
    "preds = modelXGB.predict(X_test)\n",
    "print(classification_report(y_test, preds))\n",
    "print(confusion_matrix(y_test, preds))"
   ]
  },
  {
   "cell_type": "code",
   "execution_count": null,
   "metadata": {},
   "outputs": [],
   "source": [
    "feature_importance = pd.DataFrame({'Feature': X.columns.tolist(), 'Score': modelXGB.feature_importances_})"
   ]
  },
  {
   "cell_type": "code",
   "execution_count": null,
   "metadata": {},
   "outputs": [],
   "source": [
    "feature_importance"
   ]
  },
  {
   "cell_type": "code",
   "execution_count": null,
   "metadata": {},
   "outputs": [],
   "source": [
    "plt.figure(figsize=(16, 7))\n",
    "sns.barplot(x='Feature', y='Score', data=feature_importance)\n",
    "plt.xticks(rotation=45)\n",
    "plt.show()"
   ]
  },
  {
   "cell_type": "code",
   "execution_count": null,
   "metadata": {},
   "outputs": [],
   "source": [
    "probs = modelXGB.predict_proba(X_test)\n",
    "probs = probs[:, 1]"
   ]
  },
  {
   "cell_type": "code",
   "execution_count": null,
   "metadata": {},
   "outputs": [],
   "source": [
    "fprXGB, tprXGB, thresholdXGB = roc_curve(y_test, probs, pos_label=1)"
   ]
  },
  {
   "cell_type": "code",
   "execution_count": null,
   "metadata": {},
   "outputs": [],
   "source": [
    "print(\"AUC:\", auc(fprXGB, tprXGB))"
   ]
  },
  {
   "cell_type": "code",
   "execution_count": null,
   "metadata": {},
   "outputs": [],
   "source": [
    "plt.figure(figsize=(10, 7))\n",
    "plt.plot(fprLR, tprLR)\n",
    "plt.plot(fprDT, tprDT)\n",
    "plt.plot(fprSVC, tprSVC)\n",
    "plt.plot(fprRF, tprRF)\n",
    "plt.plot(fprXGB, tprXGB)\n",
    "plt.legend(['LR','DT','SVC','RF','XGB'])\n",
    "# axis labels\n",
    "plt.xlabel('False Positive Rate')\n",
    "plt.ylabel('True Positive Rate')\n",
    "plt.plot([0, 1], [0, 1])\n",
    "# show the plot\n",
    "plt.show()"
   ]
  },
  {
   "cell_type": "code",
   "execution_count": null,
   "metadata": {},
   "outputs": [],
   "source": [
    "i = np.arange(len(tprXGB))\n",
    "roc = pd.DataFrame({'tf': pd.Series(tprXGB-(1-fprXGB), index=i), 'threshold': pd.Series(thresholdXGB, index=i)})\n",
    "roc_t = roc.iloc[(roc.tf-0).abs().argsort()[:1]]\n",
    "print('Best thresh:', list(roc_t['threshold']))"
   ]
  },
  {
   "cell_type": "code",
   "execution_count": null,
   "metadata": {},
   "outputs": [],
   "source": [
    "thresh = 0.2954808473587036\n",
    "preds = []\n",
    "for proba in probs:\n",
    "    if proba >= thresh:\n",
    "        preds.append(1)\n",
    "    else:\n",
    "        preds.append(0)"
   ]
  },
  {
   "cell_type": "code",
   "execution_count": null,
   "metadata": {},
   "outputs": [],
   "source": [
    "print(accuracy_score(y_test, preds))\n",
    "print(f1_score(y_test, preds))\n",
    "print(confusion_matrix(y_test, preds))"
   ]
  },
  {
   "cell_type": "markdown",
   "metadata": {},
   "source": [
    "#### Let's try a NN"
   ]
  },
  {
   "cell_type": "code",
   "execution_count": null,
   "metadata": {},
   "outputs": [],
   "source": [
    "import tensorflow as tf\n",
    "from tensorflow import keras\n",
    "from tensorflow.keras import layers"
   ]
  },
  {
   "cell_type": "code",
   "execution_count": null,
   "metadata": {},
   "outputs": [],
   "source": [
    "\"\"\"\n",
    "+++++++++++ 1 +++++++++++\n",
    "modelNN = keras.Sequential([\n",
    "        layers.Dense(100, activation=tf.nn.relu, input_shape=[input_size,]),\n",
    "        layers.Dense(1, activation=tf.nn.sigmoid)\n",
    "    ])\n",
    "\"\"\"\n",
    "def createNN(input_size):\n",
    "    modelNN = keras.Sequential([\n",
    "        layers.Dense(100, activation=tf.nn.relu, input_shape=[input_size,]),\n",
    "#         layers.Dropout(0.2),\n",
    "#         layers.Dense(256, activation=tf.nn.relu),\n",
    "#         layers.Dropout(0.2),\n",
    "        layers.Dense(1, activation=tf.nn.sigmoid)\n",
    "    ])\n",
    "    modelNN.compile(loss='binary_crossentropy', \n",
    "                optimizer='adam', \n",
    "                metrics=['accuracy'])\n",
    "    return modelNN"
   ]
  },
  {
   "cell_type": "code",
   "execution_count": null,
   "metadata": {},
   "outputs": [],
   "source": [
    "X.columns"
   ]
  },
  {
   "cell_type": "code",
   "execution_count": null,
   "metadata": {},
   "outputs": [],
   "source": [
    "modelNN = createNN(len(X.keys()))"
   ]
  },
  {
   "cell_type": "code",
   "execution_count": null,
   "metadata": {},
   "outputs": [],
   "source": [
    "early_stop = keras.callbacks.EarlyStopping(monitor='val_accuracy', patience=10)"
   ]
  },
  {
   "cell_type": "code",
   "execution_count": null,
   "metadata": {},
   "outputs": [],
   "source": [
    "modelNN.summary()"
   ]
  },
  {
   "cell_type": "code",
   "execution_count": null,
   "metadata": {},
   "outputs": [],
   "source": [
    "def plot_history(history):\n",
    "    hist = pd.DataFrame(history.history)\n",
    "    hist['epoch'] = history.epoch\n",
    "  \n",
    "    plt.figure(figsize=(10, 7))\n",
    "    plt.xlabel('Epoch')\n",
    "    plt.ylabel('Accuracy')\n",
    "    plt.plot(hist['epoch'], \n",
    "           hist['accuracy'], \n",
    "           label='Train Acc')\n",
    "    plt.plot(hist['epoch'], \n",
    "           hist['val_accuracy'],\n",
    "          label='Val Acc')\n",
    "    plt.legend()"
   ]
  },
  {
   "cell_type": "code",
   "execution_count": null,
   "metadata": {},
   "outputs": [],
   "source": [
    "epochs = 100\n",
    "history = modelNN.fit(\n",
    "    X_train,\n",
    "    y_train,\n",
    "    epochs=epochs,\n",
    "    validation_split=0.2,\n",
    "    callbacks=[early_stop]\n",
    ")"
   ]
  },
  {
   "cell_type": "code",
   "execution_count": null,
   "metadata": {},
   "outputs": [],
   "source": [
    "hist = pd.DataFrame(history.history)\n",
    "hist['epoch'] = history.epoch\n",
    "hist.tail()"
   ]
  },
  {
   "cell_type": "code",
   "execution_count": null,
   "metadata": {},
   "outputs": [],
   "source": [
    "plot_history(history)"
   ]
  },
  {
   "cell_type": "code",
   "execution_count": null,
   "metadata": {},
   "outputs": [],
   "source": [
    "loss, acc = modelNN.evaluate(X_test, y_test, verbose=0)\n",
    "print('Accuracy on test set:', acc)"
   ]
  },
  {
   "cell_type": "markdown",
   "metadata": {},
   "source": [
    "#### let's try some CV with all data on the NN"
   ]
  },
  {
   "cell_type": "code",
   "execution_count": null,
   "metadata": {},
   "outputs": [],
   "source": [
    "kFold = StratifiedKFold(n_splits=10, random_state=0, shuffle=True)\n",
    "accs = []\n",
    "early_stopCV = keras.callbacks.EarlyStopping(monitor='accuracy', patience=10)\n",
    "for i, (train_idx, test_idx) in enumerate(kFold.split(X, y)):\n",
    "    print(\"Fold:\", i)\n",
    "    X_trainCV, X_testCV = X.iloc[train_idx], X.iloc[test_idx]\n",
    "    y_trainCV, y_testCV = y.iloc[train_idx], y.iloc[test_idx]\n",
    "\n",
    "    modelNN = createNN(len(X_train.keys()))\n",
    "\n",
    "    modelNN.fit(\n",
    "        X_trainCV,\n",
    "        y_trainCV,\n",
    "        epochs=100,\n",
    "        verbose=0,\n",
    "        callbacks=[early_stopCV]\n",
    "    )\n",
    "\n",
    "    _, acc = modelNN.evaluate(X_testCV, y_testCV, verbose=0)\n",
    "    print('Accuracy:', acc)\n",
    "    accs.append(acc)        \n",
    "    print()\n",
    "print(\"Mean acc:\", np.mean(accs))"
   ]
  },
  {
   "cell_type": "markdown",
   "metadata": {},
   "source": [
    "##### Not bad and promising!\n",
    "### Let's continue our analysis"
   ]
  },
  {
   "cell_type": "code",
   "execution_count": null,
   "metadata": {},
   "outputs": [],
   "source": [
    "probs = modelNN.predict(X_test)"
   ]
  },
  {
   "cell_type": "code",
   "execution_count": null,
   "metadata": {},
   "outputs": [],
   "source": [
    "preds = (probs > 0.5)"
   ]
  },
  {
   "cell_type": "code",
   "execution_count": null,
   "metadata": {},
   "outputs": [],
   "source": [
    "print(classification_report(y_test, preds))\n",
    "print(confusion_matrix(y_test, preds))"
   ]
  },
  {
   "cell_type": "markdown",
   "metadata": {},
   "source": [
    "##### How to get feature importance from a Keras Model?"
   ]
  },
  {
   "cell_type": "code",
   "execution_count": null,
   "metadata": {},
   "outputs": [],
   "source": [
    "fprNN, tprNN, thresholdNN = roc_curve(y_test, probs, pos_label=1)"
   ]
  },
  {
   "cell_type": "code",
   "execution_count": null,
   "metadata": {},
   "outputs": [],
   "source": [
    "print(\"AUC:\", auc(fprNN, tprNN))"
   ]
  },
  {
   "cell_type": "code",
   "execution_count": null,
   "metadata": {},
   "outputs": [],
   "source": [
    "plt.figure(figsize=(10, 7))\n",
    "plt.plot(fprLR, tprLR)\n",
    "plt.plot(fprDT, tprDT)\n",
    "plt.plot(fprSVC, tprSVC)\n",
    "plt.plot(fprRF, tprRF)\n",
    "plt.plot(fprXGB, tprXGB)\n",
    "plt.plot(fprNN, tprNN)\n",
    "plt.legend(['LR','DT','SVC','RF','XGB','NN'])\n",
    "# axis labels\n",
    "plt.xlabel('False Positive Rate')\n",
    "plt.ylabel('True Positive Rate')\n",
    "plt.plot([0, 1], [0, 1])\n",
    "# show the plot\n",
    "plt.show()"
   ]
  },
  {
   "cell_type": "code",
   "execution_count": null,
   "metadata": {},
   "outputs": [],
   "source": [
    "i = np.arange(len(tprNN))\n",
    "roc = pd.DataFrame({'tf': pd.Series(tprNN-(1-fprNN), index=i), 'threshold': pd.Series(thresholdNN, index=i)})\n",
    "roc_t = roc.iloc[(roc.tf-0).abs().argsort()[:1]]\n",
    "print('Best thresh:', list(roc_t['threshold']))"
   ]
  },
  {
   "cell_type": "code",
   "execution_count": null,
   "metadata": {},
   "outputs": [],
   "source": [
    "preds = (probs >= 0.2982158958911896)"
   ]
  },
  {
   "cell_type": "code",
   "execution_count": null,
   "metadata": {},
   "outputs": [],
   "source": [
    "print(accuracy_score(y_test, preds))\n",
    "print(f1_score(y_test, preds))\n",
    "print(confusion_matrix(y_test, preds))"
   ]
  },
  {
   "cell_type": "markdown",
   "metadata": {},
   "source": [
    "## Let's play around tuning estimators' params"
   ]
  },
  {
   "cell_type": "code",
   "execution_count": null,
   "metadata": {},
   "outputs": [],
   "source": [
    "from sklearn.model_selection import GridSearchCV"
   ]
  },
  {
   "cell_type": "markdown",
   "metadata": {},
   "source": [
    "### Grid search for SVM"
   ]
  },
  {
   "cell_type": "code",
   "execution_count": null,
   "metadata": {},
   "outputs": [],
   "source": [
    "### for SVM\n",
    "params = {\n",
    "    'C': [0.1, 0.8, 0.9, 1, 1.1, 1.2, 1.3, 1.4],\n",
    "    'kernel': ['linear', 'rbf'],\n",
    "    'gamma': [0.1, 0.8, 0.9, 1, 1.1, 1.2, 1.3, 1.4]\n",
    "}"
   ]
  },
  {
   "cell_type": "code",
   "execution_count": null,
   "metadata": {},
   "outputs": [],
   "source": [
    "gridSVM = GridSearchCV(modelSVC, param_grid=params, scoring='accuracy', cv=10)"
   ]
  },
  {
   "cell_type": "code",
   "execution_count": null,
   "metadata": {},
   "outputs": [],
   "source": [
    "gridSVM.fit(X, y)"
   ]
  },
  {
   "cell_type": "code",
   "execution_count": null,
   "metadata": {},
   "outputs": [],
   "source": [
    "gridSVM.best_params_"
   ]
  },
  {
   "cell_type": "code",
   "execution_count": null,
   "metadata": {},
   "outputs": [],
   "source": [
    "modelSVC = SVC(random_state=0, kernel='rbf', probability=True, C=1.1, gamma=0.1)\n",
    "modelSVC.fit(X_train, y_train)\n",
    "preds = modelSVC.predict(X_test)\n",
    "print(classification_report(y_test, preds))\n",
    "print(confusion_matrix(y_test, preds))"
   ]
  },
  {
   "cell_type": "code",
   "execution_count": null,
   "metadata": {},
   "outputs": [],
   "source": [
    "probs = modelSVC.predict_proba(X_test)\n",
    "probs = probs[:, 1]"
   ]
  },
  {
   "cell_type": "code",
   "execution_count": null,
   "metadata": {},
   "outputs": [],
   "source": [
    "fprSVM, tprSVM, thresholdSVM = roc_curve(y_test, probs, pos_label=1)"
   ]
  },
  {
   "cell_type": "code",
   "execution_count": null,
   "metadata": {},
   "outputs": [],
   "source": [
    "print(\"AUC:\", auc(fprSVM, tprSVM))"
   ]
  },
  {
   "cell_type": "code",
   "execution_count": null,
   "metadata": {},
   "outputs": [],
   "source": [
    "i = np.arange(len(tprSVM))\n",
    "roc = pd.DataFrame({'tf': pd.Series(tprSVM-(1-fprSVM), index=i), 'threshold': pd.Series(thresholdSVM, index=i)})\n",
    "roc_t = roc.iloc[(roc.tf-0).abs().argsort()[:1]]\n",
    "print('Best thresh:', list(roc_t['threshold']))"
   ]
  },
  {
   "cell_type": "code",
   "execution_count": null,
   "metadata": {},
   "outputs": [],
   "source": [
    "preds = (probs >= 0.19456617888293143)\n",
    "print(accuracy_score(y_test, preds))\n",
    "print(f1_score(y_test, preds))\n",
    "print(confusion_matrix(y_test, preds))\n",
    "\"\"\"\n",
    "    what is more important to you? to correctly classify those who will die or those who will survive?\n",
    "\"\"\""
   ]
  },
  {
   "cell_type": "markdown",
   "metadata": {},
   "source": [
    "### Grid search for LR"
   ]
  },
  {
   "cell_type": "code",
   "execution_count": null,
   "metadata": {},
   "outputs": [],
   "source": [
    "### for LR\n",
    "params = {\n",
    "    'C': np.logspace(-4, 4, 20),\n",
    "}"
   ]
  },
  {
   "cell_type": "code",
   "execution_count": null,
   "metadata": {},
   "outputs": [],
   "source": [
    "gridLR = GridSearchCV(modelLR, param_grid=params, scoring='accuracy', cv=10)"
   ]
  },
  {
   "cell_type": "code",
   "execution_count": null,
   "metadata": {},
   "outputs": [],
   "source": [
    "gridLR.fit(X, y)"
   ]
  },
  {
   "cell_type": "code",
   "execution_count": null,
   "metadata": {},
   "outputs": [],
   "source": [
    "gridLR.best_params_"
   ]
  },
  {
   "cell_type": "code",
   "execution_count": null,
   "metadata": {},
   "outputs": [],
   "source": [
    "modelLR = LogisticRegression(random_state=0, C=0.08858667904100823)\n",
    "modelLR.fit(X_train, y_train)\n",
    "preds = modelLR.predict(X_test)\n",
    "print(classification_report(y_test, preds))\n",
    "print(confusion_matrix(y_test, preds))"
   ]
  },
  {
   "cell_type": "code",
   "execution_count": null,
   "metadata": {},
   "outputs": [],
   "source": [
    "probs = modelLR.predict_proba(X_test)\n",
    "probs = probs[:, 1]"
   ]
  },
  {
   "cell_type": "code",
   "execution_count": null,
   "metadata": {},
   "outputs": [],
   "source": [
    "fprLR, tprLR, thresholdLR = roc_curve(y_test, probs, pos_label=1)"
   ]
  },
  {
   "cell_type": "code",
   "execution_count": null,
   "metadata": {},
   "outputs": [],
   "source": [
    "print(\"AUC:\", auc(fprLR, tprLR))"
   ]
  },
  {
   "cell_type": "code",
   "execution_count": null,
   "metadata": {},
   "outputs": [],
   "source": [
    "i = np.arange(len(tprLR))\n",
    "roc = pd.DataFrame({'tf': pd.Series(tprLR-(1-fprLR), index=i), 'threshold': pd.Series(thresholdLR, index=i)})\n",
    "roc_t = roc.iloc[(roc.tf-0).abs().argsort()[:1]]\n",
    "print('Best thresh:', list(roc_t['threshold']))"
   ]
  },
  {
   "cell_type": "code",
   "execution_count": null,
   "metadata": {},
   "outputs": [],
   "source": [
    "preds = (probs >= 0.3578465355584938)\n",
    "print(accuracy_score(y_test, preds))\n",
    "print(f1_score(y_test, preds))\n",
    "print(confusion_matrix(y_test, preds))"
   ]
  },
  {
   "cell_type": "markdown",
   "metadata": {},
   "source": [
    "### Grid search for RF"
   ]
  },
  {
   "cell_type": "code",
   "execution_count": null,
   "metadata": {},
   "outputs": [],
   "source": [
    "### for RF\n",
    "params = {\n",
    "    'n_estimators': list(range(150,250,10)),\n",
    "    #'max_features': list(range(5,10,1)),\n",
    "    'max_depth': list(range(5, 20, 5))\n",
    "}"
   ]
  },
  {
   "cell_type": "code",
   "execution_count": null,
   "metadata": {},
   "outputs": [],
   "source": [
    "gridRF = GridSearchCV(modelRF, param_grid=params, scoring='accuracy', cv=10)\n",
    "gridRF.fit(X, y)\n",
    "print(gridRF.best_params_)"
   ]
  },
  {
   "cell_type": "code",
   "execution_count": null,
   "metadata": {},
   "outputs": [],
   "source": [
    "modelRF = RandomForestClassifier(random_state=0, max_depth=10, n_estimators=200)\n",
    "modelRF.fit(X_train, y_train)\n",
    "preds = modelRF.predict(X_test)\n",
    "print(classification_report(y_test, preds))\n",
    "print(confusion_matrix(y_test, preds))"
   ]
  },
  {
   "cell_type": "code",
   "execution_count": null,
   "metadata": {},
   "outputs": [],
   "source": [
    "probs = modelRF.predict_proba(X_test)\n",
    "probs = probs[:, 1]\n",
    "fprRF, tprRF, thresholdRF = roc_curve(y_test, probs, pos_label=1)\n",
    "print(\"AUC:\", auc(fprRF, tprRF))\n",
    "i = np.arange(len(tprRF))\n",
    "roc = pd.DataFrame({'tf': pd.Series(tprRF-(1-fprRF), index=i), 'threshold': pd.Series(thresholdRF, index=i)})\n",
    "roc_t = roc.iloc[(roc.tf-0).abs().argsort()[:1]]\n",
    "print('Best thresh:', list(roc_t['threshold']))"
   ]
  },
  {
   "cell_type": "code",
   "execution_count": null,
   "metadata": {},
   "outputs": [],
   "source": [
    "preds = (probs >= 0.35645055786394053)\n",
    "print(accuracy_score(y_test, preds))\n",
    "print(f1_score(y_test, preds))\n",
    "print(confusion_matrix(y_test, preds))"
   ]
  },
  {
   "cell_type": "code",
   "execution_count": null,
   "metadata": {},
   "outputs": [],
   "source": [
    "\"\"\"\n",
    "    ON YOUR SUBMISSION TO KAGGLE SUBMIT 2 VERSIONS: ONE THRESHOLDED AND ONE AS IT COMES OUT OF THE BOX\n",
    "\"\"\""
   ]
  },
  {
   "cell_type": "markdown",
   "metadata": {},
   "source": [
    "### Grid search for XGB"
   ]
  },
  {
   "cell_type": "code",
   "execution_count": null,
   "metadata": {},
   "outputs": [],
   "source": [
    "modelXGB.get_params()"
   ]
  },
  {
   "cell_type": "code",
   "execution_count": null,
   "metadata": {},
   "outputs": [],
   "source": [
    "# A parameter grid for XGBoost\n",
    "params = {\n",
    "        'min_child_weight': [1, 5, 10],\n",
    "        'gamma': [0, 0.5, 1, 1.5, 2, 5],\n",
    "        'subsample': [0.6, 0.8, 1.0],\n",
    "        'colsample_bytree': [0.6, 0.8, 1.0],\n",
    "        'n_estimators': [100, 200, 250],\n",
    "        'max_depth': [4, 6, 10, 15]\n",
    "        }"
   ]
  },
  {
   "cell_type": "code",
   "execution_count": null,
   "metadata": {},
   "outputs": [],
   "source": [
    "gridXGB = GridSearchCV(modelXGB, param_grid=params, scoring='accuracy', cv=10)\n",
    "gridXGB.fit(X, y)\n",
    "print(gridXGB.best_params_)"
   ]
  },
  {
   "cell_type": "code",
   "execution_count": null,
   "metadata": {},
   "outputs": [],
   "source": [
    "modelXGB = XGBClassifier(\n",
    "    random_state=0,\n",
    "    colsample_bytree=1.0,\n",
    "    max_depth=6, \n",
    "    n_estimators=250,\n",
    "    gamma=2,\n",
    "    min_child_weight=5,\n",
    "    subsample=0.8\n",
    ")\n",
    "modelXGB.fit(X_train, y_train)\n",
    "preds = modelXGB.predict(X_test)\n",
    "print(classification_report(y_test, preds))\n",
    "print(confusion_matrix(y_test, preds))"
   ]
  },
  {
   "cell_type": "code",
   "execution_count": null,
   "metadata": {},
   "outputs": [],
   "source": [
    "probs = modelXGB.predict_proba(X_test)\n",
    "probs = probs[:, 1]\n",
    "fprXGB, tprXGB, thresholdXGB = roc_curve(y_test, probs, pos_label=1)\n",
    "print(\"AUC:\", auc(fprXGB, tprXGB))\n",
    "i = np.arange(len(tprXGB))\n",
    "roc = pd.DataFrame({'tf': pd.Series(tprXGB-(1-fprXGB), index=i), 'threshold': pd.Series(thresholdXGB, index=i)})\n",
    "roc_t = roc.iloc[(roc.tf-0).abs().argsort()[:1]]\n",
    "print('Best thresh:', list(roc_t['threshold']))"
   ]
  },
  {
   "cell_type": "code",
   "execution_count": null,
   "metadata": {},
   "outputs": [],
   "source": [
    "preds = (probs >= 0.35376712679862976)\n",
    "print(accuracy_score(y_test, preds))\n",
    "print(f1_score(y_test, preds))\n",
    "print(confusion_matrix(y_test, preds))"
   ]
  },
  {
   "cell_type": "markdown",
   "metadata": {},
   "source": [
    "### Let's improve the NN"
   ]
  },
  {
   "cell_type": "code",
   "execution_count": null,
   "metadata": {},
   "outputs": [],
   "source": [
    "\"\"\"\n",
    "+++++++++++ 1 +++++++++++\n",
    "modelNN = keras.Sequential([\n",
    "        layers.Dense(100, activation=tf.nn.relu, input_shape=[input_size,]),\n",
    "        layers.Dense(1, activation=tf.nn.sigmoid)\n",
    "    ])\n",
    "+++++++++++ 2 +++++++++++\n",
    "modelNN = keras.Sequential([\n",
    "    layers.Dense(100, activation=tf.nn.relu, input_shape=[input_size,]),\n",
    "    layers.Dropout(0.2),\n",
    "    layers.Dense(50, activation=tf.nn.relu),\n",
    "    layers.Dropout(0.2),\n",
    "    layers.Dense(1, activation=tf.nn.sigmoid)\n",
    "])\n",
    "+++++++++++ 3 +++++++++++\n",
    "modelNN = keras.Sequential([\n",
    "    layers.Dense(200, activation=tf.nn.relu, input_shape=[input_size,]),\n",
    "    layers.Dropout(0.2),\n",
    "    layers.Dense(100, activation=tf.nn.relu),\n",
    "    layers.Dropout(0.2),\n",
    "    layers.Dense(50, activation=tf.nn.relu),\n",
    "    layers.Dropout(0.2),        \n",
    "    layers.Dense(1, activation=tf.nn.sigmoid)\n",
    "])\n",
    "\n",
    "\"\"\"\n",
    "def createNN(input_size):\n",
    "    modelNN = keras.Sequential([\n",
    "        layers.Dense(200, activation=tf.nn.relu, input_shape=[input_size,]),\n",
    "        layers.Dropout(0.2),\n",
    "        layers.Dense(100, activation=tf.nn.relu),\n",
    "        layers.Dropout(0.2),\n",
    "        layers.Dense(50, activation=tf.nn.relu),\n",
    "        layers.Dropout(0.2),        \n",
    "        layers.Dense(1, activation=tf.nn.sigmoid)\n",
    "    ])\n",
    "    modelNN.compile(loss='binary_crossentropy', \n",
    "                optimizer='adam', \n",
    "                metrics=['accuracy'])\n",
    "    return modelNN"
   ]
  },
  {
   "cell_type": "code",
   "execution_count": null,
   "metadata": {},
   "outputs": [],
   "source": [
    "kFold = StratifiedKFold(n_splits=10, random_state=0, shuffle=True)\n",
    "accs = []\n",
    "early_stopCV = keras.callbacks.EarlyStopping(monitor='accuracy', patience=10)\n",
    "\n",
    "for i, (train_idx, test_idx) in enumerate(kFold.split(X, y)):\n",
    "    print(\"Fold:\", i)\n",
    "    X_trainCV, X_testCV = X.iloc[train_idx], X.iloc[test_idx]\n",
    "    y_trainCV, y_testCV = y.iloc[train_idx], y.iloc[test_idx]\n",
    "\n",
    "    modelNN = createNN(len(X_train.keys()))\n",
    "\n",
    "    modelNN.fit(\n",
    "        X_trainCV,\n",
    "        y_trainCV,\n",
    "        epochs=100,\n",
    "        verbose=0,\n",
    "        callbacks=[early_stopCV]\n",
    "    )\n",
    "\n",
    "    _, acc = modelNN.evaluate(X_testCV, y_testCV, verbose=0)\n",
    "    print('Accuracy:', acc)\n",
    "    accs.append(acc)        \n",
    "    print()\n",
    "print(\"Mean acc:\", np.mean(accs))"
   ]
  },
  {
   "cell_type": "code",
   "execution_count": null,
   "metadata": {},
   "outputs": [],
   "source": [
    "epochs = 100\n",
    "history = modelNN.fit(\n",
    "    X_train,\n",
    "    y_train,\n",
    "    epochs=epochs,\n",
    "    validation_split=0.2,\n",
    "    callbacks=[early_stop]\n",
    ")"
   ]
  },
  {
   "cell_type": "code",
   "execution_count": null,
   "metadata": {},
   "outputs": [],
   "source": [
    "hist = pd.DataFrame(history.history)\n",
    "hist['epoch'] = history.epoch\n",
    "hist.tail()"
   ]
  },
  {
   "cell_type": "code",
   "execution_count": null,
   "metadata": {},
   "outputs": [],
   "source": [
    "plot_history(history)"
   ]
  },
  {
   "cell_type": "code",
   "execution_count": null,
   "metadata": {},
   "outputs": [],
   "source": [
    "loss, acc = modelNN.evaluate(X_test, y_test, verbose=0)\n",
    "print('Accuracy on test set:', acc)"
   ]
  },
  {
   "cell_type": "code",
   "execution_count": null,
   "metadata": {},
   "outputs": [],
   "source": [
    "probs = modelNN.predict(X_test)\n",
    "preds = (probs > 0.5)\n",
    "print(classification_report(y_test, preds))\n",
    "print(confusion_matrix(y_test, preds))"
   ]
  },
  {
   "cell_type": "code",
   "execution_count": null,
   "metadata": {},
   "outputs": [],
   "source": [
    "fprNN, tprNN, thresholdNN = roc_curve(y_test, probs, pos_label=1)\n",
    "print(\"AUC:\", auc(fprNN, tprNN))\n",
    "i = np.arange(len(tprNN))\n",
    "roc = pd.DataFrame({'tf': pd.Series(tprNN-(1-fprNN), index=i), 'threshold': pd.Series(thresholdNN, index=i)})\n",
    "roc_t = roc.iloc[(roc.tf-0).abs().argsort()[:1]]\n",
    "print('Best thresh:', list(roc_t['threshold']))"
   ]
  },
  {
   "cell_type": "code",
   "execution_count": null,
   "metadata": {},
   "outputs": [],
   "source": [
    "preds = (probs >= 0.39237307012081146) ## <=== mid way between best thresh and 0.5, yields good results\n",
    "print(accuracy_score(y_test, preds))\n",
    "print(f1_score(y_test, preds))\n",
    "print(confusion_matrix(y_test, preds))"
   ]
  },
  {
   "cell_type": "code",
   "execution_count": null,
   "metadata": {},
   "outputs": [],
   "source": [
    "((0.5 - 0.2847461402416229) / 2) + 0.2847461402416229"
   ]
  },
  {
   "cell_type": "code",
   "execution_count": null,
   "metadata": {},
   "outputs": [],
   "source": [
    "plt.figure(figsize=(10, 7))\n",
    "plt.plot(fprLR, tprLR)\n",
    "plt.plot(fprSVC, tprSVC)\n",
    "plt.plot(fprRF, tprRF)\n",
    "plt.plot(fprXGB, tprXGB)\n",
    "plt.plot(fprNN, tprNN)\n",
    "plt.legend(['LR','SVC','RF','XGB','NN'])\n",
    "# axis labels\n",
    "plt.xlabel('False Positive Rate')\n",
    "plt.ylabel('True Positive Rate')\n",
    "plt.plot([0, 1], [0, 1])\n",
    "# show the plot\n",
    "plt.show()"
   ]
  },
  {
   "cell_type": "markdown",
   "metadata": {},
   "source": [
    "# Let's work on the test set now"
   ]
  },
  {
   "cell_type": "code",
   "execution_count": null,
   "metadata": {},
   "outputs": [],
   "source": [
    "titanic_test = pd.read_csv('datasets/titanic/test.csv')"
   ]
  },
  {
   "cell_type": "code",
   "execution_count": null,
   "metadata": {},
   "outputs": [],
   "source": [
    "titanic_test.head()"
   ]
  },
  {
   "cell_type": "code",
   "execution_count": null,
   "metadata": {},
   "outputs": [],
   "source": [
    "titanic_test.describe()"
   ]
  },
  {
   "cell_type": "code",
   "execution_count": null,
   "metadata": {},
   "outputs": [],
   "source": [
    "titanic_test.info()"
   ]
  },
  {
   "cell_type": "code",
   "execution_count": null,
   "metadata": {},
   "outputs": [],
   "source": [
    "missing_val_count_by_column = (titanic_test.isnull().sum())\n",
    "print(missing_val_count_by_column[missing_val_count_by_column > 0])"
   ]
  },
  {
   "cell_type": "code",
   "execution_count": null,
   "metadata": {},
   "outputs": [],
   "source": [
    "### do almost same transf on test set's misssing vals\n",
    "titanic_test['Age'] = imputer.transform(titanic_test['Age'].values.reshape(-1, 1))"
   ]
  },
  {
   "cell_type": "code",
   "execution_count": null,
   "metadata": {},
   "outputs": [],
   "source": [
    "### Q: CAN WE ASSUME THAT THE DIST OF AGES IN TRAIN SET IS THE SAME AS IN TEST SET? \n",
    "### I.E. SAME TRASNFORMATIONS CAN BE APPLIED?\n",
    "titanic_test[titanic_test['Fare'].isnull()]"
   ]
  },
  {
   "cell_type": "code",
   "execution_count": null,
   "metadata": {},
   "outputs": [],
   "source": [
    "titanic_test.at[152, 'Fare'] = 14.454200 \n",
    "### we are imputing w the median, \n",
    "### the mean differs too much from this val this is because the dist is skewed\n",
    "### if we imputed w the mean, maybe a diff prediction would result and thus another acc"
   ]
  },
  {
   "cell_type": "code",
   "execution_count": null,
   "metadata": {},
   "outputs": [],
   "source": [
    "### Drop unnecessary cols\n",
    "passenger_ids = titanic_test['PassengerId']\n",
    "unnecessary_cols = ['PassengerId', 'Name', 'Ticket', 'Cabin']\n",
    "titanic_test.drop(unnecessary_cols, inplace=True, axis=1)\n",
    "titanic_test = pd.get_dummies(titanic_test)"
   ]
  },
  {
   "cell_type": "code",
   "execution_count": null,
   "metadata": {},
   "outputs": [],
   "source": [
    "titanic_test.head()"
   ]
  },
  {
   "cell_type": "code",
   "execution_count": null,
   "metadata": {},
   "outputs": [],
   "source": [
    "X.head()"
   ]
  },
  {
   "cell_type": "code",
   "execution_count": null,
   "metadata": {},
   "outputs": [],
   "source": [
    "### scale num vars in test set\n",
    "titanic_test['Age'] = ageSC.transform(titanic_test['Age'].values.reshape(-1, 1))\n",
    "titanic_test['Fare'] = ptFare.transform(titanic_test['Fare'].values.reshape(-1, 1))"
   ]
  },
  {
   "cell_type": "code",
   "execution_count": null,
   "metadata": {},
   "outputs": [],
   "source": [
    "plt.figure(figsize=(10, 5))\n",
    "sns.distplot(titanic_test['Age'])\n",
    "plt.show()"
   ]
  },
  {
   "cell_type": "code",
   "execution_count": null,
   "metadata": {},
   "outputs": [],
   "source": [
    "plt.figure(figsize=(10, 5))\n",
    "sns.distplot(titanic_test['Fare'])\n",
    "plt.show()"
   ]
  },
  {
   "cell_type": "code",
   "execution_count": null,
   "metadata": {},
   "outputs": [],
   "source": [
    "titanic_test.head()"
   ]
  },
  {
   "cell_type": "markdown",
   "metadata": {},
   "source": [
    "#### Up to here, the test set is ready for prediction"
   ]
  },
  {
   "cell_type": "code",
   "execution_count": null,
   "metadata": {},
   "outputs": [],
   "source": [
    "preds = modelRF.predict(titanic_test)"
   ]
  },
  {
   "cell_type": "code",
   "execution_count": null,
   "metadata": {},
   "outputs": [],
   "source": [
    "outputRF = pd.DataFrame({'PassengerId': passenger_ids, 'Survived': preds})"
   ]
  },
  {
   "cell_type": "code",
   "execution_count": null,
   "metadata": {},
   "outputs": [],
   "source": [
    "outputRF.head()"
   ]
  },
  {
   "cell_type": "code",
   "execution_count": null,
   "metadata": {},
   "outputs": [],
   "source": [
    "outputRF.shape"
   ]
  },
  {
   "cell_type": "code",
   "execution_count": null,
   "metadata": {},
   "outputs": [],
   "source": [
    "outputRF.to_csv('results/titanic_sub_rf.csv', index=False)"
   ]
  },
  {
   "cell_type": "code",
   "execution_count": null,
   "metadata": {},
   "outputs": [],
   "source": [
    "preds = modelXGB.predict(titanic_test)\n",
    "outputXGB = pd.DataFrame({'PassengerId': passenger_ids, 'Survived': preds})\n",
    "outputXGB.to_csv('results/titanic_sub_xgb.csv', index=False)"
   ]
  },
  {
   "cell_type": "code",
   "execution_count": null,
   "metadata": {},
   "outputs": [],
   "source": [
    "probs = modelNN.predict(titanic_test)\n",
    "preds = []\n",
    "for proba in probs:\n",
    "    if proba >= 0.5:\n",
    "        preds.append(1)\n",
    "    else:\n",
    "        preds.append(0)"
   ]
  },
  {
   "cell_type": "code",
   "execution_count": null,
   "metadata": {},
   "outputs": [],
   "source": [
    "outputNN = pd.DataFrame({'PassengerId': passenger_ids, 'Survived': preds})\n",
    "outputNN.to_csv('results/titanic_sub_nn.csv', index=False)"
   ]
  },
  {
   "cell_type": "markdown",
   "metadata": {},
   "source": [
    "### Submit those 3 files to Kaggle. They were generated without thresholding the model's output"
   ]
  }
 ],
 "metadata": {
  "kernelspec": {
   "display_name": "Python 3",
   "language": "python",
   "name": "python3"
  },
  "language_info": {
   "codemirror_mode": {
    "name": "ipython",
    "version": 3
   },
   "file_extension": ".py",
   "mimetype": "text/x-python",
   "name": "python",
   "nbconvert_exporter": "python",
   "pygments_lexer": "ipython3",
   "version": "3.5.2"
  }
 },
 "nbformat": 4,
 "nbformat_minor": 2
}
