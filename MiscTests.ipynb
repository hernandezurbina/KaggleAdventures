{
 "cells": [
  {
   "cell_type": "code",
   "execution_count": 7,
   "metadata": {},
   "outputs": [],
   "source": [
    "l = [(\"a\", 2), (\"s\", 2), (\"d\", 1)]"
   ]
  },
  {
   "cell_type": "code",
   "execution_count": 15,
   "metadata": {},
   "outputs": [],
   "source": [
    "ans = 0\n",
    "for i in l:\n",
    "    #print((i[1] * (i[1] + 1)))\n",
    "    ans += (i[1] * (i[1] + 1)) // 2"
   ]
  },
  {
   "cell_type": "code",
   "execution_count": 16,
   "metadata": {},
   "outputs": [
    {
     "data": {
      "text/plain": [
       "7"
      ]
     },
     "execution_count": 16,
     "metadata": {},
     "output_type": "execute_result"
    }
   ],
   "source": [
    "ans"
   ]
  },
  {
   "cell_type": "code",
   "execution_count": 21,
   "metadata": {},
   "outputs": [
    {
     "name": "stdout",
     "output_type": "stream",
     "text": [
      "1 a d 2\n"
     ]
    }
   ],
   "source": [
    "for i in range(1, len(l) - 1):\n",
    "    print(i, l[i - 1][0], l[i + 1][0], l[i][1])\n",
    "    if l[i - 1][0] == l[i + 1][0] and l[i][1] == 1:\n",
    "        ans += min(l[i - 1][1], l[i + 1][1])"
   ]
  },
  {
   "cell_type": "code",
   "execution_count": 18,
   "metadata": {},
   "outputs": [
    {
     "data": {
      "text/plain": [
       "7"
      ]
     },
     "execution_count": 18,
     "metadata": {},
     "output_type": "execute_result"
    }
   ],
   "source": [
    "ans"
   ]
  },
  {
   "cell_type": "code",
   "execution_count": 30,
   "metadata": {},
   "outputs": [],
   "source": [
    "def substrCount(n, s):\n",
    "    l = []\n",
    "    count = 0\n",
    "    cur = None\n",
    "\n",
    "# 1st pass\n",
    "    for i in range(n):\n",
    "        if s[i] == cur:\n",
    "            count += 1\n",
    "        else:\n",
    "            if cur is not None:\n",
    "                l.append((cur, count))\n",
    "            cur = s[i]\n",
    "            count = 1\n",
    "    l.append((cur, count))\n",
    "\n",
    "    ans = 0\n",
    "    print(l)\n",
    "# 2nd pass\n",
    "    for i in l:\n",
    "        ans += (i[1] * (i[1] + 1)) // 2\n",
    "\n",
    "# 3rd pass\n",
    "    for i in range(1, len(l) - 1):\n",
    "        print(i, l[i - 1][0], l[i + 1][0], l[i][1])\n",
    "        if l[i - 1][0] == l[i + 1][0] and l[i][1] == 1:\n",
    "            ans += min(l[i - 1][1], l[i + 1][1])\n",
    "\n",
    "    return ans"
   ]
  },
  {
   "cell_type": "code",
   "execution_count": 39,
   "metadata": {},
   "outputs": [
    {
     "name": "stdout",
     "output_type": "stream",
     "text": [
      "[('m', 1), ('n', 1), ('o', 1), ('n', 1), ('o', 1), ('p', 1), ('o', 2)]\n",
      "1 m o 1\n",
      "2 n n 1\n",
      "3 o o 1\n",
      "4 n p 1\n",
      "5 o o 1\n"
     ]
    },
    {
     "data": {
      "text/plain": [
       "12"
      ]
     },
     "execution_count": 39,
     "metadata": {},
     "output_type": "execute_result"
    }
   ],
   "source": [
    "s = 'mnonopoo'\n",
    "substrCount(len(s), s)"
   ]
  },
  {
   "cell_type": "code",
   "execution_count": null,
   "metadata": {},
   "outputs": [],
   "source": []
  }
 ],
 "metadata": {
  "kernelspec": {
   "display_name": "Python 3",
   "language": "python",
   "name": "python3"
  },
  "language_info": {
   "codemirror_mode": {
    "name": "ipython",
    "version": 3
   },
   "file_extension": ".py",
   "mimetype": "text/x-python",
   "name": "python",
   "nbconvert_exporter": "python",
   "pygments_lexer": "ipython3",
   "version": "3.5.2"
  }
 },
 "nbformat": 4,
 "nbformat_minor": 2
}
